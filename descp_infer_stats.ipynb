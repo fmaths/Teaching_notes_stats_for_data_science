{
 "cells": [
  {
   "cell_type": "markdown",
   "id": "b81b8a17-b47e-40ed-8444-b751e3c89fd5",
   "metadata": {},
   "source": [
    "# BASIC CONCEPTS ON DESCRIPTIVE STATISTICS AND STATISTICAL INFERENCE \n",
    "## Descriptive Analysis\n",
    "Is a branch of statistics that summarises the characteristics of a data set. They are mainly\n",
    "* measures of central tendency\n",
    "* measures of variability(spread/dispersion)\n",
    "* Frequency distribution\n",
    "\n",
    "### Measures of central tendency\n",
    "These refer to numbers that represent the middle of the data. The include **mean(arithmetic), median** and **mode**.\n",
    "\n",
    "$$\\text{mean}, \\bar{x} =\\sum_{i=1}^n \\dfrac{x_i}{n}$$\n",
    "\n",
    "* **mean**: The sum divided by the number of elements\n",
    "* **median** the middle value when the values are arranged logically based on the magnitude\n",
    "* **mode** the most common item\n",
    "  \n",
    "Let us consider the housing data. The data contains the census report of the households grouped in blocks in California. \n",
    "\n",
    "Column details:\n",
    "* **longitute**: A measure of how far west a house is, a higher value is farther west\n",
    "* **latitide**: A measure of how far north a house is; a higher vale is farther north\n",
    "* **housing_median_age**: The median age of a house within a block; a lower number is a new building\n",
    "* **total_rooms**: total number of rooms within a block\n",
    "* **total_bedrooms**: total number of bedrooms within a block\n",
    "* **population**: total number of people residing within a block\n",
    "* **households**: Total number of households, a group of people residing within a home unit, for a block\n",
    "* **median_income**: median income for households within a block of houses(measured in 10,000USD)\n",
    "* **median_house_value**: median house value for households within a block(in USD)\n",
    "* **ocean_Proximity**: Location of the house of the ocean or sea\n",
    "t ocean/sea\n"
   ]
  },
  {
   "cell_type": "code",
   "execution_count": 1,
   "id": "01e5c009-6c3c-470b-b3e5-a77387d5a400",
   "metadata": {},
   "outputs": [],
   "source": [
    "#Load the libraries\n",
    "#ensure that the graphics are displayed in the notebook, we use the magic function below\n",
    "%matplotlib inline \n",
    "import numpy as np\n",
    "import pandas as pd\n",
    "import matplotlib.pyplot as plt\n",
    "from scipy import stats "
   ]
  },
  {
   "cell_type": "code",
   "execution_count": null,
   "id": "79055425-e85f-429d-a21d-bd1b8be12938",
   "metadata": {},
   "outputs": [],
   "source": []
  },
  {
   "cell_type": "code",
   "execution_count": 2,
   "id": "cd7b9867-fac5-4f37-b231-39a16c97333d",
   "metadata": {
    "scrolled": true
   },
   "outputs": [
    {
     "data": {
      "text/html": [
       "<div>\n",
       "<style scoped>\n",
       "    .dataframe tbody tr th:only-of-type {\n",
       "        vertical-align: middle;\n",
       "    }\n",
       "\n",
       "    .dataframe tbody tr th {\n",
       "        vertical-align: top;\n",
       "    }\n",
       "\n",
       "    .dataframe thead th {\n",
       "        text-align: right;\n",
       "    }\n",
       "</style>\n",
       "<table border=\"1\" class=\"dataframe\">\n",
       "  <thead>\n",
       "    <tr style=\"text-align: right;\">\n",
       "      <th></th>\n",
       "      <th>longitude</th>\n",
       "      <th>latitude</th>\n",
       "      <th>housing_median_age</th>\n",
       "      <th>total_rooms</th>\n",
       "      <th>total_bedrooms</th>\n",
       "      <th>population</th>\n",
       "      <th>households</th>\n",
       "      <th>median_income</th>\n",
       "      <th>median_house_value</th>\n",
       "      <th>ocean_proximity</th>\n",
       "    </tr>\n",
       "  </thead>\n",
       "  <tbody>\n",
       "    <tr>\n",
       "      <th>0</th>\n",
       "      <td>-122.23</td>\n",
       "      <td>37.88</td>\n",
       "      <td>41.0</td>\n",
       "      <td>880.0</td>\n",
       "      <td>129.0</td>\n",
       "      <td>322.0</td>\n",
       "      <td>126.0</td>\n",
       "      <td>8.3252</td>\n",
       "      <td>452600.0</td>\n",
       "      <td>NEAR BAY</td>\n",
       "    </tr>\n",
       "    <tr>\n",
       "      <th>1</th>\n",
       "      <td>-122.22</td>\n",
       "      <td>37.86</td>\n",
       "      <td>21.0</td>\n",
       "      <td>7099.0</td>\n",
       "      <td>1106.0</td>\n",
       "      <td>2401.0</td>\n",
       "      <td>1138.0</td>\n",
       "      <td>8.3014</td>\n",
       "      <td>358500.0</td>\n",
       "      <td>NEAR BAY</td>\n",
       "    </tr>\n",
       "    <tr>\n",
       "      <th>2</th>\n",
       "      <td>-122.24</td>\n",
       "      <td>37.85</td>\n",
       "      <td>52.0</td>\n",
       "      <td>1467.0</td>\n",
       "      <td>190.0</td>\n",
       "      <td>496.0</td>\n",
       "      <td>177.0</td>\n",
       "      <td>7.2574</td>\n",
       "      <td>352100.0</td>\n",
       "      <td>NEAR BAY</td>\n",
       "    </tr>\n",
       "    <tr>\n",
       "      <th>3</th>\n",
       "      <td>-122.25</td>\n",
       "      <td>37.85</td>\n",
       "      <td>52.0</td>\n",
       "      <td>1274.0</td>\n",
       "      <td>235.0</td>\n",
       "      <td>558.0</td>\n",
       "      <td>219.0</td>\n",
       "      <td>5.6431</td>\n",
       "      <td>341300.0</td>\n",
       "      <td>NEAR BAY</td>\n",
       "    </tr>\n",
       "    <tr>\n",
       "      <th>4</th>\n",
       "      <td>-122.25</td>\n",
       "      <td>37.85</td>\n",
       "      <td>52.0</td>\n",
       "      <td>1627.0</td>\n",
       "      <td>280.0</td>\n",
       "      <td>565.0</td>\n",
       "      <td>259.0</td>\n",
       "      <td>3.8462</td>\n",
       "      <td>342200.0</td>\n",
       "      <td>NEAR BAY</td>\n",
       "    </tr>\n",
       "  </tbody>\n",
       "</table>\n",
       "</div>"
      ],
      "text/plain": [
       "   longitude  latitude  housing_median_age  total_rooms  total_bedrooms  \\\n",
       "0    -122.23     37.88                41.0        880.0           129.0   \n",
       "1    -122.22     37.86                21.0       7099.0          1106.0   \n",
       "2    -122.24     37.85                52.0       1467.0           190.0   \n",
       "3    -122.25     37.85                52.0       1274.0           235.0   \n",
       "4    -122.25     37.85                52.0       1627.0           280.0   \n",
       "\n",
       "   population  households  median_income  median_house_value ocean_proximity  \n",
       "0       322.0       126.0         8.3252            452600.0        NEAR BAY  \n",
       "1      2401.0      1138.0         8.3014            358500.0        NEAR BAY  \n",
       "2       496.0       177.0         7.2574            352100.0        NEAR BAY  \n",
       "3       558.0       219.0         5.6431            341300.0        NEAR BAY  \n",
       "4       565.0       259.0         3.8462            342200.0        NEAR BAY  "
      ]
     },
     "execution_count": 2,
     "metadata": {},
     "output_type": "execute_result"
    }
   ],
   "source": [
    "housing_data=pd.read_csv('housing.csv')\n",
    "housing_data.head() ##see the first 2 rows"
   ]
  },
  {
   "cell_type": "code",
   "execution_count": 3,
   "id": "acfba343-af32-4337-bca8-9399fc8afeb5",
   "metadata": {},
   "outputs": [
    {
     "data": {
      "text/plain": [
       "(20640, 10)"
      ]
     },
     "execution_count": 3,
     "metadata": {},
     "output_type": "execute_result"
    }
   ],
   "source": [
    "housing_data.shape #dimension"
   ]
  },
  {
   "cell_type": "code",
   "execution_count": 4,
   "id": "474c5ed1-ae62-4074-a4fb-bf195abbed94",
   "metadata": {},
   "outputs": [
    {
     "data": {
      "text/plain": [
       "10"
      ]
     },
     "execution_count": 4,
     "metadata": {},
     "output_type": "execute_result"
    }
   ],
   "source": [
    "housing_data.shape[1]"
   ]
  },
  {
   "cell_type": "code",
   "execution_count": null,
   "id": "18f4b837-4960-45c6-b83c-66afc44efcf2",
   "metadata": {},
   "outputs": [],
   "source": []
  },
  {
   "cell_type": "code",
   "execution_count": 5,
   "id": "e2f681d7-498e-44e3-a42a-8fded908545d",
   "metadata": {
    "scrolled": true
   },
   "outputs": [
    {
     "name": "stdout",
     "output_type": "stream",
     "text": [
      "<class 'pandas.core.frame.DataFrame'>\n",
      "RangeIndex: 20640 entries, 0 to 20639\n",
      "Data columns (total 10 columns):\n",
      " #   Column              Non-Null Count  Dtype  \n",
      "---  ------              --------------  -----  \n",
      " 0   longitude           20640 non-null  float64\n",
      " 1   latitude            20640 non-null  float64\n",
      " 2   housing_median_age  20640 non-null  float64\n",
      " 3   total_rooms         20640 non-null  float64\n",
      " 4   total_bedrooms      20433 non-null  float64\n",
      " 5   population          20640 non-null  float64\n",
      " 6   households          20640 non-null  float64\n",
      " 7   median_income       20640 non-null  float64\n",
      " 8   median_house_value  20640 non-null  float64\n",
      " 9   ocean_proximity     20640 non-null  object \n",
      "dtypes: float64(9), object(1)\n",
      "memory usage: 1.6+ MB\n"
     ]
    }
   ],
   "source": [
    "housing_data.info() #view the data types of the columns"
   ]
  },
  {
   "cell_type": "code",
   "execution_count": 6,
   "id": "d49d74c3-e2ff-4cb8-9940-d004e65f3699",
   "metadata": {},
   "outputs": [],
   "source": [
    "#It is evidet that total_bedrooms columns has missing values(None)"
   ]
  },
  {
   "cell_type": "markdown",
   "id": "5903699d-b693-487b-ab46-1d7db9da68ba",
   "metadata": {},
   "source": [
    "#### slicing"
   ]
  },
  {
   "cell_type": "code",
   "execution_count": 7,
   "id": "46b55e8c-c37f-4958-bcbc-24796479024d",
   "metadata": {},
   "outputs": [
    {
     "data": {
      "text/plain": [
       "(20640,)"
      ]
     },
     "execution_count": 7,
     "metadata": {},
     "output_type": "execute_result"
    }
   ],
   "source": [
    "#get data for one row\n",
    "housing_data['total_rooms'].shape #this is a Pandas series, 1 dimensional, 1 dimension"
   ]
  },
  {
   "cell_type": "code",
   "execution_count": 8,
   "id": "911e7339-4cd7-4065-b747-b71047b47c54",
   "metadata": {},
   "outputs": [
    {
     "data": {
      "text/plain": [
       "0     880.0\n",
       "1    7099.0\n",
       "Name: total_rooms, dtype: float64"
      ]
     },
     "execution_count": 8,
     "metadata": {},
     "output_type": "execute_result"
    }
   ],
   "source": [
    "housing_data.total_rooms.head(2) # we can also get the above series using the dot notation, 1 dimension"
   ]
  },
  {
   "cell_type": "code",
   "execution_count": 9,
   "id": "fee2f251-eee8-46d0-8abf-0a2d136f9c23",
   "metadata": {},
   "outputs": [
    {
     "data": {
      "text/html": [
       "<div>\n",
       "<style scoped>\n",
       "    .dataframe tbody tr th:only-of-type {\n",
       "        vertical-align: middle;\n",
       "    }\n",
       "\n",
       "    .dataframe tbody tr th {\n",
       "        vertical-align: top;\n",
       "    }\n",
       "\n",
       "    .dataframe thead th {\n",
       "        text-align: right;\n",
       "    }\n",
       "</style>\n",
       "<table border=\"1\" class=\"dataframe\">\n",
       "  <thead>\n",
       "    <tr style=\"text-align: right;\">\n",
       "      <th></th>\n",
       "      <th>total_rooms</th>\n",
       "    </tr>\n",
       "  </thead>\n",
       "  <tbody>\n",
       "    <tr>\n",
       "      <th>0</th>\n",
       "      <td>880.0</td>\n",
       "    </tr>\n",
       "  </tbody>\n",
       "</table>\n",
       "</div>"
      ],
      "text/plain": [
       "   total_rooms\n",
       "0        880.0"
      ]
     },
     "execution_count": 9,
     "metadata": {},
     "output_type": "execute_result"
    }
   ],
   "source": [
    "housing_data[['total_rooms']].head(1)  # this makes it possible to be two dimensional "
   ]
  },
  {
   "cell_type": "code",
   "execution_count": 10,
   "id": "b4570cbc-67e3-4af4-811d-23aad54957e5",
   "metadata": {},
   "outputs": [
    {
     "data": {
      "text/html": [
       "<div>\n",
       "<style scoped>\n",
       "    .dataframe tbody tr th:only-of-type {\n",
       "        vertical-align: middle;\n",
       "    }\n",
       "\n",
       "    .dataframe tbody tr th {\n",
       "        vertical-align: top;\n",
       "    }\n",
       "\n",
       "    .dataframe thead th {\n",
       "        text-align: right;\n",
       "    }\n",
       "</style>\n",
       "<table border=\"1\" class=\"dataframe\">\n",
       "  <thead>\n",
       "    <tr style=\"text-align: right;\">\n",
       "      <th></th>\n",
       "      <th>total_rooms</th>\n",
       "      <th>total_bedrooms</th>\n",
       "      <th>population</th>\n",
       "    </tr>\n",
       "  </thead>\n",
       "  <tbody>\n",
       "    <tr>\n",
       "      <th>0</th>\n",
       "      <td>880.0</td>\n",
       "      <td>129.0</td>\n",
       "      <td>322.0</td>\n",
       "    </tr>\n",
       "    <tr>\n",
       "      <th>1</th>\n",
       "      <td>7099.0</td>\n",
       "      <td>1106.0</td>\n",
       "      <td>2401.0</td>\n",
       "    </tr>\n",
       "  </tbody>\n",
       "</table>\n",
       "</div>"
      ],
      "text/plain": [
       "   total_rooms  total_bedrooms  population\n",
       "0        880.0           129.0       322.0\n",
       "1       7099.0          1106.0      2401.0"
      ]
     },
     "execution_count": 10,
     "metadata": {},
     "output_type": "execute_result"
    }
   ],
   "source": [
    "##select many columns\n",
    "housing_data[['total_rooms','total_bedrooms','population']].head(2)"
   ]
  },
  {
   "cell_type": "code",
   "execution_count": 11,
   "id": "60211519-d4fc-43fb-af97-73489340f621",
   "metadata": {},
   "outputs": [
    {
     "data": {
      "text/html": [
       "<div>\n",
       "<style scoped>\n",
       "    .dataframe tbody tr th:only-of-type {\n",
       "        vertical-align: middle;\n",
       "    }\n",
       "\n",
       "    .dataframe tbody tr th {\n",
       "        vertical-align: top;\n",
       "    }\n",
       "\n",
       "    .dataframe thead th {\n",
       "        text-align: right;\n",
       "    }\n",
       "</style>\n",
       "<table border=\"1\" class=\"dataframe\">\n",
       "  <thead>\n",
       "    <tr style=\"text-align: right;\">\n",
       "      <th></th>\n",
       "      <th>longitude</th>\n",
       "      <th>latitude</th>\n",
       "      <th>housing_median_age</th>\n",
       "      <th>total_rooms</th>\n",
       "      <th>total_bedrooms</th>\n",
       "    </tr>\n",
       "  </thead>\n",
       "  <tbody>\n",
       "    <tr>\n",
       "      <th>0</th>\n",
       "      <td>-122.23</td>\n",
       "      <td>37.88</td>\n",
       "      <td>41.0</td>\n",
       "      <td>880.0</td>\n",
       "      <td>129.0</td>\n",
       "    </tr>\n",
       "    <tr>\n",
       "      <th>1</th>\n",
       "      <td>-122.22</td>\n",
       "      <td>37.86</td>\n",
       "      <td>21.0</td>\n",
       "      <td>7099.0</td>\n",
       "      <td>1106.0</td>\n",
       "    </tr>\n",
       "    <tr>\n",
       "      <th>2</th>\n",
       "      <td>-122.24</td>\n",
       "      <td>37.85</td>\n",
       "      <td>52.0</td>\n",
       "      <td>1467.0</td>\n",
       "      <td>190.0</td>\n",
       "    </tr>\n",
       "  </tbody>\n",
       "</table>\n",
       "</div>"
      ],
      "text/plain": [
       "   longitude  latitude  housing_median_age  total_rooms  total_bedrooms\n",
       "0    -122.23     37.88                41.0        880.0           129.0\n",
       "1    -122.22     37.86                21.0       7099.0          1106.0\n",
       "2    -122.24     37.85                52.0       1467.0           190.0"
      ]
     },
     "execution_count": 11,
     "metadata": {},
     "output_type": "execute_result"
    }
   ],
   "source": [
    "# using .loc and iloc. iloc selects rows and columns by using integer positions while loc is by labels\n",
    "housing_data.iloc[0:3,0:5] # seleacts all rows elements for the column 0,1,2,and 3"
   ]
  },
  {
   "cell_type": "code",
   "execution_count": 12,
   "id": "2c970401-378e-4239-9738-69505efae385",
   "metadata": {},
   "outputs": [
    {
     "data": {
      "text/html": [
       "<div>\n",
       "<style scoped>\n",
       "    .dataframe tbody tr th:only-of-type {\n",
       "        vertical-align: middle;\n",
       "    }\n",
       "\n",
       "    .dataframe tbody tr th {\n",
       "        vertical-align: top;\n",
       "    }\n",
       "\n",
       "    .dataframe thead th {\n",
       "        text-align: right;\n",
       "    }\n",
       "</style>\n",
       "<table border=\"1\" class=\"dataframe\">\n",
       "  <thead>\n",
       "    <tr style=\"text-align: right;\">\n",
       "      <th></th>\n",
       "      <th>longitude</th>\n",
       "      <th>latitude</th>\n",
       "      <th>housing_median_age</th>\n",
       "      <th>total_rooms</th>\n",
       "      <th>total_bedrooms</th>\n",
       "      <th>population</th>\n",
       "      <th>households</th>\n",
       "      <th>median_income</th>\n",
       "      <th>median_house_value</th>\n",
       "      <th>ocean_proximity</th>\n",
       "    </tr>\n",
       "  </thead>\n",
       "  <tbody>\n",
       "    <tr>\n",
       "      <th>1</th>\n",
       "      <td>-122.22</td>\n",
       "      <td>37.86</td>\n",
       "      <td>21.0</td>\n",
       "      <td>7099.0</td>\n",
       "      <td>1106.0</td>\n",
       "      <td>2401.0</td>\n",
       "      <td>1138.0</td>\n",
       "      <td>8.3014</td>\n",
       "      <td>358500.0</td>\n",
       "      <td>NEAR BAY</td>\n",
       "    </tr>\n",
       "    <tr>\n",
       "      <th>2</th>\n",
       "      <td>-122.24</td>\n",
       "      <td>37.85</td>\n",
       "      <td>52.0</td>\n",
       "      <td>1467.0</td>\n",
       "      <td>190.0</td>\n",
       "      <td>496.0</td>\n",
       "      <td>177.0</td>\n",
       "      <td>7.2574</td>\n",
       "      <td>352100.0</td>\n",
       "      <td>NEAR BAY</td>\n",
       "    </tr>\n",
       "  </tbody>\n",
       "</table>\n",
       "</div>"
      ],
      "text/plain": [
       "   longitude  latitude  housing_median_age  total_rooms  total_bedrooms  \\\n",
       "1    -122.22     37.86                21.0       7099.0          1106.0   \n",
       "2    -122.24     37.85                52.0       1467.0           190.0   \n",
       "\n",
       "   population  households  median_income  median_house_value ocean_proximity  \n",
       "1      2401.0      1138.0         8.3014            358500.0        NEAR BAY  \n",
       "2       496.0       177.0         7.2574            352100.0        NEAR BAY  "
      ]
     },
     "execution_count": 12,
     "metadata": {},
     "output_type": "execute_result"
    }
   ],
   "source": [
    "housing_data.loc[1:2] #selects the row 2 to 3"
   ]
  },
  {
   "cell_type": "code",
   "execution_count": 13,
   "id": "a9ce6b34-c588-49fb-985d-0989dd94d502",
   "metadata": {},
   "outputs": [
    {
     "data": {
      "text/html": [
       "<div>\n",
       "<style scoped>\n",
       "    .dataframe tbody tr th:only-of-type {\n",
       "        vertical-align: middle;\n",
       "    }\n",
       "\n",
       "    .dataframe tbody tr th {\n",
       "        vertical-align: top;\n",
       "    }\n",
       "\n",
       "    .dataframe thead th {\n",
       "        text-align: right;\n",
       "    }\n",
       "</style>\n",
       "<table border=\"1\" class=\"dataframe\">\n",
       "  <thead>\n",
       "    <tr style=\"text-align: right;\">\n",
       "      <th></th>\n",
       "      <th>longitude</th>\n",
       "      <th>latitude</th>\n",
       "      <th>housing_median_age</th>\n",
       "      <th>total_rooms</th>\n",
       "      <th>total_bedrooms</th>\n",
       "      <th>population</th>\n",
       "      <th>households</th>\n",
       "      <th>median_income</th>\n",
       "      <th>median_house_value</th>\n",
       "      <th>ocean_proximity</th>\n",
       "    </tr>\n",
       "  </thead>\n",
       "  <tbody>\n",
       "    <tr>\n",
       "      <th>0</th>\n",
       "      <td>-122.23</td>\n",
       "      <td>37.88</td>\n",
       "      <td>41.0</td>\n",
       "      <td>880.0</td>\n",
       "      <td>129.0</td>\n",
       "      <td>322.0</td>\n",
       "      <td>126.0</td>\n",
       "      <td>8.3252</td>\n",
       "      <td>452600.0</td>\n",
       "      <td>NEAR BAY</td>\n",
       "    </tr>\n",
       "    <tr>\n",
       "      <th>1</th>\n",
       "      <td>-122.22</td>\n",
       "      <td>37.86</td>\n",
       "      <td>21.0</td>\n",
       "      <td>7099.0</td>\n",
       "      <td>1106.0</td>\n",
       "      <td>2401.0</td>\n",
       "      <td>1138.0</td>\n",
       "      <td>8.3014</td>\n",
       "      <td>358500.0</td>\n",
       "      <td>NEAR BAY</td>\n",
       "    </tr>\n",
       "    <tr>\n",
       "      <th>2</th>\n",
       "      <td>-122.24</td>\n",
       "      <td>37.85</td>\n",
       "      <td>52.0</td>\n",
       "      <td>1467.0</td>\n",
       "      <td>190.0</td>\n",
       "      <td>496.0</td>\n",
       "      <td>177.0</td>\n",
       "      <td>7.2574</td>\n",
       "      <td>352100.0</td>\n",
       "      <td>NEAR BAY</td>\n",
       "    </tr>\n",
       "    <tr>\n",
       "      <th>3</th>\n",
       "      <td>-122.25</td>\n",
       "      <td>37.85</td>\n",
       "      <td>52.0</td>\n",
       "      <td>1274.0</td>\n",
       "      <td>235.0</td>\n",
       "      <td>558.0</td>\n",
       "      <td>219.0</td>\n",
       "      <td>5.6431</td>\n",
       "      <td>341300.0</td>\n",
       "      <td>NEAR BAY</td>\n",
       "    </tr>\n",
       "  </tbody>\n",
       "</table>\n",
       "</div>"
      ],
      "text/plain": [
       "   longitude  latitude  housing_median_age  total_rooms  total_bedrooms  \\\n",
       "0    -122.23     37.88                41.0        880.0           129.0   \n",
       "1    -122.22     37.86                21.0       7099.0          1106.0   \n",
       "2    -122.24     37.85                52.0       1467.0           190.0   \n",
       "3    -122.25     37.85                52.0       1274.0           235.0   \n",
       "\n",
       "   population  households  median_income  median_house_value ocean_proximity  \n",
       "0       322.0       126.0         8.3252            452600.0        NEAR BAY  \n",
       "1      2401.0      1138.0         8.3014            358500.0        NEAR BAY  \n",
       "2       496.0       177.0         7.2574            352100.0        NEAR BAY  \n",
       "3       558.0       219.0         5.6431            341300.0        NEAR BAY  "
      ]
     },
     "execution_count": 13,
     "metadata": {},
     "output_type": "execute_result"
    }
   ],
   "source": [
    "housing_data.loc[0:3] #selects the first 4 rows"
   ]
  },
  {
   "cell_type": "code",
   "execution_count": 14,
   "id": "cd4e87ff-3879-43f2-8b54-0f0942c8dd95",
   "metadata": {},
   "outputs": [
    {
     "data": {
      "text/html": [
       "<div>\n",
       "<style scoped>\n",
       "    .dataframe tbody tr th:only-of-type {\n",
       "        vertical-align: middle;\n",
       "    }\n",
       "\n",
       "    .dataframe tbody tr th {\n",
       "        vertical-align: top;\n",
       "    }\n",
       "\n",
       "    .dataframe thead th {\n",
       "        text-align: right;\n",
       "    }\n",
       "</style>\n",
       "<table border=\"1\" class=\"dataframe\">\n",
       "  <thead>\n",
       "    <tr style=\"text-align: right;\">\n",
       "      <th></th>\n",
       "      <th>longitude</th>\n",
       "      <th>latitude</th>\n",
       "      <th>housing_median_age</th>\n",
       "      <th>population</th>\n",
       "    </tr>\n",
       "  </thead>\n",
       "  <tbody>\n",
       "    <tr>\n",
       "      <th>0</th>\n",
       "      <td>-122.23</td>\n",
       "      <td>37.88</td>\n",
       "      <td>41.0</td>\n",
       "      <td>322.0</td>\n",
       "    </tr>\n",
       "    <tr>\n",
       "      <th>1</th>\n",
       "      <td>-122.22</td>\n",
       "      <td>37.86</td>\n",
       "      <td>21.0</td>\n",
       "      <td>2401.0</td>\n",
       "    </tr>\n",
       "  </tbody>\n",
       "</table>\n",
       "</div>"
      ],
      "text/plain": [
       "   longitude  latitude  housing_median_age  population\n",
       "0    -122.23     37.88                41.0       322.0\n",
       "1    -122.22     37.86                21.0      2401.0"
      ]
     },
     "execution_count": 14,
     "metadata": {},
     "output_type": "execute_result"
    }
   ],
   "source": [
    "housing_data.iloc[:,np.r_[0:3,5]].head(2) #selects columns that are not following on another"
   ]
  },
  {
   "cell_type": "markdown",
   "id": "3a728091-509e-4b73-af76-fcf49e4d053e",
   "metadata": {},
   "source": [
    "#### Question 1\n",
    "* Find the mean, median and mode population of the blocks\n",
    "* Find the most common total number of rooms in the block"
   ]
  },
  {
   "cell_type": "code",
   "execution_count": 15,
   "id": "fe159ac7-fa88-42ba-afd6-82b5d2d9bcae",
   "metadata": {},
   "outputs": [
    {
     "data": {
      "text/plain": [
       "4759445.105938626"
      ]
     },
     "execution_count": 15,
     "metadata": {},
     "output_type": "execute_result"
    }
   ],
   "source": [
    "housing_data['total_rooms'].var()"
   ]
  },
  {
   "cell_type": "code",
   "execution_count": 16,
   "id": "60ace38d-7068-47d7-b395-29246d2b6cd6",
   "metadata": {},
   "outputs": [
    {
     "name": "stdout",
     "output_type": "stream",
     "text": [
      "mean= 1425.48, median= 1166.0 \n"
     ]
    }
   ],
   "source": [
    "print(\"mean= {}, median= {} \".format(round(housing_data['population'].mean(),2),housing_data['population'].median()))"
   ]
  },
  {
   "cell_type": "code",
   "execution_count": 17,
   "id": "f0f52538-3942-40e6-9887-edeaca172b8e",
   "metadata": {},
   "outputs": [
    {
     "data": {
      "text/plain": [
       "0    1527.0\n",
       "Name: total_rooms, dtype: float64"
      ]
     },
     "execution_count": 17,
     "metadata": {},
     "output_type": "execute_result"
    }
   ],
   "source": [
    "housing_data['total_rooms'].mode()"
   ]
  },
  {
   "cell_type": "code",
   "execution_count": 18,
   "id": "3958ecf9-63d2-49f8-baa7-639e771ec04f",
   "metadata": {},
   "outputs": [
    {
     "data": {
      "text/plain": [
       "[(1527.0, 18)]"
      ]
     },
     "execution_count": 18,
     "metadata": {},
     "output_type": "execute_result"
    }
   ],
   "source": [
    "#use collections module to get the mode\n",
    "from collections import Counter\n",
    "dict_counter=Counter(housing_data['total_rooms'])\n",
    "dict_counter.most_common(1)"
   ]
  },
  {
   "cell_type": "code",
   "execution_count": 19,
   "id": "c09d4bee-9184-499c-ad12-d8e0a765be71",
   "metadata": {},
   "outputs": [
    {
     "name": "stdout",
     "output_type": "stream",
     "text": [
      "Counter({23: 4, 25: 3, 13: 2, 12: 2, 24: 1, 17: 1, 34: 1, 22: 1})\n"
     ]
    }
   ],
   "source": [
    "a=np.array([13,25,25,24,13,12,23,12,17,25,34,23,23,22,23])\n",
    "b=Counter(a)\n",
    "c=Counter(a)\n",
    "print(b)"
   ]
  },
  {
   "cell_type": "code",
   "execution_count": 20,
   "id": "a83e3874-4794-408a-9991-21ef36f62354",
   "metadata": {},
   "outputs": [
    {
     "data": {
      "text/plain": [
       "4"
      ]
     },
     "execution_count": 20,
     "metadata": {},
     "output_type": "execute_result"
    }
   ],
   "source": [
    "b.get(23)"
   ]
  },
  {
   "cell_type": "code",
   "execution_count": 21,
   "id": "d5092bbd-3021-460c-a0c2-7bcd52028644",
   "metadata": {},
   "outputs": [
    {
     "data": {
      "text/plain": [
       "4"
      ]
     },
     "execution_count": 21,
     "metadata": {},
     "output_type": "execute_result"
    }
   ],
   "source": [
    "dict2={}\n",
    "for i in a:\n",
    "    dict2[i]=dict2.get(i,0)+1\n",
    "max(dict2.values())\n",
    "\n"
   ]
  },
  {
   "cell_type": "code",
   "execution_count": 22,
   "id": "c35b58c3-83aa-4e1c-ab01-4d64ea90add8",
   "metadata": {},
   "outputs": [
    {
     "data": {
      "text/plain": [
       "int"
      ]
     },
     "execution_count": 22,
     "metadata": {},
     "output_type": "execute_result"
    }
   ],
   "source": [
    "# use the dictionary to get the mode. Create the dictionary and get the most common\n",
    "dict1={}\n",
    "for number in housing_data['total_rooms']:\n",
    "    dict1[number]=dict1.get(number,0)+1\n",
    "high_frequency=max(dict1.values())\n",
    "type(high_frequency)"
   ]
  },
  {
   "cell_type": "code",
   "execution_count": 23,
   "id": "4064cf38-7a38-4022-bcf7-ec769078a219",
   "metadata": {},
   "outputs": [
    {
     "name": "stdout",
     "output_type": "stream",
     "text": [
      "1527.0\n"
     ]
    }
   ],
   "source": [
    "#Use for loop extract the key with the highest value given the dictionary value\n",
    "for k,v in dict1.items():\n",
    "    if dict1[k]== high_frequency:\n",
    "        print(k)"
   ]
  },
  {
   "cell_type": "code",
   "execution_count": 24,
   "id": "a5d7b87c-56a4-42c8-b8b8-7794ba61de1e",
   "metadata": {},
   "outputs": [
    {
     "name": "stdout",
     "output_type": "stream",
     "text": [
      "18\n",
      "[1527.0]\n"
     ]
    }
   ],
   "source": [
    "#Use list comprehension to print the key(total rooms) with the highest frequency\n",
    "most_frequent=[k for k,v in dict1.items() if dict1[k]==high_frequency] \n",
    "print(high_frequency)\n",
    "print(most_frequent)"
   ]
  },
  {
   "cell_type": "markdown",
   "id": "4b8ae416-b343-4d21-b172-942ac50b2cda",
   "metadata": {},
   "source": [
    "### Measures of dispersion\n",
    "\n",
    "* **Range**: How far is a spread of values between the largest and the smallest one; It is the difference between the highest value and the lowest value in the data\n",
    "* **quartiles**: values that divide logically arranged data into four parts with the same number of items. The data must be arranged in ascending order\n",
    "    * *1st quartile*, the value between the first and the second quarters\n",
    "    * *2nd quartile* is the value between the second and third quarters. This is the median\n",
    "    * *3rd quartile*, the value between the third and the fourth quarters\n",
    "* **percentile**: values that divide logically arranged data into 100 parts with the same number of items. The data must be arranged in ascending order\n",
    "* **Interquartile range**: the difference between the 1st and third quartile\n",
    "* **Standard deviation**: A measure of distribution of data around the mean.\n",
    "* **Variance**: Is a measure of how data points vary from the mean. This is closely related to the standard deviation. Both standard deviation and variance almost represent a similar concept but are used differently in application.\n",
    "* **Kurtosis,*k***: Is a measure of how tailed(peaked) the distribution is with respect to the normal distribution. For a normal distribution, *k=3*. When *k>3* the distribution has thin bell a high peak(**Leptokurtic**) and when *k<3* the distribution has a thick bell with a low peak  peaked(**platykurtic**)  \n",
    "* **Skewness,s**: The measure of symmetrical behavior of a distribution. For a normal distribution, *s=0*. When the distribution is skewed to the left, **negatively skewed** , (the long tail is to the left), *$s < 0$* and when the distribution is skewed to the right **positively skewed** (the long tail is to the right), *$s > 0$*  "
   ]
  },
  {
   "cell_type": "markdown",
   "id": "dbc48bf8-0eee-4ade-9882-c93df2ade5df",
   "metadata": {},
   "source": [
    "#### Question 2\n",
    "* Find the range of the number of rooms among the blocks\n",
    "* Find the quartiles and the inter-quartile range of the number of rooms among the blocks\n",
    "* Find the lowest value of the median income of the 5% top highest earners in the blocks\n",
    "* Find the variance and standard deviation of the median income among the blocks\n",
    "* Find the kurtosis and skewness of the distribution of the median income"
   ]
  },
  {
   "cell_type": "code",
   "execution_count": 25,
   "id": "fa4fa61a-41a6-46db-9385-ad95ad20a81b",
   "metadata": {},
   "outputs": [
    {
     "data": {
      "text/plain": [
       "Index(['longitude', 'latitude', 'housing_median_age', 'total_rooms',\n",
       "       'total_bedrooms', 'population', 'households', 'median_income',\n",
       "       'median_house_value', 'ocean_proximity'],\n",
       "      dtype='object')"
      ]
     },
     "execution_count": 25,
     "metadata": {},
     "output_type": "execute_result"
    }
   ],
   "source": [
    "housing_data.columns"
   ]
  },
  {
   "cell_type": "code",
   "execution_count": 26,
   "id": "2d4653a1-7d82-4a95-9c81-fab886278b1a",
   "metadata": {},
   "outputs": [
    {
     "data": {
      "text/plain": [
       "39318.0"
      ]
     },
     "execution_count": 26,
     "metadata": {},
     "output_type": "execute_result"
    }
   ],
   "source": [
    "#range\n",
    "housing_data['total_rooms'].max() -(housing_data['total_rooms'].min())"
   ]
  },
  {
   "cell_type": "code",
   "execution_count": 27,
   "id": "3afcc79d-7367-40be-98d8-1d398dbd993d",
   "metadata": {},
   "outputs": [
    {
     "name": "stdout",
     "output_type": "stream",
     "text": [
      "q1=1447.75, q2=2127.0, q3=3148.0\n"
     ]
    }
   ],
   "source": [
    "#quartiles\n",
    "q1,q2,q3=np.percentile(housing_data['total_rooms'],[25,50,75]) #this is tuple unpaking, we create tuple on the right then npack it(asign it values on the right)\n",
    "print(\"q1={}, q2={}, q3={}\".format(q1,q2,q3)) "
   ]
  },
  {
   "cell_type": "code",
   "execution_count": 28,
   "id": "5568ade3-469f-4c50-9add-0811b156b989",
   "metadata": {},
   "outputs": [
    {
     "data": {
      "text/plain": [
       "1700.25"
      ]
     },
     "execution_count": 28,
     "metadata": {},
     "output_type": "execute_result"
    }
   ],
   "source": [
    "#interquatile range\n",
    "interq_s=q3-q1\n",
    "interq_s"
   ]
  },
  {
   "cell_type": "code",
   "execution_count": 29,
   "id": "8b1841bb-0950-4ca1-bfe7-daa323b09612",
   "metadata": {},
   "outputs": [
    {
     "data": {
      "text/plain": [
       "7.300305"
      ]
     },
     "execution_count": 29,
     "metadata": {},
     "output_type": "execute_result"
    }
   ],
   "source": [
    "#lowest of top 5% is 95% percentile. We order the column ascending then get the 95% percentile\n",
    "m_income=housing_data['median_income'].sort_values() #sor values ascending, if descening, we use .sort_values(asceding=False)\n",
    "np.percentile(m_income,95)"
   ]
  },
  {
   "cell_type": "code",
   "execution_count": 30,
   "id": "feca2ae2-fe88-4440-931c-b51d6784daf0",
   "metadata": {},
   "outputs": [],
   "source": [
    "#using assert method to show that the 96% percentile is less than 95%. This is to ensure that you are on the track\n",
    "assert np.percentile(m_income,96) > np.percentile(m_income,95) "
   ]
  },
  {
   "cell_type": "code",
   "execution_count": 31,
   "id": "18da93d6-0618-4944-b4d8-cfb3206b9980",
   "metadata": {},
   "outputs": [
    {
     "data": {
      "text/plain": [
       "1.8998"
      ]
     },
     "execution_count": 31,
     "metadata": {},
     "output_type": "execute_result"
    }
   ],
   "source": [
    "#variance and standard deviation\n",
    "round(housing_data.median_income.std(),4) #round to 4 decimal places"
   ]
  },
  {
   "cell_type": "code",
   "execution_count": 32,
   "id": "d38447d3-4372-458e-ba78-b7105c9fec48",
   "metadata": {},
   "outputs": [
    {
     "data": {
      "text/plain": [
       "1.8998"
      ]
     },
     "execution_count": 32,
     "metadata": {},
     "output_type": "execute_result"
    }
   ],
   "source": [
    "round(housing_data['median_income'].std(),4)"
   ]
  },
  {
   "cell_type": "code",
   "execution_count": 33,
   "id": "070e7270-e9a8-4400-88f0-e1552ddd0476",
   "metadata": {},
   "outputs": [
    {
     "data": {
      "text/plain": [
       "3.6093"
      ]
     },
     "execution_count": 33,
     "metadata": {},
     "output_type": "execute_result"
    }
   ],
   "source": [
    "#variance\n",
    "round(housing_data['median_income'].var(),4)"
   ]
  },
  {
   "cell_type": "code",
   "execution_count": 34,
   "id": "d76bc377-3463-45a8-b480-8e558328f913",
   "metadata": {},
   "outputs": [
    {
     "data": {
      "text/plain": [
       "4.953"
      ]
     },
     "execution_count": 34,
     "metadata": {},
     "output_type": "execute_result"
    }
   ],
   "source": [
    "#kurtosis\n",
    "round(housing_data['median_income'].kurtosis(),3)"
   ]
  },
  {
   "cell_type": "code",
   "execution_count": 35,
   "id": "9f1338a7-0573-496a-b945-56e7543d033e",
   "metadata": {},
   "outputs": [
    {
     "data": {
      "text/plain": [
       "1.647"
      ]
     },
     "execution_count": 35,
     "metadata": {},
     "output_type": "execute_result"
    }
   ],
   "source": [
    "round(housing_data['median_income'].skew(),3)"
   ]
  },
  {
   "cell_type": "code",
   "execution_count": 36,
   "id": "cd253d6a-50c1-4d8c-885e-b4493d23041a",
   "metadata": {},
   "outputs": [],
   "source": [
    "a1,a2,a3=np.percentile(housing_data['median_income'],[25,50,75])\n",
    "IQR_a=a3-a1"
   ]
  },
  {
   "cell_type": "markdown",
   "id": "889373db-7473-4e79-b536-81bfb0289acd",
   "metadata": {},
   "source": [
    "## outliers\n",
    "They are points that significantly differ from others. \n",
    "In practical application, they are taken to be\n",
    "* less than 5% and more than 95% in a normal distribution\n",
    "* less than Q1-1.5IQR or more than Q3+1.5IQR\n",
    "* significantly outside the trend of the general distribution of the data "
   ]
  },
  {
   "cell_type": "code",
   "execution_count": 37,
   "id": "d553a180-7a44-4ede-8241-eabf536ac2b3",
   "metadata": {},
   "outputs": [
    {
     "data": {
      "image/png": "[encoded data removed]",
      "text/plain": [
       "<Figure size 640x480 with 1 Axes>"
      ]
     },
     "metadata": {},
     "output_type": "display_data"
    }
   ],
   "source": [
    "#By using the box plot, we can identify the outliers\n",
    "plt.boxplot(housing_data['median_income'])\n",
    "plt.ylabel('median income(0,000 USD)')\n",
    "plt.title('Distribution of median income in block')\n",
    "plt.show()\n",
    "# see notice many outliers above the upper whisker"
   ]
  },
  {
   "cell_type": "code",
   "execution_count": 38,
   "id": "ae71d2d2-9a6b-479a-81d9-7d580b2ae00b",
   "metadata": {},
   "outputs": [],
   "source": [
    "qq1,qq2,qq3=np.percentile(housing_data['median_income'],[25,50,75])\n",
    "lower_whisker=qq1-(1.5*(qq3-qq1))\n",
    "upper_whisker=qq3+(1.5*(qq3-qq1))\n",
    "#compute the outlier\n",
    "outl_low=housing_data['median_income'][housing_data['median_income']< lower_whisker]\n",
    "outl_hig=housing_data['median_income'][housing_data['median_income']> upper_whisker]"
   ]
  },
  {
   "cell_type": "code",
   "execution_count": 39,
   "id": "d389cef3-7c19-4e1d-b884-7108f619f5b0",
   "metadata": {},
   "outputs": [
    {
     "data": {
      "text/plain": [
       "0         8.3252\n",
       "1         8.3014\n",
       "131      11.6017\n",
       "134       8.2049\n",
       "135       8.4010\n",
       "          ...   \n",
       "20426    10.0472\n",
       "20427     8.6499\n",
       "20428     8.7288\n",
       "20436    12.5420\n",
       "20503     8.2787\n",
       "Name: median_income, Length: 681, dtype: float64"
      ]
     },
     "execution_count": 39,
     "metadata": {},
     "output_type": "execute_result"
    }
   ],
   "source": [
    "housing_data['median_income'][housing_data['median_income']>upper_whisker]"
   ]
  },
  {
   "cell_type": "code",
   "execution_count": 40,
   "id": "57c7685b-5940-4f8b-9bc7-f8b88bdeb4d5",
   "metadata": {},
   "outputs": [
    {
     "data": {
      "text/plain": [
       "-0.7063750000000004"
      ]
     },
     "execution_count": 40,
     "metadata": {},
     "output_type": "execute_result"
    }
   ],
   "source": [
    "lower_whisker"
   ]
  },
  {
   "cell_type": "code",
   "execution_count": 41,
   "id": "7fea99f1-186f-40a1-b8a7-bd23705d77ee",
   "metadata": {},
   "outputs": [
    {
     "data": {
      "text/plain": [
       "0"
      ]
     },
     "execution_count": 41,
     "metadata": {},
     "output_type": "execute_result"
    }
   ],
   "source": [
    "outl_low.size #none of then"
   ]
  },
  {
   "cell_type": "code",
   "execution_count": 42,
   "id": "61b8f299-91b6-47f4-95a4-6a6c7dc1a371",
   "metadata": {},
   "outputs": [
    {
     "data": {
      "text/plain": [
       "681"
      ]
     },
     "execution_count": 42,
     "metadata": {},
     "output_type": "execute_result"
    }
   ],
   "source": [
    "outl_hig.size #681 outliers"
   ]
  },
  {
   "cell_type": "markdown",
   "id": "4025875e-7976-4234-a3d4-3424ef709c56",
   "metadata": {},
   "source": [
    "### Frequency distributions\n",
    "We can create tables for frequency distributions the represent them on graphs such as bar graphs, histograms,pie charts among others"
   ]
  },
  {
   "cell_type": "markdown",
   "id": "a3666e14-5e18-4b5a-a9bb-4b38df5560b6",
   "metadata": {},
   "source": [
    "### Common Visualizations"
   ]
  },
  {
   "cell_type": "markdown",
   "id": "56e35009-7fec-42e4-bc1b-0fb83834c8cc",
   "metadata": {},
   "source": [
    "Create a frequency distribution table showing the ocean proximity for various block"
   ]
  },
  {
   "cell_type": "code",
   "execution_count": 43,
   "id": "ba878c77-2f13-4714-b757-be101fa1316f",
   "metadata": {},
   "outputs": [
    {
     "data": {
      "text/plain": [
       "ocean_proximity\n",
       "<1H OCEAN     9136\n",
       "INLAND        6551\n",
       "NEAR OCEAN    2658\n",
       "NEAR BAY      2290\n",
       "ISLAND           5\n",
       "Name: count, dtype: int64"
      ]
     },
     "execution_count": 43,
     "metadata": {},
     "output_type": "execute_result"
    }
   ],
   "source": [
    "housing_data['ocean_proximity'].value_counts()"
   ]
  },
  {
   "cell_type": "code",
   "execution_count": 44,
   "id": "db991a54-89e7-4c75-b92a-2aff49eb33ac",
   "metadata": {},
   "outputs": [
    {
     "data": {
      "text/plain": [
       "['NEAR BAY', '<1H OCEAN', 'INLAND', 'NEAR OCEAN', 'ISLAND']"
      ]
     },
     "execution_count": 44,
     "metadata": {},
     "output_type": "execute_result"
    }
   ],
   "source": [
    "block_locs=housing_data['ocean_proximity'].unique().tolist()\n",
    "block_locs"
   ]
  },
  {
   "cell_type": "code",
   "execution_count": 45,
   "id": "44cbd249-afef-49ac-b49d-cec1de9135f4",
   "metadata": {},
   "outputs": [
    {
     "data": {
      "image/png": "[encoded data removed]",
      "text/plain": [
       "<Figure size 600x400 with 1 Axes>"
      ]
     },
     "metadata": {},
     "output_type": "display_data"
    }
   ],
   "source": [
    "#create a bar graph for this data\n",
    "fig,ax=plt.subplots(figsize=(6,4))\n",
    "plt.bar(block_locs,housing_data['ocean_proximity'].value_counts(),width=0.8)\n",
    "plt.title('Number of locks at various locations from the ocean')\n",
    "plt.ylabel('No. of block')\n",
    "plt.show();\n"
   ]
  },
  {
   "cell_type": "code",
   "execution_count": 46,
   "id": "81933652-a624-447f-bb5a-bc157081e4d1",
   "metadata": {},
   "outputs": [
    {
     "data": {
      "image/png": "[encoded data removed]",
      "text/plain": [
       "<Figure size 640x480 with 1 Axes>"
      ]
     },
     "metadata": {},
     "output_type": "display_data"
    }
   ],
   "source": [
    "#pie chart\n",
    "plt.pie(housing_data['ocean_proximity'].value_counts(),labels=block_locs,startangle=0,radius=0.8);"
   ]
  },
  {
   "cell_type": "code",
   "execution_count": 47,
   "id": "8ee4de67-5ddc-48c4-8c3a-85d6ff7f5587",
   "metadata": {},
   "outputs": [
    {
     "data": {
      "image/png": "[encoded data removed]",
      "text/plain": [
       "<Figure size 640x480 with 1 Axes>"
      ]
     },
     "metadata": {},
     "output_type": "display_data"
    }
   ],
   "source": [
    "#create a histogram for the income distributions\n",
    "plt.hist(housing_data['median_income'],bins=10)\n",
    "plt.ylabel('income in 10 thousand USD')\n",
    "plt.title('Income distribution for various blocks')\n",
    "plt.show();\n"
   ]
  },
  {
   "cell_type": "code",
   "execution_count": 48,
   "id": "b679788e-269b-4725-8c97-1f8be9873d71",
   "metadata": {},
   "outputs": [
    {
     "data": {
      "image/png": "[encoded data removed]",
      "text/plain": [
       "<Figure size 640x480 with 1 Axes>"
      ]
     },
     "metadata": {},
     "output_type": "display_data"
    }
   ],
   "source": [
    "#create a scatter plot for income against the population\n",
    "plt.scatter(housing_data['population'],housing_data['median_income'],marker='.',color='violet');\n",
    "plt.xlabel('Population')\n",
    "plt.ylabel('median income in 0,000 USD')\n",
    "plt.title('Income distribution against the population')\n",
    "plt.show();"
   ]
  },
  {
   "cell_type": "markdown",
   "id": "078ae670-046b-4072-a424-5310a971e9e4",
   "metadata": {},
   "source": [
    "# Statistical Inference\n",
    "In this case, we focus on test of Hypothesis and confidence interval\n",
    "\n",
    "Inference implies generalizing the results from a sample to the whole population under study. We make an assumption that the sample was randomly generated and is unbiased.\n",
    "\n",
    "Statistical inference makes use of the normal distribution which is a doomed-shaped symmetrical distribution whose mean and median are equal. The probability density distribution**(pdf)** for normal distribution is\n",
    "$$f(x,\\mu,\\sigma)=\\dfrac{1}{\\sigma \\sqrt{2\\pi}}e^{-\\dfrac{1}{2}\\left(\\dfrac{x-\\mu}{\\sigma}\\right)^2}$$\n",
    "where $x$ is a variable, $\\mu$ is the mean and $\\sigma$ is the standard deviation of the distribution.\n",
    "To apply normal distribution easily, we transform the pdf into a distribution with a $\\mu=0$ and $\\sigma_1$. This distribution is called a standard normal ditribution whose pdf is \n",
    "$$f(z)=\\dfrac{1}{\\sqrt{2\\pi}}e^{-\\dfrac{1}{2}z^2}$$\n",
    "and transformation is \n",
    "$$z=\\dfrac{x-\\mu}{\\sigma}$$\n",
    "called the $z$-score.\n",
    "\n",
    "Given the value of $z$, we can find the cumulative probability distribution that $P(z \\leq z_a)$ where $z_a$ is the $z$-score.\n"
   ]
  },
  {
   "cell_type": "markdown",
   "id": "c75b67d8-7930-4402-883a-bd93a97257f4",
   "metadata": {},
   "source": [
    "### Question 3\n",
    "\n",
    "A scientist researched the amount of scores university students can score in an amplitude test. The average score of the students was 54\\% with a standard deviation of 6.3. The score was online, and University students were selected to attempt the test. Assuming that the distribution of the score was normal, what is the probability that a student will score\n",
    "* less than 50%\n",
    "* more than 63%\n",
    "* Between 59% and 69%\n",
    "\n",
    "We use the scipy's stats module\n",
    "\n",
    "Let $X$ be a random variable representing the score of a standard and $Z$ be the score\n",
    "\n",
    "We find $P(X \\leq 50)$"
   ]
  },
  {
   "cell_type": "code",
   "execution_count": 49,
   "id": "feaaa2cc-8375-4f8a-9938-eb7aa9f91799",
   "metadata": {},
   "outputs": [
    {
     "data": {
      "text/plain": [
       "0.2627"
      ]
     },
     "execution_count": 49,
     "metadata": {},
     "output_type": "execute_result"
    }
   ],
   "source": [
    "#P(X<=50)\n",
    "z_50 =(50-54)/6.3\n",
    "p_less_50=stats.norm.cdf(z_50)\n",
    "round(p_less_50,4)"
   ]
  },
  {
   "cell_type": "code",
   "execution_count": 50,
   "id": "9afb97f1-4e6b-4b4d-9019-c7e9beb71507",
   "metadata": {},
   "outputs": [
    {
     "data": {
      "text/plain": [
       "0.0766"
      ]
     },
     "execution_count": 50,
     "metadata": {},
     "output_type": "execute_result"
    }
   ],
   "source": [
    "#P(X>=63)\n",
    "z_63 =(63-54)/6.3\n",
    "p_more_63=1-stats.norm.cdf(z_63)\n",
    "round(p_more_63,4)"
   ]
  },
  {
   "cell_type": "code",
   "execution_count": 51,
   "id": "1c8c7888-9d45-4278-b57a-f82b800cace6",
   "metadata": {},
   "outputs": [
    {
     "data": {
      "text/plain": [
       "0.2051"
      ]
     },
     "execution_count": 51,
     "metadata": {},
     "output_type": "execute_result"
    }
   ],
   "source": [
    "#P(59<X<69)\n",
    "z_69 =(69-54)/6.3\n",
    "z_59 =(59-54)/6.3\n",
    "p_btn_69_59=stats.norm.cdf(z_69) - stats.norm.cdf(z_59)\n",
    "round(p_btn_69_59,4)"
   ]
  },
  {
   "cell_type": "markdown",
   "id": "7bb2e950-f11a-44c4-893a-bd1606dda45c",
   "metadata": {},
   "source": [
    "## Confidence interval\n",
    "The confidence interval estimates the population parameter given a sample statistic. The confidence interval is a range within which we are sure that the population parameter will lie to a certain probability. The 95\\% confidence interval for a population mean $\\mu$ is\n",
    "$$\\left(\\bar{x} - Z_{\\alpha/2} \\dfrac{\\sigma}{\\sqrt{n}}, \\bar{x} + Z_{\\alpha/2} \\dfrac{\\sigma}{\\sqrt{n}}\\right)$$\n",
    "or $$\\bar{x} \\pm Z_{\\alpha/2} \\dfrac{\\sigma}{\\sqrt{n}}$$\n",
    "\n",
    "The number $Z_{\\alpha/2} \\dfrac{\\sigma}{\\sqrt{n}}$ is called the marginal error\n",
    "\n",
    "Note/: The sampling distribution of the mean whose population standard deviation is $\\sigma$, the standard error(standard deviation of the sample) is $\\sqrt{\\dfrac{\\sigma^2}{n}}=\\dfrac{\\sigma}{\\sqrt{n}}$ where $n$ is the sample size. By central limit theorem, for larger values of $n$, the standard deviation approached $\\sigma$ irrespective of the underlaying distribution. \n",
    "\n",
    "In the above question, what would be 95\\% confidence interval for the mean of 54\\% for a sample size of 100.\n",
    "\n",
    "The level of significance is $1-0.95 = 0.05=\\alpha$. When the sample size is more than 30, the distribution is approximately normal, hence we use the Z-score. \n",
    "\n",
    "**The confidence interval for the proportion**\n",
    "$$\\left(\\hat{p} - Z_{\\alpha/2} \\sqrt{\\dfrac{\\hat{p}\\hat{q}}{n}}, \\hat{p} + Z_{\\alpha/2} \\sqrt{\\dfrac{\\hat{p}\\hat{q}}{n}}\\right)$$\n",
    "or $$\\hat{p} \\pm Z_{\\alpha/2} \\sqrt{\\dfrac{\\hat{p}\\hat{q}}{n}}$$\n"
   ]
  },
  {
   "cell_type": "code",
   "execution_count": 52,
   "id": "a49c9a40-c1ed-4ec5-a53c-8b1695adfd59",
   "metadata": {},
   "outputs": [
    {
     "data": {
      "text/plain": [
       "1.959963984540054"
      ]
     },
     "execution_count": 52,
     "metadata": {},
     "output_type": "execute_result"
    }
   ],
   "source": [
    "sample_size=100\n",
    "std_dev=6.3\n",
    "mean_s=54\n",
    "z_alpha_half=stats.norm.ppf(0.975)\n",
    "z_alpha_half"
   ]
  },
  {
   "cell_type": "code",
   "execution_count": 54,
   "id": "ac6509a3-55e6-4b41-b291-5b3ad264f431",
   "metadata": {},
   "outputs": [
    {
     "name": "stdout",
     "output_type": "stream",
     "text": [
      "Confidence interval:(52.77,55.23)\n"
     ]
    }
   ],
   "source": [
    "error_margin=z_alpha_half*std_dev/np.sqrt(sample_size)\n",
    "print(\"Confidence interval:({},{})\".format(round(mean_s-error_margin,2),round(mean_s+error_margin,2)))"
   ]
  },
  {
   "cell_type": "markdown",
   "id": "e554ebc1-d076-4a37-8f21-bd162cace25a",
   "metadata": {},
   "source": [
    "## Hypothesis test\n",
    "We can also test if a value satisfies a certain condition. For instance, we may test if the population mean is equal to  51, more than 51 or less than 51 with a specific accuracy level. This statement provides 3 different cases of hypothesis test. \n",
    "\n",
    "First, we formula the hypothesis statements. We have two, the **null hypothesis** and the **alternative hypothesis**. The **null** hypothesis,$H_0$, is a statement that represents the claim, current situation or existing information that has to be disproved or not while the **alternative** hypothesis,$H_1$, represents a new situation or information that will be determined given sufficient evidence.\n",
    "If a simple random sample from the population is done, we would like to determine if;\n",
    "1. mean is equal to  51\n",
    "   \n",
    "   $H_0: \\mu=51$\n",
    "   \n",
    "   $H_1: \\mu \\neq 51$   \n",
    "   This is a two-tailedd test.\n",
    "   \n",
    "   $H_0: \\mu=51$\n",
    "   \n",
    "   $H_1: \\mu < 51$   \n",
    "   This is a one left tail test.\n",
    "\n",
    "   $H_0: \\mu=51$\n",
    "   \n",
    "   $H_1: \\mu > 51$\n",
    "   This is a one right tail test.\n",
    "\n",
    "   We reject the null hypothesis if positive of p_value < alpha\n",
    "2. mean is less than  51\n",
    "   \n",
    "   $H_0: \\mu < 51$\n",
    "   \n",
    "   $H_1: \\mu \\geq 51$\n",
    "   This is a one-right-tail test.\n",
    "\n",
    "   We reject the null hypothesis if positive of p_value < alpha\n",
    "   \n",
    "3. mean is more than  51\n",
    "   \n",
    "   $H_0: \\mu > 51$\n",
    "   \n",
    "   $H_1: \\mu \\leq 51$   This is a one-left-tail test.\n",
    "   \n",
    "   We reject the null hypothesis if positive of p_value < alpha\n",
    "\n",
    "In both cases, for $n>0$, the test statistics is\n",
    "$$z=\\dfrac{\\mu_0 -\\mu}{\\sigma/\\sqrt{n}}$$\n",
    "Where $n$ is the sample size and $\\mu_0$ is value being compared to in the hypothesis statement. In our case, we will be using Z-statistics(score) because we will be working with sample sizes more than 30. In a situation where the sample size is less than 30, we use the t-statistic\n",
    "\n",
    "**Example: Using a significance level of $\\alpha =0.01(99%)$, test whether the the population mean is less than 51%, n=100**\n",
    "\n",
    "**Example: Using a significance level of $\\alpha =0.01(99%)$, test whether the the population mean is equal to 51%, n=100**"
   ]
  },
  {
   "cell_type": "code",
   "execution_count": 55,
   "id": "fbdacf68-4c96-4397-a420-bc3258938943",
   "metadata": {},
   "outputs": [
    {
     "data": {
      "text/plain": [
       "9.58870944497607e-07"
      ]
     },
     "execution_count": 55,
     "metadata": {},
     "output_type": "execute_result"
    }
   ],
   "source": [
    "#Using a significance level of \\alpha =0.01(99%), test whether the the population mean is equal to 51%, n=100\n",
    "alpha=0.01\n",
    "test_mean=51\n",
    "mean_s=54\n",
    "std_dev=6.3\n",
    "sample_size=100\n",
    "test_statistic= (test_mean-mean_s)/(std_dev/np.sqrt(sample_size))\n",
    "test_statistic\n",
    "p_value=stats.norm.cdf(test_statistic)\n",
    "p_value"
   ]
  },
  {
   "cell_type": "code",
   "execution_count": 56,
   "id": "5d66e99d-e732-4238-a99c-4d8f40782bab",
   "metadata": {},
   "outputs": [
    {
     "data": {
      "text/plain": [
       "True"
      ]
     },
     "execution_count": 56,
     "metadata": {},
     "output_type": "execute_result"
    }
   ],
   "source": [
    "p_value < 0.005 # if mu_0 != 51"
   ]
  },
  {
   "cell_type": "code",
   "execution_count": 57,
   "id": "b5ce02e9-d1dc-4ab0-b3d8-befb96de1a62",
   "metadata": {},
   "outputs": [
    {
     "data": {
      "text/plain": [
       "True"
      ]
     },
     "execution_count": 57,
     "metadata": {},
     "output_type": "execute_result"
    }
   ],
   "source": [
    "p_value < 0.01  #if mu_0 <51%"
   ]
  },
  {
   "cell_type": "code",
   "execution_count": 58,
   "id": "f171c212-f888-4f2c-9abe-1a16385446de",
   "metadata": {},
   "outputs": [
    {
     "name": "stdout",
     "output_type": "stream",
     "text": [
      "reject the null hypothesis in faviour of the alternative hypothesis\n"
     ]
    }
   ],
   "source": [
    "#Using a significance level of \\alpha =0.01(99%), test whether the the population mean is less than 51%, n=100\n",
    "alpha=0.01\n",
    "test_mean=51\n",
    "test_statistic=(test_mean-mean_s)/(std_dev/np.sqrt(sample_size))\n",
    "p_value=stats.norm.cdf(test_statistic)\n",
    "\n",
    "if p_value < alpha:\n",
    "    print('reject the null hypothesis in faviour of the alternative hypothesis')\n",
    "else:\n",
    "    print('There is no enough evidence to reject the null hypothesis, hence, the null hypothesis is true')\n",
    "\n"
   ]
  },
  {
   "cell_type": "code",
   "execution_count": 59,
   "id": "fd2fc512-5586-4afb-8e7c-b6c3da8e5651",
   "metadata": {},
   "outputs": [],
   "source": [
    "def test_less_than(alpha,test_mean,mean_s,std,sample_size):\n",
    "    test_statistic=(test_mean-mean_s)/(std/np.sqrt(sample_size))\n",
    "    p_value=stats.norm.cdf(test_statistic)\n",
    "    if p_value < alpha:\n",
    "        return 'reject the null hypothesis in faviour of the alternative hypothesis'\n",
    "    else:\n",
    "        return 'There is no enough evidence to reject the null hypothesis, hence, the null hypothesis is true'"
   ]
  },
  {
   "cell_type": "code",
   "execution_count": 60,
   "id": "277a8f59-88b3-4879-9814-e81093c1a602",
   "metadata": {},
   "outputs": [
    {
     "data": {
      "text/plain": [
       "'reject the null hypothesis in faviour of the alternative hypothesis'"
      ]
     },
     "execution_count": 60,
     "metadata": {},
     "output_type": "execute_result"
    }
   ],
   "source": [
    "test_less_than(0.01,51,54,6.3,100)"
   ]
  },
  {
   "cell_type": "code",
   "execution_count": 61,
   "id": "fe67bd23-1bc3-41fe-a691-11cfa6cc305e",
   "metadata": {},
   "outputs": [
    {
     "data": {
      "text/plain": [
       "2635.7630813953488"
      ]
     },
     "execution_count": 61,
     "metadata": {},
     "output_type": "execute_result"
    }
   ],
   "source": [
    "housing_data['total_rooms'].mean()"
   ]
  }
 ],
 "metadata": {
  "kernelspec": {
   "display_name": "Python 3 (ipykernel)",
   "language": "python",
   "name": "python3"
  },
  "language_info": {
   "codemirror_mode": {
    "name": "ipython",
    "version": 3
   },
   "file_extension": ".py",
   "mimetype": "text/x-python",
   "name": "python",
   "nbconvert_exporter": "python",
   "pygments_lexer": "ipython3",
   "version": "3.11.7"
  }
 },
 "nbformat": 4,
 "nbformat_minor": 5
}
