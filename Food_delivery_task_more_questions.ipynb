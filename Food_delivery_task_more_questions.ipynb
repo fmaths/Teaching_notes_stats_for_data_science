{
 "cells": [
  {
   "cell_type": "markdown",
   "id": "aa9c4a50-0fdb-4f05-ad37-485770f84b54",
   "metadata": {},
   "source": [
    "## PROJECT: FOOD DELIVERY PROJECT"
   ]
  },
  {
   "cell_type": "code",
   "execution_count": 2,
   "id": "00fed624-7697-4ace-9ce2-d1ee6452a50e",
   "metadata": {},
   "outputs": [],
   "source": [
    "%matplotlib inline\n",
    "\n",
    "#import the key libabries\n",
    "import numpy as np\n",
    "import pandas as pd\n",
    "import matplotlib.pyplot as plt\n",
    "import seaborn as sns\n",
    "import requests\n",
    "from scipy import stats\n"
   ]
  },
  {
   "cell_type": "markdown",
   "id": "8559326a-07eb-4773-a953-a9545c25b5e2",
   "metadata": {},
   "source": [
    "## 1. Data acquisition\n",
    "I created a csv file and wrote in it, the contents from the file from the url provided"
   ]
  },
  {
   "cell_type": "code",
   "execution_count": 45,
   "id": "9acd90e7-2759-4634-b855-d373a3ef15bf",
   "metadata": {},
   "outputs": [],
   "source": [
    "url = \"https://statso.io/wp-content/uploads/2024/02/food_orders_new_delhi.csv\"\n",
    "request=requests.get(url)\n",
    "\n",
    "with open('food_order.csv', 'wb') as file:\n",
    "    file.write(request.content)"
   ]
  },
  {
   "cell_type": "code",
   "execution_count": 79,
   "id": "2a3910c1-2bd0-490a-b4e9-21f5a08c5ad5",
   "metadata": {},
   "outputs": [
    {
     "data": {
      "text/html": [
       "<div>\n",
       "<style scoped>\n",
       "    .dataframe tbody tr th:only-of-type {\n",
       "        vertical-align: middle;\n",
       "    }\n",
       "\n",
       "    .dataframe tbody tr th {\n",
       "        vertical-align: top;\n",
       "    }\n",
       "\n",
       "    .dataframe thead th {\n",
       "        text-align: right;\n",
       "    }\n",
       "</style>\n",
       "<table border=\"1\" class=\"dataframe\">\n",
       "  <thead>\n",
       "    <tr style=\"text-align: right;\">\n",
       "      <th></th>\n",
       "      <th>Order ID</th>\n",
       "      <th>Customer ID</th>\n",
       "      <th>Restaurant ID</th>\n",
       "      <th>Order Date and Time</th>\n",
       "      <th>Delivery Date and Time</th>\n",
       "      <th>Order Value</th>\n",
       "      <th>Delivery Fee</th>\n",
       "      <th>Payment Method</th>\n",
       "      <th>Discounts and Offers</th>\n",
       "      <th>Commission Fee</th>\n",
       "      <th>Payment Processing Fee</th>\n",
       "      <th>Refunds/Chargebacks</th>\n",
       "    </tr>\n",
       "  </thead>\n",
       "  <tbody>\n",
       "    <tr>\n",
       "      <th>0</th>\n",
       "      <td>1</td>\n",
       "      <td>C8270</td>\n",
       "      <td>R2924</td>\n",
       "      <td>2024-02-01 01:11:52</td>\n",
       "      <td>2024-02-01 02:39:52</td>\n",
       "      <td>1914</td>\n",
       "      <td>0</td>\n",
       "      <td>Credit Card</td>\n",
       "      <td>5% on App</td>\n",
       "      <td>150</td>\n",
       "      <td>47</td>\n",
       "      <td>0</td>\n",
       "    </tr>\n",
       "    <tr>\n",
       "      <th>1</th>\n",
       "      <td>2</td>\n",
       "      <td>C1860</td>\n",
       "      <td>R2054</td>\n",
       "      <td>2024-02-02 22:11:04</td>\n",
       "      <td>2024-02-02 22:46:04</td>\n",
       "      <td>986</td>\n",
       "      <td>40</td>\n",
       "      <td>Digital Wallet</td>\n",
       "      <td>10%</td>\n",
       "      <td>198</td>\n",
       "      <td>23</td>\n",
       "      <td>0</td>\n",
       "    </tr>\n",
       "  </tbody>\n",
       "</table>\n",
       "</div>"
      ],
      "text/plain": [
       "   Order ID Customer ID Restaurant ID  Order Date and Time  \\\n",
       "0         1       C8270         R2924  2024-02-01 01:11:52   \n",
       "1         2       C1860         R2054  2024-02-02 22:11:04   \n",
       "\n",
       "  Delivery Date and Time  Order Value  Delivery Fee  Payment Method  \\\n",
       "0    2024-02-01 02:39:52         1914             0     Credit Card   \n",
       "1    2024-02-02 22:46:04          986            40  Digital Wallet   \n",
       "\n",
       "  Discounts and Offers  Commission Fee  Payment Processing Fee  \\\n",
       "0            5% on App             150                      47   \n",
       "1                  10%             198                      23   \n",
       "\n",
       "   Refunds/Chargebacks  \n",
       "0                    0  \n",
       "1                    0  "
      ]
     },
     "execution_count": 79,
     "metadata": {},
     "output_type": "execute_result"
    }
   ],
   "source": [
    "food_data=pd.read_csv('food_order.csv')\n",
    "food_data.head(2)"
   ]
  },
  {
   "cell_type": "markdown",
   "id": "dfb3cc15-dd0f-44ad-bcd6-73db0778338b",
   "metadata": {},
   "source": [
    "## 2. Data Exploration\n",
    "I computed the general information about the data. These include the shape of the data set and data types "
   ]
  },
  {
   "cell_type": "code",
   "execution_count": 80,
   "id": "39c52ae1-a81f-4e9e-b465-ba20609a6205",
   "metadata": {},
   "outputs": [
    {
     "data": {
      "image/png": "[encoded data removed]",
      "text/latex": [
       "$\\displaystyle \\left( 1000, \\  12\\right)$"
      ],
      "text/plain": [
       "(1000, 12)"
      ]
     },
     "execution_count": 80,
     "metadata": {},
     "output_type": "execute_result"
    }
   ],
   "source": [
    "food_data.shape"
   ]
  },
  {
   "cell_type": "code",
   "execution_count": 81,
   "id": "343b503e-5bbe-47d4-a0bf-4e8282b0af52",
   "metadata": {},
   "outputs": [
    {
     "name": "stdout",
     "output_type": "stream",
     "text": [
      "<class 'pandas.core.frame.DataFrame'>\n",
      "RangeIndex: 1000 entries, 0 to 999\n",
      "Data columns (total 12 columns):\n",
      " #   Column                  Non-Null Count  Dtype \n",
      "---  ------                  --------------  ----- \n",
      " 0   Order ID                1000 non-null   int64 \n",
      " 1   Customer ID             1000 non-null   object\n",
      " 2   Restaurant ID           1000 non-null   object\n",
      " 3   Order Date and Time     1000 non-null   object\n",
      " 4   Delivery Date and Time  1000 non-null   object\n",
      " 5   Order Value             1000 non-null   int64 \n",
      " 6   Delivery Fee            1000 non-null   int64 \n",
      " 7   Payment Method          1000 non-null   object\n",
      " 8   Discounts and Offers    815 non-null    object\n",
      " 9   Commission Fee          1000 non-null   int64 \n",
      " 10  Payment Processing Fee  1000 non-null   int64 \n",
      " 11  Refunds/Chargebacks     1000 non-null   int64 \n",
      "dtypes: int64(6), object(6)\n",
      "memory usage: 93.9+ KB\n"
     ]
    }
   ],
   "source": [
    "food_data.info()"
   ]
  },
  {
   "cell_type": "code",
   "execution_count": 82,
   "id": "a68c2f2b-92b9-40fb-a043-cc6a3956ff4b",
   "metadata": {},
   "outputs": [
    {
     "data": {
      "text/plain": [
       "Index(['Order ID', 'Customer ID', 'Restaurant ID', 'Order Date and Time',\n",
       "       'Delivery Date and Time', 'Order Value', 'Delivery Fee',\n",
       "       'Payment Method', 'Discounts and Offers', 'Commission Fee',\n",
       "       'Payment Processing Fee', 'Refunds/Chargebacks'],\n",
       "      dtype='object')"
      ]
     },
     "execution_count": 82,
     "metadata": {},
     "output_type": "execute_result"
    }
   ],
   "source": [
    "food_data.columns"
   ]
  },
  {
   "cell_type": "code",
   "execution_count": 83,
   "id": "6112b0aa-e16b-4f46-8f92-b0170f90fd2e",
   "metadata": {},
   "outputs": [
    {
     "data": {
      "text/plain": [
       "str"
      ]
     },
     "execution_count": 83,
     "metadata": {},
     "output_type": "execute_result"
    }
   ],
   "source": [
    "#time format in the time columns\n",
    "type(food_data['Order Date and Time'][0])"
   ]
  },
  {
   "cell_type": "markdown",
   "id": "8549001e-34ed-4c85-97a4-3cb3c983580c",
   "metadata": {},
   "source": [
    "The elements in the time columns are strings. I have to change them to datetime so that I can carry out the time difference formula"
   ]
  },
  {
   "cell_type": "code",
   "execution_count": 84,
   "id": "630a062f-b370-441b-927f-4422dac71ddf",
   "metadata": {},
   "outputs": [],
   "source": [
    "assert len(food_data['Order ID'].unique()) == food_data.shape[0]"
   ]
  },
  {
   "cell_type": "markdown",
   "id": "529359b4-2a4d-4d18-a962-0e49008ec10a",
   "metadata": {},
   "source": [
    "All orders are unique"
   ]
  },
  {
   "cell_type": "markdown",
   "id": "1b7b95c3-8ca4-4614-82cc-a52646e2be1c",
   "metadata": {},
   "source": [
    "## 3. Data Cleaning\n",
    "We begin by renaming the columns and removing the spaces between the words in the columns names and also changing the columns names to lower case"
   ]
  },
  {
   "cell_type": "code",
   "execution_count": 85,
   "id": "1a593a60-c162-40d4-a784-8d92216e581d",
   "metadata": {},
   "outputs": [],
   "source": [
    "columns=list(food_data.columns.values) # create a list of names\n",
    "columns=[x.lower().replace(\" \",\"_\") for x in columns] # change the names in lower case and replace spaces with underscore"
   ]
  },
  {
   "cell_type": "code",
   "execution_count": 86,
   "id": "500a84fe-e88b-414e-9888-034d6e02615e",
   "metadata": {},
   "outputs": [
    {
     "data": {
      "text/plain": [
       "['order_id',\n",
       " 'customer_id',\n",
       " 'restaurant_id',\n",
       " 'order_date_and_time',\n",
       " 'delivery_date_and_time',\n",
       " 'order_value',\n",
       " 'delivery_fee',\n",
       " 'payment_method',\n",
       " 'discounts_and_offers',\n",
       " 'commission_fee',\n",
       " 'payment_processing_fee',\n",
       " 'refunds/chargebacks']"
      ]
     },
     "execution_count": 86,
     "metadata": {},
     "output_type": "execute_result"
    }
   ],
   "source": [
    "#view the changes\n",
    "columns"
   ]
  },
  {
   "cell_type": "code",
   "execution_count": 87,
   "id": "eec19ca8-b979-4763-bb7b-9c4b549c03b0",
   "metadata": {},
   "outputs": [],
   "source": [
    "#replace / by underscore in the last column\n",
    "columns[-1]=columns[-1].replace('/','_')"
   ]
  },
  {
   "cell_type": "code",
   "execution_count": 88,
   "id": "2692dd37-e1e5-49ab-9116-1c6a257162bf",
   "metadata": {},
   "outputs": [],
   "source": [
    "#Allocate new columns\n",
    "food_data.columns=columns"
   ]
  },
  {
   "cell_type": "code",
   "execution_count": 89,
   "id": "7082c397-0823-4251-87b9-8f6005eab785",
   "metadata": {
    "scrolled": true
   },
   "outputs": [
    {
     "data": {
      "image/png": "[encoded data removed]",
      "text/latex": [
       "$\\displaystyle 1000$"
      ],
      "text/plain": [
       "1000"
      ]
     },
     "execution_count": 89,
     "metadata": {},
     "output_type": "execute_result"
    }
   ],
   "source": [
    "len(food_data.order_id.unique())"
   ]
  },
  {
   "cell_type": "code",
   "execution_count": 90,
   "id": "e8d0be45-0fb4-403f-97c8-aa15c5a6e264",
   "metadata": {},
   "outputs": [
    {
     "data": {
      "text/html": [
       "<div>\n",
       "<style scoped>\n",
       "    .dataframe tbody tr th:only-of-type {\n",
       "        vertical-align: middle;\n",
       "    }\n",
       "\n",
       "    .dataframe tbody tr th {\n",
       "        vertical-align: top;\n",
       "    }\n",
       "\n",
       "    .dataframe thead th {\n",
       "        text-align: right;\n",
       "    }\n",
       "</style>\n",
       "<table border=\"1\" class=\"dataframe\">\n",
       "  <thead>\n",
       "    <tr style=\"text-align: right;\">\n",
       "      <th></th>\n",
       "      <th>order_id</th>\n",
       "      <th>customer_id</th>\n",
       "      <th>restaurant_id</th>\n",
       "      <th>order_date_and_time</th>\n",
       "      <th>delivery_date_and_time</th>\n",
       "      <th>order_value</th>\n",
       "      <th>delivery_fee</th>\n",
       "      <th>payment_method</th>\n",
       "      <th>discounts_and_offers</th>\n",
       "      <th>commission_fee</th>\n",
       "      <th>payment_processing_fee</th>\n",
       "      <th>refunds_chargebacks</th>\n",
       "    </tr>\n",
       "  </thead>\n",
       "  <tbody>\n",
       "    <tr>\n",
       "      <th>0</th>\n",
       "      <td>1</td>\n",
       "      <td>C8270</td>\n",
       "      <td>R2924</td>\n",
       "      <td>2024-02-01 01:11:52</td>\n",
       "      <td>2024-02-01 02:39:52</td>\n",
       "      <td>1914</td>\n",
       "      <td>0</td>\n",
       "      <td>Credit Card</td>\n",
       "      <td>5% on App</td>\n",
       "      <td>150</td>\n",
       "      <td>47</td>\n",
       "      <td>0</td>\n",
       "    </tr>\n",
       "    <tr>\n",
       "      <th>1</th>\n",
       "      <td>2</td>\n",
       "      <td>C1860</td>\n",
       "      <td>R2054</td>\n",
       "      <td>2024-02-02 22:11:04</td>\n",
       "      <td>2024-02-02 22:46:04</td>\n",
       "      <td>986</td>\n",
       "      <td>40</td>\n",
       "      <td>Digital Wallet</td>\n",
       "      <td>10%</td>\n",
       "      <td>198</td>\n",
       "      <td>23</td>\n",
       "      <td>0</td>\n",
       "    </tr>\n",
       "    <tr>\n",
       "      <th>2</th>\n",
       "      <td>3</td>\n",
       "      <td>C6390</td>\n",
       "      <td>R2870</td>\n",
       "      <td>2024-01-31 05:54:35</td>\n",
       "      <td>2024-01-31 06:52:35</td>\n",
       "      <td>937</td>\n",
       "      <td>30</td>\n",
       "      <td>Cash on Delivery</td>\n",
       "      <td>15% New User</td>\n",
       "      <td>195</td>\n",
       "      <td>45</td>\n",
       "      <td>0</td>\n",
       "    </tr>\n",
       "    <tr>\n",
       "      <th>3</th>\n",
       "      <td>4</td>\n",
       "      <td>C6191</td>\n",
       "      <td>R2642</td>\n",
       "      <td>2024-01-16 22:52:49</td>\n",
       "      <td>2024-01-16 23:38:49</td>\n",
       "      <td>1463</td>\n",
       "      <td>50</td>\n",
       "      <td>Cash on Delivery</td>\n",
       "      <td>NaN</td>\n",
       "      <td>146</td>\n",
       "      <td>27</td>\n",
       "      <td>0</td>\n",
       "    </tr>\n",
       "  </tbody>\n",
       "</table>\n",
       "</div>"
      ],
      "text/plain": [
       "   order_id customer_id restaurant_id  order_date_and_time  \\\n",
       "0         1       C8270         R2924  2024-02-01 01:11:52   \n",
       "1         2       C1860         R2054  2024-02-02 22:11:04   \n",
       "2         3       C6390         R2870  2024-01-31 05:54:35   \n",
       "3         4       C6191         R2642  2024-01-16 22:52:49   \n",
       "\n",
       "  delivery_date_and_time  order_value  delivery_fee    payment_method  \\\n",
       "0    2024-02-01 02:39:52         1914             0       Credit Card   \n",
       "1    2024-02-02 22:46:04          986            40    Digital Wallet   \n",
       "2    2024-01-31 06:52:35          937            30  Cash on Delivery   \n",
       "3    2024-01-16 23:38:49         1463            50  Cash on Delivery   \n",
       "\n",
       "  discounts_and_offers  commission_fee  payment_processing_fee  \\\n",
       "0            5% on App             150                      47   \n",
       "1                  10%             198                      23   \n",
       "2         15% New User             195                      45   \n",
       "3                  NaN             146                      27   \n",
       "\n",
       "   refunds_chargebacks  \n",
       "0                    0  \n",
       "1                    0  \n",
       "2                    0  \n",
       "3                    0  "
      ]
     },
     "execution_count": 90,
     "metadata": {},
     "output_type": "execute_result"
    }
   ],
   "source": [
    "food_data.head(4)"
   ]
  },
  {
   "cell_type": "code",
   "execution_count": 91,
   "id": "a8be29bc-596a-4a1f-a677-4c86e844b03a",
   "metadata": {},
   "outputs": [
    {
     "data": {
      "text/plain": [
       "discounts_and_offers\n",
       "10%             233\n",
       "50 off Promo    201\n",
       "15% New User    198\n",
       "5% on App       183\n",
       "Name: count, dtype: int64"
      ]
     },
     "execution_count": 91,
     "metadata": {},
     "output_type": "execute_result"
    }
   ],
   "source": [
    "food_data.discounts_and_offers.value_counts()"
   ]
  },
  {
   "cell_type": "markdown",
   "id": "a5b1a227-e3cb-4432-b55c-028673c1932d",
   "metadata": {},
   "source": [
    "Drop the nan values"
   ]
  },
  {
   "cell_type": "code",
   "execution_count": 92,
   "id": "192a7100-560e-4864-801d-921a8413bb53",
   "metadata": {},
   "outputs": [
    {
     "data": {
      "image/png": "[encoded data removed]",
      "text/latex": [
       "$\\displaystyle \\left( 1000, \\  12\\right)$"
      ],
      "text/plain": [
       "(1000, 12)"
      ]
     },
     "execution_count": 92,
     "metadata": {},
     "output_type": "execute_result"
    }
   ],
   "source": [
    "food_data.shape"
   ]
  },
  {
   "cell_type": "code",
   "execution_count": 93,
   "id": "36fd220b-611f-4bde-acfc-526575d92fbf",
   "metadata": {},
   "outputs": [
    {
     "data": {
      "text/html": [
       "<div>\n",
       "<style scoped>\n",
       "    .dataframe tbody tr th:only-of-type {\n",
       "        vertical-align: middle;\n",
       "    }\n",
       "\n",
       "    .dataframe tbody tr th {\n",
       "        vertical-align: top;\n",
       "    }\n",
       "\n",
       "    .dataframe thead th {\n",
       "        text-align: right;\n",
       "    }\n",
       "</style>\n",
       "<table border=\"1\" class=\"dataframe\">\n",
       "  <thead>\n",
       "    <tr style=\"text-align: right;\">\n",
       "      <th></th>\n",
       "      <th>order_id</th>\n",
       "      <th>customer_id</th>\n",
       "      <th>restaurant_id</th>\n",
       "      <th>order_date_and_time</th>\n",
       "      <th>delivery_date_and_time</th>\n",
       "      <th>order_value</th>\n",
       "      <th>delivery_fee</th>\n",
       "      <th>payment_method</th>\n",
       "      <th>commission_fee</th>\n",
       "      <th>payment_processing_fee</th>\n",
       "      <th>refunds_chargebacks</th>\n",
       "    </tr>\n",
       "  </thead>\n",
       "  <tbody>\n",
       "    <tr>\n",
       "      <th>0</th>\n",
       "      <td>1</td>\n",
       "      <td>C8270</td>\n",
       "      <td>R2924</td>\n",
       "      <td>2024-02-01 01:11:52</td>\n",
       "      <td>2024-02-01 02:39:52</td>\n",
       "      <td>1914</td>\n",
       "      <td>0</td>\n",
       "      <td>Credit Card</td>\n",
       "      <td>150</td>\n",
       "      <td>47</td>\n",
       "      <td>0</td>\n",
       "    </tr>\n",
       "    <tr>\n",
       "      <th>1</th>\n",
       "      <td>2</td>\n",
       "      <td>C1860</td>\n",
       "      <td>R2054</td>\n",
       "      <td>2024-02-02 22:11:04</td>\n",
       "      <td>2024-02-02 22:46:04</td>\n",
       "      <td>986</td>\n",
       "      <td>40</td>\n",
       "      <td>Digital Wallet</td>\n",
       "      <td>198</td>\n",
       "      <td>23</td>\n",
       "      <td>0</td>\n",
       "    </tr>\n",
       "  </tbody>\n",
       "</table>\n",
       "</div>"
      ],
      "text/plain": [
       "   order_id customer_id restaurant_id  order_date_and_time  \\\n",
       "0         1       C8270         R2924  2024-02-01 01:11:52   \n",
       "1         2       C1860         R2054  2024-02-02 22:11:04   \n",
       "\n",
       "  delivery_date_and_time  order_value  delivery_fee  payment_method  \\\n",
       "0    2024-02-01 02:39:52         1914             0     Credit Card   \n",
       "1    2024-02-02 22:46:04          986            40  Digital Wallet   \n",
       "\n",
       "   commission_fee  payment_processing_fee  refunds_chargebacks  \n",
       "0             150                      47                    0  \n",
       "1             198                      23                    0  "
      ]
     },
     "execution_count": 93,
     "metadata": {},
     "output_type": "execute_result"
    }
   ],
   "source": [
    "food_data.dropna(axis=1).head(2)"
   ]
  },
  {
   "cell_type": "code",
   "execution_count": 94,
   "id": "94cdc589-f203-4e35-8633-753fc89097f9",
   "metadata": {},
   "outputs": [
    {
     "data": {
      "text/plain": [
       "discounts_and_offers\n",
       "10%             233\n",
       "50 off Promo    201\n",
       "15% New User    198\n",
       "5% on App       183\n",
       "Name: count, dtype: int64"
      ]
     },
     "execution_count": 94,
     "metadata": {},
     "output_type": "execute_result"
    }
   ],
   "source": [
    "food_data.discounts_and_offers.value_counts()"
   ]
  },
  {
   "cell_type": "code",
   "execution_count": 95,
   "id": "2e0b29ef-10b3-4dfd-bbb5-6dc199e3244c",
   "metadata": {},
   "outputs": [
    {
     "data": {
      "image/png": "[encoded data removed]",
      "text/latex": [
       "$\\displaystyle \\left( 1000, \\  12\\right)$"
      ],
      "text/plain": [
       "(1000, 12)"
      ]
     },
     "execution_count": 95,
     "metadata": {},
     "output_type": "execute_result"
    }
   ],
   "source": [
    "food_data.shape"
   ]
  },
  {
   "cell_type": "markdown",
   "id": "83efe2db-2a79-4f0e-a5a8-76af0b83b9aa",
   "metadata": {},
   "source": [
    "## 3. Pre-process the Data\n",
    "### Determine the time difference\n",
    "I changed the datetime columns to DateTime object, took the difference and converted tit into minutes then assigned it a column"
   ]
  },
  {
   "cell_type": "code",
   "execution_count": 96,
   "id": "e53ca8e3-1f87-4aa1-8261-e1029a07d386",
   "metadata": {},
   "outputs": [],
   "source": [
    "from datetime import datetime"
   ]
  },
  {
   "cell_type": "code",
   "execution_count": 97,
   "id": "73df0ffb-6f9b-4e5d-a465-006394b1c1e2",
   "metadata": {},
   "outputs": [],
   "source": [
    "#Create a function to compute the difference in time between the columns\n",
    "\n",
    "def new_col_time_diff(df,col_earlier,col_later):\n",
    "    \"\"\"\n",
    "    This function accepts the dataframe and the name of the two columns whose time difference is to be compted.\n",
    "    Arguments: df=Dataframe\n",
    "              col_earlier= Column having earlier times\n",
    "              col_later=Column having later times\n",
    "    It returns a column showing time difference in minutes\n",
    "    \"\"\"\n",
    "    df[col_earlier]=pd.to_datetime(df[col_earlier])\n",
    "    df[col_later]=pd.to_datetime(df[col_later])\n",
    "    new_col_diff=(df[col_later]-df[col_earlier]).apply(lambda x: x.seconds/60)\n",
    "    return new_col_diff"
   ]
  },
  {
   "cell_type": "code",
   "execution_count": 98,
   "id": "f9adb63c-4a01-4c53-abe9-3e8f09cb8350",
   "metadata": {},
   "outputs": [],
   "source": [
    "food_data['time_def']=new_col_time_diff(food_data,'order_date_and_time','delivery_date_and_time')"
   ]
  },
  {
   "cell_type": "code",
   "execution_count": 99,
   "id": "0ac35737-ce06-4d03-b2d9-a8d718f3422a",
   "metadata": {},
   "outputs": [
    {
     "data": {
      "text/plain": [
       "0    88.0\n",
       "1    35.0\n",
       "Name: time_def, dtype: float64"
      ]
     },
     "execution_count": 99,
     "metadata": {},
     "output_type": "execute_result"
    }
   ],
   "source": [
    "food_data['time_def'][:2]"
   ]
  },
  {
   "cell_type": "markdown",
   "id": "95a06e6e-a86d-4f72-b0a6-2f8768075259",
   "metadata": {},
   "source": [
    "### Discounts and offers\n",
    "Compute a column for discounts and offers. I used regex to extract numbers from the strings then created two columns, one with percentages and another with amounts."
   ]
  },
  {
   "cell_type": "code",
   "execution_count": 100,
   "id": "56ff0c9d-56df-45f9-911b-ac8d54a4ba77",
   "metadata": {},
   "outputs": [
    {
     "data": {
      "text/html": [
       "<div>\n",
       "<style scoped>\n",
       "    .dataframe tbody tr th:only-of-type {\n",
       "        vertical-align: middle;\n",
       "    }\n",
       "\n",
       "    .dataframe tbody tr th {\n",
       "        vertical-align: top;\n",
       "    }\n",
       "\n",
       "    .dataframe thead th {\n",
       "        text-align: right;\n",
       "    }\n",
       "</style>\n",
       "<table border=\"1\" class=\"dataframe\">\n",
       "  <thead>\n",
       "    <tr style=\"text-align: right;\">\n",
       "      <th></th>\n",
       "      <th>order_id</th>\n",
       "      <th>customer_id</th>\n",
       "      <th>restaurant_id</th>\n",
       "      <th>order_date_and_time</th>\n",
       "      <th>delivery_date_and_time</th>\n",
       "      <th>order_value</th>\n",
       "      <th>delivery_fee</th>\n",
       "      <th>payment_method</th>\n",
       "      <th>discounts_and_offers</th>\n",
       "      <th>commission_fee</th>\n",
       "      <th>payment_processing_fee</th>\n",
       "      <th>refunds_chargebacks</th>\n",
       "      <th>time_def</th>\n",
       "    </tr>\n",
       "  </thead>\n",
       "  <tbody>\n",
       "    <tr>\n",
       "      <th>0</th>\n",
       "      <td>1</td>\n",
       "      <td>C8270</td>\n",
       "      <td>R2924</td>\n",
       "      <td>2024-02-01 01:11:52</td>\n",
       "      <td>2024-02-01 02:39:52</td>\n",
       "      <td>1914</td>\n",
       "      <td>0</td>\n",
       "      <td>Credit Card</td>\n",
       "      <td>5% on App</td>\n",
       "      <td>150</td>\n",
       "      <td>47</td>\n",
       "      <td>0</td>\n",
       "      <td>88.0</td>\n",
       "    </tr>\n",
       "    <tr>\n",
       "      <th>1</th>\n",
       "      <td>2</td>\n",
       "      <td>C1860</td>\n",
       "      <td>R2054</td>\n",
       "      <td>2024-02-02 22:11:04</td>\n",
       "      <td>2024-02-02 22:46:04</td>\n",
       "      <td>986</td>\n",
       "      <td>40</td>\n",
       "      <td>Digital Wallet</td>\n",
       "      <td>10%</td>\n",
       "      <td>198</td>\n",
       "      <td>23</td>\n",
       "      <td>0</td>\n",
       "      <td>35.0</td>\n",
       "    </tr>\n",
       "  </tbody>\n",
       "</table>\n",
       "</div>"
      ],
      "text/plain": [
       "   order_id customer_id restaurant_id order_date_and_time  \\\n",
       "0         1       C8270         R2924 2024-02-01 01:11:52   \n",
       "1         2       C1860         R2054 2024-02-02 22:11:04   \n",
       "\n",
       "  delivery_date_and_time  order_value  delivery_fee  payment_method  \\\n",
       "0    2024-02-01 02:39:52         1914             0     Credit Card   \n",
       "1    2024-02-02 22:46:04          986            40  Digital Wallet   \n",
       "\n",
       "  discounts_and_offers  commission_fee  payment_processing_fee  \\\n",
       "0            5% on App             150                      47   \n",
       "1                  10%             198                      23   \n",
       "\n",
       "   refunds_chargebacks  time_def  \n",
       "0                    0      88.0  \n",
       "1                    0      35.0  "
      ]
     },
     "execution_count": 100,
     "metadata": {},
     "output_type": "execute_result"
    }
   ],
   "source": [
    "food_data.head(2)"
   ]
  },
  {
   "cell_type": "code",
   "execution_count": 101,
   "id": "75091718-84bd-41ff-bfb0-72334c4abe9b",
   "metadata": {},
   "outputs": [
    {
     "data": {
      "text/plain": [
       "discounts_and_offers\n",
       "10%             233\n",
       "50 off Promo    201\n",
       "15% New User    198\n",
       "5% on App       183\n",
       "Name: count, dtype: int64"
      ]
     },
     "execution_count": 101,
     "metadata": {},
     "output_type": "execute_result"
    }
   ],
   "source": [
    "food_data['discounts_and_offers'].value_counts()"
   ]
  },
  {
   "cell_type": "code",
   "execution_count": 102,
   "id": "ca7ae9ea-bcfe-4ec6-8a43-0768ba651864",
   "metadata": {},
   "outputs": [],
   "source": [
    "food_data['perc_discount']=food_data['discounts_and_offers'].str.extract('(\\d+\\%)') # match digits and % sign\n",
    "food_data['amt_discount']=food_data['discounts_and_offers'].str.extract('(\\d+\\s)') # match digits"
   ]
  },
  {
   "cell_type": "code",
   "execution_count": 103,
   "id": "054098f7-dc17-473e-ba08-d1986f367f9f",
   "metadata": {},
   "outputs": [
    {
     "data": {
      "text/html": [
       "<div>\n",
       "<style scoped>\n",
       "    .dataframe tbody tr th:only-of-type {\n",
       "        vertical-align: middle;\n",
       "    }\n",
       "\n",
       "    .dataframe tbody tr th {\n",
       "        vertical-align: top;\n",
       "    }\n",
       "\n",
       "    .dataframe thead th {\n",
       "        text-align: right;\n",
       "    }\n",
       "</style>\n",
       "<table border=\"1\" class=\"dataframe\">\n",
       "  <thead>\n",
       "    <tr style=\"text-align: right;\">\n",
       "      <th></th>\n",
       "      <th>order_id</th>\n",
       "      <th>customer_id</th>\n",
       "      <th>restaurant_id</th>\n",
       "      <th>order_date_and_time</th>\n",
       "      <th>delivery_date_and_time</th>\n",
       "      <th>order_value</th>\n",
       "      <th>delivery_fee</th>\n",
       "      <th>payment_method</th>\n",
       "      <th>discounts_and_offers</th>\n",
       "      <th>commission_fee</th>\n",
       "      <th>payment_processing_fee</th>\n",
       "      <th>refunds_chargebacks</th>\n",
       "      <th>time_def</th>\n",
       "      <th>perc_discount</th>\n",
       "      <th>amt_discount</th>\n",
       "    </tr>\n",
       "  </thead>\n",
       "  <tbody>\n",
       "    <tr>\n",
       "      <th>0</th>\n",
       "      <td>1</td>\n",
       "      <td>C8270</td>\n",
       "      <td>R2924</td>\n",
       "      <td>2024-02-01 01:11:52</td>\n",
       "      <td>2024-02-01 02:39:52</td>\n",
       "      <td>1914</td>\n",
       "      <td>0</td>\n",
       "      <td>Credit Card</td>\n",
       "      <td>5% on App</td>\n",
       "      <td>150</td>\n",
       "      <td>47</td>\n",
       "      <td>0</td>\n",
       "      <td>88.0</td>\n",
       "      <td>5.0</td>\n",
       "      <td>0.0</td>\n",
       "    </tr>\n",
       "    <tr>\n",
       "      <th>1</th>\n",
       "      <td>2</td>\n",
       "      <td>C1860</td>\n",
       "      <td>R2054</td>\n",
       "      <td>2024-02-02 22:11:04</td>\n",
       "      <td>2024-02-02 22:46:04</td>\n",
       "      <td>986</td>\n",
       "      <td>40</td>\n",
       "      <td>Digital Wallet</td>\n",
       "      <td>10%</td>\n",
       "      <td>198</td>\n",
       "      <td>23</td>\n",
       "      <td>0</td>\n",
       "      <td>35.0</td>\n",
       "      <td>10.0</td>\n",
       "      <td>0.0</td>\n",
       "    </tr>\n",
       "    <tr>\n",
       "      <th>2</th>\n",
       "      <td>3</td>\n",
       "      <td>C6390</td>\n",
       "      <td>R2870</td>\n",
       "      <td>2024-01-31 05:54:35</td>\n",
       "      <td>2024-01-31 06:52:35</td>\n",
       "      <td>937</td>\n",
       "      <td>30</td>\n",
       "      <td>Cash on Delivery</td>\n",
       "      <td>15% New User</td>\n",
       "      <td>195</td>\n",
       "      <td>45</td>\n",
       "      <td>0</td>\n",
       "      <td>58.0</td>\n",
       "      <td>15.0</td>\n",
       "      <td>0.0</td>\n",
       "    </tr>\n",
       "    <tr>\n",
       "      <th>3</th>\n",
       "      <td>4</td>\n",
       "      <td>C6191</td>\n",
       "      <td>R2642</td>\n",
       "      <td>2024-01-16 22:52:49</td>\n",
       "      <td>2024-01-16 23:38:49</td>\n",
       "      <td>1463</td>\n",
       "      <td>50</td>\n",
       "      <td>Cash on Delivery</td>\n",
       "      <td>NaN</td>\n",
       "      <td>146</td>\n",
       "      <td>27</td>\n",
       "      <td>0</td>\n",
       "      <td>46.0</td>\n",
       "      <td>0.0</td>\n",
       "      <td>0.0</td>\n",
       "    </tr>\n",
       "    <tr>\n",
       "      <th>4</th>\n",
       "      <td>5</td>\n",
       "      <td>C6734</td>\n",
       "      <td>R2799</td>\n",
       "      <td>2024-01-29 01:19:30</td>\n",
       "      <td>2024-01-29 02:48:30</td>\n",
       "      <td>1992</td>\n",
       "      <td>30</td>\n",
       "      <td>Cash on Delivery</td>\n",
       "      <td>50 off Promo</td>\n",
       "      <td>130</td>\n",
       "      <td>50</td>\n",
       "      <td>0</td>\n",
       "      <td>89.0</td>\n",
       "      <td>0.0</td>\n",
       "      <td>50.0</td>\n",
       "    </tr>\n",
       "  </tbody>\n",
       "</table>\n",
       "</div>"
      ],
      "text/plain": [
       "   order_id customer_id restaurant_id order_date_and_time  \\\n",
       "0         1       C8270         R2924 2024-02-01 01:11:52   \n",
       "1         2       C1860         R2054 2024-02-02 22:11:04   \n",
       "2         3       C6390         R2870 2024-01-31 05:54:35   \n",
       "3         4       C6191         R2642 2024-01-16 22:52:49   \n",
       "4         5       C6734         R2799 2024-01-29 01:19:30   \n",
       "\n",
       "  delivery_date_and_time  order_value  delivery_fee    payment_method  \\\n",
       "0    2024-02-01 02:39:52         1914             0       Credit Card   \n",
       "1    2024-02-02 22:46:04          986            40    Digital Wallet   \n",
       "2    2024-01-31 06:52:35          937            30  Cash on Delivery   \n",
       "3    2024-01-16 23:38:49         1463            50  Cash on Delivery   \n",
       "4    2024-01-29 02:48:30         1992            30  Cash on Delivery   \n",
       "\n",
       "  discounts_and_offers  commission_fee  payment_processing_fee  \\\n",
       "0            5% on App             150                      47   \n",
       "1                  10%             198                      23   \n",
       "2         15% New User             195                      45   \n",
       "3                  NaN             146                      27   \n",
       "4         50 off Promo             130                      50   \n",
       "\n",
       "   refunds_chargebacks  time_def  perc_discount  amt_discount  \n",
       "0                    0      88.0            5.0           0.0  \n",
       "1                    0      35.0           10.0           0.0  \n",
       "2                    0      58.0           15.0           0.0  \n",
       "3                    0      46.0            0.0           0.0  \n",
       "4                    0      89.0            0.0          50.0  "
      ]
     },
     "execution_count": 103,
     "metadata": {},
     "output_type": "execute_result"
    }
   ],
   "source": [
    "food_data['perc_discount']=food_data['perc_discount'].str.rstrip('%').astype(float).fillna(0) #remove percentage and change to float\n",
    "# replace all null values with zero\n",
    "food_data['amt_discount']=food_data['amt_discount'].astype(float).replace(np.nan,0)  # replace all nanvalues with zero\n",
    "food_data.head()"
   ]
  },
  {
   "cell_type": "markdown",
   "id": "05dbc1b3-5e13-4705-9035-21bfe451ac2a",
   "metadata": {},
   "source": [
    "### Drop columns \n",
    "Drop columns that are not required"
   ]
  },
  {
   "cell_type": "code",
   "execution_count": 104,
   "id": "b28e2fda-2fa6-4894-ab93-c54a006eb9f0",
   "metadata": {},
   "outputs": [],
   "source": [
    "ColToDrop=['order_id', 'customer_id', 'restaurant_id',\n",
    "       'delivery_date_and_time','discounts_and_offers']"
   ]
  },
  {
   "cell_type": "code",
   "execution_count": 105,
   "id": "52054a99-0398-4be0-8b80-05259415c073",
   "metadata": {},
   "outputs": [],
   "source": [
    "food_df=food_data.drop(ColToDrop,axis=1)"
   ]
  },
  {
   "cell_type": "code",
   "execution_count": 106,
   "id": "e3e3fe86-13b8-4208-84ba-c4826197d8f1",
   "metadata": {},
   "outputs": [
    {
     "data": {
      "text/html": [
       "<div>\n",
       "<style scoped>\n",
       "    .dataframe tbody tr th:only-of-type {\n",
       "        vertical-align: middle;\n",
       "    }\n",
       "\n",
       "    .dataframe tbody tr th {\n",
       "        vertical-align: top;\n",
       "    }\n",
       "\n",
       "    .dataframe thead th {\n",
       "        text-align: right;\n",
       "    }\n",
       "</style>\n",
       "<table border=\"1\" class=\"dataframe\">\n",
       "  <thead>\n",
       "    <tr style=\"text-align: right;\">\n",
       "      <th></th>\n",
       "      <th>order_date_and_time</th>\n",
       "      <th>order_value</th>\n",
       "      <th>delivery_fee</th>\n",
       "      <th>payment_method</th>\n",
       "      <th>commission_fee</th>\n",
       "      <th>payment_processing_fee</th>\n",
       "      <th>refunds_chargebacks</th>\n",
       "      <th>time_def</th>\n",
       "      <th>perc_discount</th>\n",
       "      <th>amt_discount</th>\n",
       "    </tr>\n",
       "  </thead>\n",
       "  <tbody>\n",
       "    <tr>\n",
       "      <th>0</th>\n",
       "      <td>2024-02-01 01:11:52</td>\n",
       "      <td>1914</td>\n",
       "      <td>0</td>\n",
       "      <td>Credit Card</td>\n",
       "      <td>150</td>\n",
       "      <td>47</td>\n",
       "      <td>0</td>\n",
       "      <td>88.0</td>\n",
       "      <td>5.0</td>\n",
       "      <td>0.0</td>\n",
       "    </tr>\n",
       "    <tr>\n",
       "      <th>1</th>\n",
       "      <td>2024-02-02 22:11:04</td>\n",
       "      <td>986</td>\n",
       "      <td>40</td>\n",
       "      <td>Digital Wallet</td>\n",
       "      <td>198</td>\n",
       "      <td>23</td>\n",
       "      <td>0</td>\n",
       "      <td>35.0</td>\n",
       "      <td>10.0</td>\n",
       "      <td>0.0</td>\n",
       "    </tr>\n",
       "  </tbody>\n",
       "</table>\n",
       "</div>"
      ],
      "text/plain": [
       "  order_date_and_time  order_value  delivery_fee  payment_method  \\\n",
       "0 2024-02-01 01:11:52         1914             0     Credit Card   \n",
       "1 2024-02-02 22:11:04          986            40  Digital Wallet   \n",
       "\n",
       "   commission_fee  payment_processing_fee  refunds_chargebacks  time_def  \\\n",
       "0             150                      47                    0      88.0   \n",
       "1             198                      23                    0      35.0   \n",
       "\n",
       "   perc_discount  amt_discount  \n",
       "0            5.0           0.0  \n",
       "1           10.0           0.0  "
      ]
     },
     "execution_count": 106,
     "metadata": {},
     "output_type": "execute_result"
    }
   ],
   "source": [
    "food_df.head(2)"
   ]
  },
  {
   "cell_type": "code",
   "execution_count": 107,
   "id": "25c5a7a2-6f93-4180-9d69-451c11cbea15",
   "metadata": {},
   "outputs": [
    {
     "data": {
      "text/html": [
       "<div>\n",
       "<style scoped>\n",
       "    .dataframe tbody tr th:only-of-type {\n",
       "        vertical-align: middle;\n",
       "    }\n",
       "\n",
       "    .dataframe tbody tr th {\n",
       "        vertical-align: top;\n",
       "    }\n",
       "\n",
       "    .dataframe thead th {\n",
       "        text-align: right;\n",
       "    }\n",
       "</style>\n",
       "<table border=\"1\" class=\"dataframe\">\n",
       "  <thead>\n",
       "    <tr style=\"text-align: right;\">\n",
       "      <th></th>\n",
       "      <th>order_date_and_time</th>\n",
       "      <th>order_value</th>\n",
       "      <th>delivery_fee</th>\n",
       "      <th>commission_fee</th>\n",
       "      <th>payment_processing_fee</th>\n",
       "      <th>refunds_chargebacks</th>\n",
       "      <th>time_def</th>\n",
       "      <th>perc_discount</th>\n",
       "      <th>amt_discount</th>\n",
       "    </tr>\n",
       "  </thead>\n",
       "  <tbody>\n",
       "    <tr>\n",
       "      <th>count</th>\n",
       "      <td>1000</td>\n",
       "      <td>1000.000000</td>\n",
       "      <td>1000.000000</td>\n",
       "      <td>1000.00000</td>\n",
       "      <td>1000.000000</td>\n",
       "      <td>1000.000000</td>\n",
       "      <td>1000.000000</td>\n",
       "      <td>1000.00000</td>\n",
       "      <td>1000.000000</td>\n",
       "    </tr>\n",
       "    <tr>\n",
       "      <th>mean</th>\n",
       "      <td>2024-01-20 11:03:07.648000</td>\n",
       "      <td>1053.969000</td>\n",
       "      <td>28.620000</td>\n",
       "      <td>126.99000</td>\n",
       "      <td>29.832000</td>\n",
       "      <td>28.300000</td>\n",
       "      <td>73.575000</td>\n",
       "      <td>6.21500</td>\n",
       "      <td>10.050000</td>\n",
       "    </tr>\n",
       "    <tr>\n",
       "      <th>min</th>\n",
       "      <td>2024-01-01 02:12:47</td>\n",
       "      <td>104.000000</td>\n",
       "      <td>0.000000</td>\n",
       "      <td>50.00000</td>\n",
       "      <td>10.000000</td>\n",
       "      <td>0.000000</td>\n",
       "      <td>30.000000</td>\n",
       "      <td>0.00000</td>\n",
       "      <td>0.000000</td>\n",
       "    </tr>\n",
       "    <tr>\n",
       "      <th>25%</th>\n",
       "      <td>2024-01-11 18:45:27.249999872</td>\n",
       "      <td>597.750000</td>\n",
       "      <td>20.000000</td>\n",
       "      <td>90.00000</td>\n",
       "      <td>20.000000</td>\n",
       "      <td>0.000000</td>\n",
       "      <td>50.000000</td>\n",
       "      <td>0.00000</td>\n",
       "      <td>0.000000</td>\n",
       "    </tr>\n",
       "    <tr>\n",
       "      <th>50%</th>\n",
       "      <td>2024-01-20 11:38:43</td>\n",
       "      <td>1038.500000</td>\n",
       "      <td>30.000000</td>\n",
       "      <td>127.00000</td>\n",
       "      <td>30.000000</td>\n",
       "      <td>0.000000</td>\n",
       "      <td>74.000000</td>\n",
       "      <td>5.00000</td>\n",
       "      <td>0.000000</td>\n",
       "    </tr>\n",
       "    <tr>\n",
       "      <th>75%</th>\n",
       "      <td>2024-01-30 03:47:34.249999872</td>\n",
       "      <td>1494.000000</td>\n",
       "      <td>40.000000</td>\n",
       "      <td>164.00000</td>\n",
       "      <td>40.000000</td>\n",
       "      <td>50.000000</td>\n",
       "      <td>96.000000</td>\n",
       "      <td>10.00000</td>\n",
       "      <td>0.000000</td>\n",
       "    </tr>\n",
       "    <tr>\n",
       "      <th>max</th>\n",
       "      <td>2024-02-07 23:56:12</td>\n",
       "      <td>1995.000000</td>\n",
       "      <td>50.000000</td>\n",
       "      <td>200.00000</td>\n",
       "      <td>50.000000</td>\n",
       "      <td>150.000000</td>\n",
       "      <td>119.000000</td>\n",
       "      <td>15.00000</td>\n",
       "      <td>50.000000</td>\n",
       "    </tr>\n",
       "    <tr>\n",
       "      <th>std</th>\n",
       "      <td>NaN</td>\n",
       "      <td>530.975339</td>\n",
       "      <td>16.958278</td>\n",
       "      <td>43.06405</td>\n",
       "      <td>11.627165</td>\n",
       "      <td>49.614228</td>\n",
       "      <td>26.015133</td>\n",
       "      <td>5.81658</td>\n",
       "      <td>20.047429</td>\n",
       "    </tr>\n",
       "  </tbody>\n",
       "</table>\n",
       "</div>"
      ],
      "text/plain": [
       "                 order_date_and_time  order_value  delivery_fee  \\\n",
       "count                           1000  1000.000000   1000.000000   \n",
       "mean      2024-01-20 11:03:07.648000  1053.969000     28.620000   \n",
       "min              2024-01-01 02:12:47   104.000000      0.000000   \n",
       "25%    2024-01-11 18:45:27.249999872   597.750000     20.000000   \n",
       "50%              2024-01-20 11:38:43  1038.500000     30.000000   \n",
       "75%    2024-01-30 03:47:34.249999872  1494.000000     40.000000   \n",
       "max              2024-02-07 23:56:12  1995.000000     50.000000   \n",
       "std                              NaN   530.975339     16.958278   \n",
       "\n",
       "       commission_fee  payment_processing_fee  refunds_chargebacks  \\\n",
       "count      1000.00000             1000.000000          1000.000000   \n",
       "mean        126.99000               29.832000            28.300000   \n",
       "min          50.00000               10.000000             0.000000   \n",
       "25%          90.00000               20.000000             0.000000   \n",
       "50%         127.00000               30.000000             0.000000   \n",
       "75%         164.00000               40.000000            50.000000   \n",
       "max         200.00000               50.000000           150.000000   \n",
       "std          43.06405               11.627165            49.614228   \n",
       "\n",
       "          time_def  perc_discount  amt_discount  \n",
       "count  1000.000000     1000.00000   1000.000000  \n",
       "mean     73.575000        6.21500     10.050000  \n",
       "min      30.000000        0.00000      0.000000  \n",
       "25%      50.000000        0.00000      0.000000  \n",
       "50%      74.000000        5.00000      0.000000  \n",
       "75%      96.000000       10.00000      0.000000  \n",
       "max     119.000000       15.00000     50.000000  \n",
       "std      26.015133        5.81658     20.047429  "
      ]
     },
     "execution_count": 107,
     "metadata": {},
     "output_type": "execute_result"
    }
   ],
   "source": [
    "food_df.describe()"
   ]
  },
  {
   "cell_type": "markdown",
   "id": "9fa63f55-7fa3-44b7-9b69-6f81ca1e72cf",
   "metadata": {},
   "source": [
    "Answer to the data questionsis more than zero.\r\n"
   ]
  },
  {
   "cell_type": "markdown",
   "id": "507ac9ec-7a1e-4ae1-8900-6ac9ba647292",
   "metadata": {},
   "source": [
    "\r\n",
    "* Break down the costs associated with each order, including fixed costs (like packaging) and variable costs (like delivery fees and discounts).\r\n",
    "* Determine the revenue generated from each order, focusing on commission fees and the order value before discounts.\r\n",
    "* For each order, calculate the profit by subtracting the total costs from the revenue. Analyze the distribution of profitability across all orders to identify trends.\r\n",
    "* Based on the cost and profitability analysis, develop strategic recommendations aimed at enhancing profitability.\r\n",
    "* Use the data to simulate the financial impact of proposed changes, such as adjusting discount or commission rates.\r\n",
    "* Find the most common delivery method. What is the proportion of the most common delivery method?\r\n",
    "* Find 95% confidence interval of the proportion of the most common delivery method\r\n",
    "* Determine the average and the median commission fee.\r\n",
    "* Find the average order value of the customer\r\n",
    "* Find the probability that a commission fee is\r\n",
    "\ti). More than 120\r\n",
    "\tii). Less than 143\r\n",
    "\tiii). Between 86 and 133\r\n",
    "* Fine the average delivery time of the orders done by the credit card\r\n",
    "* What is the lowest order value of 10% largest orders done by Cash on delivery?\r\n",
    "* What is the highest order value of 60% least orders done by Digital Wallet?\r\n",
    "* By what amount is the mean value by Digital Wallet more or less than that of Cash on delivery?\r\n",
    "* The delivery time for any item will take more than 53 minutes. Using a significance level of 0.05, prove or disapprove this claim.\r\n",
    "* What is the range within which the middle 50% ordering-delivery durations differ?\r\n",
    "* Find the distribution of various payment methods whose Refunds/Chargebacks is more than zero."
   ]
  },
  {
   "cell_type": "markdown",
   "id": "dcaf6d45-ba0c-4b3b-9f5b-952d7cbc29d4",
   "metadata": {},
   "source": [
    "**Qn1: Break down the costs associated with each order, including fixed costs (like packaging) and variable costs (like delivery fees and discounts).**\n",
    "\n",
    "For each order, we have the following costs\n",
    "\n",
    "**Fixed Costs and deductions from the order value**\n",
    "* fixed discount on promo\n",
    "\n",
    "**Variable Costs and deductions from the order value**\n",
    "* delivery fee\n",
    "* payment processing fee\n",
    "* refunds/chargebacks\n",
    "* commission fee\n",
    "* Variable discounts"
   ]
  },
  {
   "cell_type": "code",
   "execution_count": 108,
   "id": "d6cc770e-2404-4223-b00b-506b1da4060c",
   "metadata": {},
   "outputs": [
    {
     "data": {
      "text/html": [
       "<div>\n",
       "<style scoped>\n",
       "    .dataframe tbody tr th:only-of-type {\n",
       "        vertical-align: middle;\n",
       "    }\n",
       "\n",
       "    .dataframe tbody tr th {\n",
       "        vertical-align: top;\n",
       "    }\n",
       "\n",
       "    .dataframe thead th {\n",
       "        text-align: right;\n",
       "    }\n",
       "</style>\n",
       "<table border=\"1\" class=\"dataframe\">\n",
       "  <thead>\n",
       "    <tr style=\"text-align: right;\">\n",
       "      <th></th>\n",
       "      <th>order_date_and_time</th>\n",
       "      <th>order_value</th>\n",
       "      <th>delivery_fee</th>\n",
       "      <th>payment_method</th>\n",
       "      <th>commission_fee</th>\n",
       "      <th>payment_processing_fee</th>\n",
       "      <th>refunds_chargebacks</th>\n",
       "      <th>time_def</th>\n",
       "      <th>perc_discount</th>\n",
       "      <th>amt_discount</th>\n",
       "    </tr>\n",
       "  </thead>\n",
       "  <tbody>\n",
       "    <tr>\n",
       "      <th>0</th>\n",
       "      <td>2024-02-01 01:11:52</td>\n",
       "      <td>1914</td>\n",
       "      <td>0</td>\n",
       "      <td>Credit Card</td>\n",
       "      <td>150</td>\n",
       "      <td>47</td>\n",
       "      <td>0</td>\n",
       "      <td>88.0</td>\n",
       "      <td>5.0</td>\n",
       "      <td>0.0</td>\n",
       "    </tr>\n",
       "    <tr>\n",
       "      <th>1</th>\n",
       "      <td>2024-02-02 22:11:04</td>\n",
       "      <td>986</td>\n",
       "      <td>40</td>\n",
       "      <td>Digital Wallet</td>\n",
       "      <td>198</td>\n",
       "      <td>23</td>\n",
       "      <td>0</td>\n",
       "      <td>35.0</td>\n",
       "      <td>10.0</td>\n",
       "      <td>0.0</td>\n",
       "    </tr>\n",
       "    <tr>\n",
       "      <th>2</th>\n",
       "      <td>2024-01-31 05:54:35</td>\n",
       "      <td>937</td>\n",
       "      <td>30</td>\n",
       "      <td>Cash on Delivery</td>\n",
       "      <td>195</td>\n",
       "      <td>45</td>\n",
       "      <td>0</td>\n",
       "      <td>58.0</td>\n",
       "      <td>15.0</td>\n",
       "      <td>0.0</td>\n",
       "    </tr>\n",
       "    <tr>\n",
       "      <th>3</th>\n",
       "      <td>2024-01-16 22:52:49</td>\n",
       "      <td>1463</td>\n",
       "      <td>50</td>\n",
       "      <td>Cash on Delivery</td>\n",
       "      <td>146</td>\n",
       "      <td>27</td>\n",
       "      <td>0</td>\n",
       "      <td>46.0</td>\n",
       "      <td>0.0</td>\n",
       "      <td>0.0</td>\n",
       "    </tr>\n",
       "  </tbody>\n",
       "</table>\n",
       "</div>"
      ],
      "text/plain": [
       "  order_date_and_time  order_value  delivery_fee    payment_method  \\\n",
       "0 2024-02-01 01:11:52         1914             0       Credit Card   \n",
       "1 2024-02-02 22:11:04          986            40    Digital Wallet   \n",
       "2 2024-01-31 05:54:35          937            30  Cash on Delivery   \n",
       "3 2024-01-16 22:52:49         1463            50  Cash on Delivery   \n",
       "\n",
       "   commission_fee  payment_processing_fee  refunds_chargebacks  time_def  \\\n",
       "0             150                      47                    0      88.0   \n",
       "1             198                      23                    0      35.0   \n",
       "2             195                      45                    0      58.0   \n",
       "3             146                      27                    0      46.0   \n",
       "\n",
       "   perc_discount  amt_discount  \n",
       "0            5.0           0.0  \n",
       "1           10.0           0.0  \n",
       "2           15.0           0.0  \n",
       "3            0.0           0.0  "
      ]
     },
     "execution_count": 108,
     "metadata": {},
     "output_type": "execute_result"
    }
   ],
   "source": [
    "food_df.head(4)"
   ]
  },
  {
   "cell_type": "markdown",
   "id": "4765fcde-f792-4e08-aacb-66e3c08f9b0d",
   "metadata": {},
   "source": [
    "**Qn2: Determine the revenue generated from each order, focusing on commission fees and the order value before discounts**\n",
    "\n",
    "This will be a column showing the revenue generated"
   ]
  },
  {
   "cell_type": "code",
   "execution_count": 109,
   "id": "0b55dea9-4f14-4718-a27f-3ac421d46d04",
   "metadata": {},
   "outputs": [],
   "source": [
    "food_df['rev_b4_discount']=food_df['order_value']-food_df['commission_fee']"
   ]
  },
  {
   "cell_type": "code",
   "execution_count": 110,
   "id": "2457048e-3ea6-4745-9fed-2beb18c82399",
   "metadata": {},
   "outputs": [
    {
     "name": "stdout",
     "output_type": "stream",
     "text": [
      "Total Revenue generated before discount is 926979\n"
     ]
    }
   ],
   "source": [
    "print('Total Revenue generated before discount is {}'.format(food_df['rev_b4_discount'].sum()))"
   ]
  },
  {
   "cell_type": "markdown",
   "id": "e3ac0a68-ab9d-49b2-911b-59645adb79cc",
   "metadata": {},
   "source": [
    "**Qn3: For each order, calculate the profit by subtracting the total costs from the revenue. Analyze the distribution of profitability across all orders to identify trend**\n",
    "\n",
    "**Qn4: Based on the cost and profitability analysis, develop strategic recommendations aimed at enhancing profitability..**"
   ]
  },
  {
   "cell_type": "code",
   "execution_count": 111,
   "id": "7c53c81b-3405-42bc-bf40-af353e8af21e",
   "metadata": {},
   "outputs": [],
   "source": [
    "food_df['total_cost']=food_df['commission_fee']+food_df['delivery_fee']+food_df['payment_processing_fee']+food_df['refunds_chargebacks']+(food_df['perc_discount']*0.01*food_df['order_value'])+food_df['amt_discount']\n",
    "food_df['profit']=food_df['order_value']-food_df['total_cost']"
   ]
  },
  {
   "cell_type": "code",
   "execution_count": 112,
   "id": "11ad7246-e6b3-41ee-8b76-8f720c355924",
   "metadata": {},
   "outputs": [
    {
     "name": "stdout",
     "output_type": "stream",
     "text": [
      "Total Profit is 765937.1499999999\n"
     ]
    }
   ],
   "source": [
    "food_df['profit'].sum()\n",
    "print('Total Profit is {}'.format(food_df['profit'].sum()))"
   ]
  },
  {
   "cell_type": "code",
   "execution_count": 113,
   "id": "b02df43e-40f5-4c2f-a045-cf41720ccfbf",
   "metadata": {
    "scrolled": true
   },
   "outputs": [
    {
     "data": {
      "text/plain": [
       "Index([          1002.125, 1378.1044776119404, 250.91803278688525,\n",
       "       1846.2758620689656,  910.1754385964912,  531.0526315789474,\n",
       "       1570.6274509803923,   816.265306122449, 1291.0408163265306,\n",
       "       1197.2448979591836,  720.3877551020408, 1095.0208333333333,\n",
       "       1663.8936170212767, 1945.3260869565217,  621.5227272727273,\n",
       "        445.3255813953488,  145.9268292682927,           1478.275,\n",
       "       1762.0277777777778,  342.4166666666667],\n",
       "      dtype='float64', name='order_value')"
      ]
     },
     "execution_count": 113,
     "metadata": {},
     "output_type": "execute_result"
    }
   ],
   "source": [
    "no_of_output=int(food_df.shape[0]/50)\n",
    "cats=pd.cut(food_df['order_value'],no_of_output,right=True,include_lowest=True)\n",
    "cats_order_val=food_df.groupby(cats, observed=True)['order_value'].transform('mean').value_counts()\n",
    "cats_order_val.keys()"
   ]
  },
  {
   "cell_type": "code",
   "execution_count": 114,
   "id": "5bffbf63-94ca-4762-b483-3703b385b0ff",
   "metadata": {},
   "outputs": [
    {
     "data": {
      "image/png": "[encoded data removed]",
      "text/latex": [
       "$\\displaystyle 20$"
      ],
      "text/plain": [
       "20"
      ]
     },
     "execution_count": 114,
     "metadata": {},
     "output_type": "execute_result"
    }
   ],
   "source": [
    "no_of_output"
   ]
  },
  {
   "cell_type": "code",
   "execution_count": 115,
   "id": "b62c9574-d188-49ec-b15f-b00f061c2f61",
   "metadata": {},
   "outputs": [
    {
     "data": {
      "image/png": "[encoded data removed]",
      "text/latex": [
       "$\\displaystyle 20$"
      ],
      "text/plain": [
       "20"
      ]
     },
     "execution_count": 115,
     "metadata": {},
     "output_type": "execute_result"
    }
   ],
   "source": [
    "len(cats_order_val.keys())"
   ]
  },
  {
   "cell_type": "markdown",
   "id": "15145c7c-4b20-4ad8-a479-5995cb9f7b9e",
   "metadata": {},
   "source": [
    "**We create a function to create the bins and compute the mean of those beans. We can then use it to find the mean of the bins for profit and the income(order_value)**"
   ]
  },
  {
   "cell_type": "code",
   "execution_count": 116,
   "id": "abe5d904-437a-4357-8cb6-64ba982ce5a9",
   "metadata": {},
   "outputs": [],
   "source": [
    "def mean_bins_list(df,col,no_of_bins):\n",
    "    \"\"\"\n",
    "    This function created bins from columns and computes the men of those bins\n",
    "    arguments: df = the dataframe\n",
    "               col= The column from there the bins are to be created\n",
    "               no_of_bins = The number of bind required \n",
    "    output: a list of the means from each bin \n",
    "    \"\"\"\n",
    "    category=pd.cut(df[col],no_of_bins,right=True,include_lowest=True)\n",
    "    means_list=list(df.groupby(category,observed=True)[col].transform('mean').value_counts().keys())\n",
    "    return means_list\n",
    "\n",
    "#Compute the list of means from each bins for each column of interest. The number of output is 20\n",
    "bins_profit_means=mean_bins_list(food_df,'profit',no_of_output)\n",
    "bins_cost_means=mean_bins_list(food_df,'total_cost',no_of_output)"
   ]
  },
  {
   "cell_type": "code",
   "execution_count": 117,
   "id": "1190691f-2947-47fb-b88e-863286f89c8a",
   "metadata": {},
   "outputs": [
    {
     "data": {
      "image/png": "[encoded data removed]",
      "text/latex": [
       "$\\displaystyle 20$"
      ],
      "text/plain": [
       "20"
      ]
     },
     "execution_count": 117,
     "metadata": {},
     "output_type": "execute_result"
    }
   ],
   "source": [
    "no_of_output"
   ]
  },
  {
   "cell_type": "code",
   "execution_count": 118,
   "id": "59e5019b-3f09-4ca0-bc8f-d47cb89dbdfa",
   "metadata": {},
   "outputs": [],
   "source": [
    "#We reverse the lists to ensure that the most recent orders comes last the first orders comes first\n",
    "bins_profit_means.reverse()\n",
    "bins_cost_means.reverse()"
   ]
  },
  {
   "cell_type": "code",
   "execution_count": 119,
   "id": "66b5a80c-9a94-4ad1-918d-e2c66bb30f58",
   "metadata": {},
   "outputs": [
    {
     "data": {
      "image/png": "[encoded data removed]",
      "text/latex": [
       "$\\displaystyle \\left[ 666.6, \\  617.5, \\  584.35, \\  89.2, \\  562.333333333333\\right]$"
      ],
      "text/plain": [
       "[666.5999999999999, 617.5, 584.35, 89.2, 562.3333333333334]"
      ]
     },
     "execution_count": 119,
     "metadata": {},
     "output_type": "execute_result"
    }
   ],
   "source": [
    "bins_cost_means[:5]"
   ]
  },
  {
   "cell_type": "code",
   "execution_count": 120,
   "id": "0a1f699a-d735-4acb-b689-08026e1fb6dd",
   "metadata": {
    "scrolled": true
   },
   "outputs": [],
   "source": [
    "#plot the profit trend and the cost trend\n",
    "# Create a function to plot the line plots\n",
    "def create_line_plts(no_of_x_values,y_values,color):\n",
    "    \"\"\"\n",
    "    This function create the line plots for the list of means created\n",
    "    arguements: no_of_x_values = Te number of x values to be used as lists\n",
    "                y_values = the list of means\n",
    "                label=the label for that group\n",
    "    Output = The function returns a line plot\n",
    "    \"\"\"\n",
    "    return plt.plot(np.arange(0,no_of_x_values,1),y_values,color)"
   ]
  },
  {
   "cell_type": "code",
   "execution_count": 121,
   "id": "3fd73627-64ec-4fb2-8775-8bca9af8d852",
   "metadata": {},
   "outputs": [
    {
     "data": {
      "image/png": "[encoded data removed]",
      "text/plain": [
       "<Figure size 640x480 with 1 Axes>"
      ]
     },
     "metadata": {},
     "output_type": "display_data"
    }
   ],
   "source": [
    "#Create a list of means from each bin and show a trend in comparison with the cost and order value\n",
    "color=['red','deepskyblue']\n",
    "label=['profit','cost']\n",
    "mean_list=[bins_profit_means,bins_cost_means]\n",
    "\n",
    "\n",
    "for m,c in zip(mean_list,color):\n",
    "    create_line_plts(no_of_output,y_values=m,color=c)\n",
    "plt.legend(label)\n",
    "plt.ylabel('Amount in dollars')\n",
    "plt.xlabel('bins labels')\n",
    "plt.title('Profit Trend')\n",
    "plt.xlim([0,21])\n",
    "plt.show();"
   ]
  },
  {
   "cell_type": "markdown",
   "id": "a635de22-509d-40c9-a1b8-b8fa509598c7",
   "metadata": {},
   "source": [
    "**We can as well create the line graph based on the use dates to **"
   ]
  },
  {
   "cell_type": "code",
   "execution_count": 122,
   "id": "e0c97898-ac51-4f7e-8ae3-09fb0de1ba6c",
   "metadata": {},
   "outputs": [
    {
     "data": {
      "text/plain": [
       "0       2/1\n",
       "1       2/2\n",
       "2      1/31\n",
       "3      1/16\n",
       "4      1/29\n",
       "       ... \n",
       "995    1/14\n",
       "996    1/28\n",
       "997    1/21\n",
       "998    1/30\n",
       "999     1/8\n",
       "Name: day_month, Length: 1000, dtype: object"
      ]
     },
     "execution_count": 122,
     "metadata": {},
     "output_type": "execute_result"
    }
   ],
   "source": [
    "food_df['order_date_and_time']=pd.to_datetime(food_df['order_date_and_time']).apply(lambda x: x.date()) # gives us the date only without time\n",
    "#Create a function to combine month and day\n",
    "def combine_m_d(df,col,col_new_name):\n",
    "    \"\"\"\n",
    "    The function gets creates a day month string from the date column\n",
    "    arguments: Dataframe, the date column, the name of the new column\n",
    "    output: A pandas new column for the dataframe provided\n",
    "    \"\"\"\n",
    "    df['mon']=df[col].apply(lambda x:x.month).astype(str)\n",
    "    df['day']=df[col].apply(lambda x:x.day).astype(str)\n",
    "    df[col_new_name]=(df['mon']+'/'+df['day'])\n",
    "    df[col_new_name]\n",
    "    return df[col_new_name]\n",
    "\n",
    "combine_m_d(food_df,'order_date_and_time','day_month')"
   ]
  },
  {
   "cell_type": "code",
   "execution_count": 123,
   "id": "d80c8efc-bdb0-42d4-8476-45a9b5af397a",
   "metadata": {},
   "outputs": [
    {
     "data": {
      "text/html": [
       "<div>\n",
       "<style scoped>\n",
       "    .dataframe tbody tr th:only-of-type {\n",
       "        vertical-align: middle;\n",
       "    }\n",
       "\n",
       "    .dataframe tbody tr th {\n",
       "        vertical-align: top;\n",
       "    }\n",
       "\n",
       "    .dataframe thead th {\n",
       "        text-align: right;\n",
       "    }\n",
       "</style>\n",
       "<table border=\"1\" class=\"dataframe\">\n",
       "  <thead>\n",
       "    <tr style=\"text-align: right;\">\n",
       "      <th></th>\n",
       "      <th>order_date_and_time</th>\n",
       "      <th>order_value</th>\n",
       "      <th>delivery_fee</th>\n",
       "      <th>payment_method</th>\n",
       "      <th>commission_fee</th>\n",
       "      <th>payment_processing_fee</th>\n",
       "      <th>refunds_chargebacks</th>\n",
       "      <th>time_def</th>\n",
       "      <th>perc_discount</th>\n",
       "      <th>amt_discount</th>\n",
       "      <th>rev_b4_discount</th>\n",
       "      <th>total_cost</th>\n",
       "      <th>profit</th>\n",
       "      <th>mon</th>\n",
       "      <th>day</th>\n",
       "      <th>day_month</th>\n",
       "    </tr>\n",
       "  </thead>\n",
       "  <tbody>\n",
       "    <tr>\n",
       "      <th>741</th>\n",
       "      <td>2024-01-01</td>\n",
       "      <td>971</td>\n",
       "      <td>50</td>\n",
       "      <td>Cash on Delivery</td>\n",
       "      <td>110</td>\n",
       "      <td>47</td>\n",
       "      <td>0</td>\n",
       "      <td>55.0</td>\n",
       "      <td>0.0</td>\n",
       "      <td>50.0</td>\n",
       "      <td>861</td>\n",
       "      <td>257.0</td>\n",
       "      <td>714.0</td>\n",
       "      <td>1</td>\n",
       "      <td>1</td>\n",
       "      <td>1/1</td>\n",
       "    </tr>\n",
       "    <tr>\n",
       "      <th>217</th>\n",
       "      <td>2024-01-01</td>\n",
       "      <td>1041</td>\n",
       "      <td>0</td>\n",
       "      <td>Digital Wallet</td>\n",
       "      <td>155</td>\n",
       "      <td>24</td>\n",
       "      <td>0</td>\n",
       "      <td>93.0</td>\n",
       "      <td>0.0</td>\n",
       "      <td>50.0</td>\n",
       "      <td>886</td>\n",
       "      <td>229.0</td>\n",
       "      <td>812.0</td>\n",
       "      <td>1</td>\n",
       "      <td>1</td>\n",
       "      <td>1/1</td>\n",
       "    </tr>\n",
       "    <tr>\n",
       "      <th>982</th>\n",
       "      <td>2024-01-01</td>\n",
       "      <td>934</td>\n",
       "      <td>20</td>\n",
       "      <td>Digital Wallet</td>\n",
       "      <td>121</td>\n",
       "      <td>40</td>\n",
       "      <td>0</td>\n",
       "      <td>100.0</td>\n",
       "      <td>0.0</td>\n",
       "      <td>0.0</td>\n",
       "      <td>813</td>\n",
       "      <td>181.0</td>\n",
       "      <td>753.0</td>\n",
       "      <td>1</td>\n",
       "      <td>1</td>\n",
       "      <td>1/1</td>\n",
       "    </tr>\n",
       "    <tr>\n",
       "      <th>983</th>\n",
       "      <td>2024-01-01</td>\n",
       "      <td>1229</td>\n",
       "      <td>20</td>\n",
       "      <td>Digital Wallet</td>\n",
       "      <td>74</td>\n",
       "      <td>41</td>\n",
       "      <td>0</td>\n",
       "      <td>65.0</td>\n",
       "      <td>0.0</td>\n",
       "      <td>50.0</td>\n",
       "      <td>1155</td>\n",
       "      <td>185.0</td>\n",
       "      <td>1044.0</td>\n",
       "      <td>1</td>\n",
       "      <td>1</td>\n",
       "      <td>1/1</td>\n",
       "    </tr>\n",
       "    <tr>\n",
       "      <th>504</th>\n",
       "      <td>2024-01-01</td>\n",
       "      <td>707</td>\n",
       "      <td>20</td>\n",
       "      <td>Cash on Delivery</td>\n",
       "      <td>177</td>\n",
       "      <td>20</td>\n",
       "      <td>0</td>\n",
       "      <td>107.0</td>\n",
       "      <td>10.0</td>\n",
       "      <td>0.0</td>\n",
       "      <td>530</td>\n",
       "      <td>287.7</td>\n",
       "      <td>419.3</td>\n",
       "      <td>1</td>\n",
       "      <td>1</td>\n",
       "      <td>1/1</td>\n",
       "    </tr>\n",
       "  </tbody>\n",
       "</table>\n",
       "</div>"
      ],
      "text/plain": [
       "    order_date_and_time  order_value  delivery_fee    payment_method  \\\n",
       "741          2024-01-01          971            50  Cash on Delivery   \n",
       "217          2024-01-01         1041             0    Digital Wallet   \n",
       "982          2024-01-01          934            20    Digital Wallet   \n",
       "983          2024-01-01         1229            20    Digital Wallet   \n",
       "504          2024-01-01          707            20  Cash on Delivery   \n",
       "\n",
       "     commission_fee  payment_processing_fee  refunds_chargebacks  time_def  \\\n",
       "741             110                      47                    0      55.0   \n",
       "217             155                      24                    0      93.0   \n",
       "982             121                      40                    0     100.0   \n",
       "983              74                      41                    0      65.0   \n",
       "504             177                      20                    0     107.0   \n",
       "\n",
       "     perc_discount  amt_discount  rev_b4_discount  total_cost  profit mon day  \\\n",
       "741            0.0          50.0              861       257.0   714.0   1   1   \n",
       "217            0.0          50.0              886       229.0   812.0   1   1   \n",
       "982            0.0           0.0              813       181.0   753.0   1   1   \n",
       "983            0.0          50.0             1155       185.0  1044.0   1   1   \n",
       "504           10.0           0.0              530       287.7   419.3   1   1   \n",
       "\n",
       "    day_month  \n",
       "741       1/1  \n",
       "217       1/1  \n",
       "982       1/1  \n",
       "983       1/1  \n",
       "504       1/1  "
      ]
     },
     "execution_count": 123,
     "metadata": {},
     "output_type": "execute_result"
    }
   ],
   "source": [
    "food_df_sorted=food_df.sort_values(by='day_month',ascending=True)\n",
    "food_df_sorted.head()"
   ]
  },
  {
   "cell_type": "code",
   "execution_count": 124,
   "id": "bcb294b1-e735-4158-a46f-61b7257c87be",
   "metadata": {},
   "outputs": [],
   "source": [
    "#Group the data by the data then compute the mean for each groupings\n",
    "mean_df=food_df_sorted[['day_month','profit','total_cost']].groupby(by='day_month').mean()"
   ]
  },
  {
   "cell_type": "code",
   "execution_count": 125,
   "id": "3c7f00d9-e00a-48fd-a54d-e3603c58e2c5",
   "metadata": {},
   "outputs": [
    {
     "data": {
      "image/png": "[encoded data removed]",
      "text/latex": [
       "$\\displaystyle 38$"
      ],
      "text/plain": [
       "38"
      ]
     },
     "execution_count": 125,
     "metadata": {},
     "output_type": "execute_result"
    }
   ],
   "source": [
    "order_dates=list(food_df_sorted['day_month'].unique())\n",
    "len(order_dates)"
   ]
  },
  {
   "cell_type": "code",
   "execution_count": 126,
   "id": "819b99e1-1e26-4c36-b89e-ce95290ab123",
   "metadata": {},
   "outputs": [
    {
     "data": {
      "image/png": "[encoded data removed]",
      "text/plain": [
       "<Figure size 640x480 with 1 Axes>"
      ]
     },
     "metadata": {},
     "output_type": "display_data"
    }
   ],
   "source": [
    "#Create a list of means from each bin and show a trend in comparison with the cost and order value\n",
    "color=['red','deepskyblue']\n",
    "label=['profit','cost']\n",
    "mean_list=[mean_df['profit'],mean_df['total_cost']]\n",
    "order_dates=list(food_df_sorted['day_month'].unique())\n",
    "\n",
    "for m,c in zip(mean_list,color):\n",
    "    create_line_plts(mean_df['profit'].size,y_values=m,color=c)\n",
    "plt.legend(label)\n",
    "plt.ylabel('Amount in dollars')\n",
    "plt.xlabel('dates')\n",
    "plt.title('Profit Trend')\n",
    "plt.xlim([0,40])\n",
    "plt.show();"
   ]
  },
  {
   "cell_type": "markdown",
   "id": "e332f8dc-f94e-4af7-8838-3953a12ccae6",
   "metadata": {},
   "source": [
    "In general, profit appears to stabilize. We would like to investigate the effect of \n",
    "* commission fee,\n",
    "* payment method,\n",
    "* time to deliver the commodity and\n",
    "* discount\n",
    "  on the profit"
   ]
  },
  {
   "cell_type": "code",
   "execution_count": 127,
   "id": "d9d2cc55-c370-4a6d-a4e5-26ee5281316f",
   "metadata": {},
   "outputs": [
    {
     "data": {
      "text/plain": [
       "Index(['order_date_and_time', 'order_value', 'delivery_fee', 'payment_method',\n",
       "       'commission_fee', 'payment_processing_fee', 'refunds_chargebacks',\n",
       "       'time_def', 'perc_discount', 'amt_discount', 'rev_b4_discount',\n",
       "       'total_cost', 'profit', 'mon', 'day', 'day_month'],\n",
       "      dtype='object')"
      ]
     },
     "execution_count": 127,
     "metadata": {},
     "output_type": "execute_result"
    }
   ],
   "source": [
    "food_df_sorted.columns"
   ]
  },
  {
   "cell_type": "code",
   "execution_count": 128,
   "id": "4fe78075-240c-4b85-af8b-da2ef9ecd3b7",
   "metadata": {},
   "outputs": [
    {
     "data": {
      "text/html": [
       "<div>\n",
       "<style scoped>\n",
       "    .dataframe tbody tr th:only-of-type {\n",
       "        vertical-align: middle;\n",
       "    }\n",
       "\n",
       "    .dataframe tbody tr th {\n",
       "        vertical-align: top;\n",
       "    }\n",
       "\n",
       "    .dataframe thead th {\n",
       "        text-align: right;\n",
       "    }\n",
       "</style>\n",
       "<table border=\"1\" class=\"dataframe\">\n",
       "  <thead>\n",
       "    <tr style=\"text-align: right;\">\n",
       "      <th></th>\n",
       "      <th>order_date_and_time</th>\n",
       "      <th>order_value</th>\n",
       "      <th>delivery_fee</th>\n",
       "      <th>payment_method</th>\n",
       "      <th>commission_fee</th>\n",
       "      <th>payment_processing_fee</th>\n",
       "      <th>refunds_chargebacks</th>\n",
       "      <th>time_def</th>\n",
       "      <th>perc_discount</th>\n",
       "      <th>amt_discount</th>\n",
       "      <th>rev_b4_discount</th>\n",
       "      <th>total_cost</th>\n",
       "      <th>profit</th>\n",
       "      <th>mon</th>\n",
       "      <th>day</th>\n",
       "      <th>day_month</th>\n",
       "    </tr>\n",
       "  </thead>\n",
       "  <tbody>\n",
       "    <tr>\n",
       "      <th>741</th>\n",
       "      <td>2024-01-01</td>\n",
       "      <td>971</td>\n",
       "      <td>50</td>\n",
       "      <td>Cash on Delivery</td>\n",
       "      <td>110</td>\n",
       "      <td>47</td>\n",
       "      <td>0</td>\n",
       "      <td>55.0</td>\n",
       "      <td>0.0</td>\n",
       "      <td>50.0</td>\n",
       "      <td>861</td>\n",
       "      <td>257.0</td>\n",
       "      <td>714.0</td>\n",
       "      <td>1</td>\n",
       "      <td>1</td>\n",
       "      <td>1/1</td>\n",
       "    </tr>\n",
       "    <tr>\n",
       "      <th>217</th>\n",
       "      <td>2024-01-01</td>\n",
       "      <td>1041</td>\n",
       "      <td>0</td>\n",
       "      <td>Digital Wallet</td>\n",
       "      <td>155</td>\n",
       "      <td>24</td>\n",
       "      <td>0</td>\n",
       "      <td>93.0</td>\n",
       "      <td>0.0</td>\n",
       "      <td>50.0</td>\n",
       "      <td>886</td>\n",
       "      <td>229.0</td>\n",
       "      <td>812.0</td>\n",
       "      <td>1</td>\n",
       "      <td>1</td>\n",
       "      <td>1/1</td>\n",
       "    </tr>\n",
       "    <tr>\n",
       "      <th>982</th>\n",
       "      <td>2024-01-01</td>\n",
       "      <td>934</td>\n",
       "      <td>20</td>\n",
       "      <td>Digital Wallet</td>\n",
       "      <td>121</td>\n",
       "      <td>40</td>\n",
       "      <td>0</td>\n",
       "      <td>100.0</td>\n",
       "      <td>0.0</td>\n",
       "      <td>0.0</td>\n",
       "      <td>813</td>\n",
       "      <td>181.0</td>\n",
       "      <td>753.0</td>\n",
       "      <td>1</td>\n",
       "      <td>1</td>\n",
       "      <td>1/1</td>\n",
       "    </tr>\n",
       "    <tr>\n",
       "      <th>983</th>\n",
       "      <td>2024-01-01</td>\n",
       "      <td>1229</td>\n",
       "      <td>20</td>\n",
       "      <td>Digital Wallet</td>\n",
       "      <td>74</td>\n",
       "      <td>41</td>\n",
       "      <td>0</td>\n",
       "      <td>65.0</td>\n",
       "      <td>0.0</td>\n",
       "      <td>50.0</td>\n",
       "      <td>1155</td>\n",
       "      <td>185.0</td>\n",
       "      <td>1044.0</td>\n",
       "      <td>1</td>\n",
       "      <td>1</td>\n",
       "      <td>1/1</td>\n",
       "    </tr>\n",
       "    <tr>\n",
       "      <th>504</th>\n",
       "      <td>2024-01-01</td>\n",
       "      <td>707</td>\n",
       "      <td>20</td>\n",
       "      <td>Cash on Delivery</td>\n",
       "      <td>177</td>\n",
       "      <td>20</td>\n",
       "      <td>0</td>\n",
       "      <td>107.0</td>\n",
       "      <td>10.0</td>\n",
       "      <td>0.0</td>\n",
       "      <td>530</td>\n",
       "      <td>287.7</td>\n",
       "      <td>419.3</td>\n",
       "      <td>1</td>\n",
       "      <td>1</td>\n",
       "      <td>1/1</td>\n",
       "    </tr>\n",
       "  </tbody>\n",
       "</table>\n",
       "</div>"
      ],
      "text/plain": [
       "    order_date_and_time  order_value  delivery_fee    payment_method  \\\n",
       "741          2024-01-01          971            50  Cash on Delivery   \n",
       "217          2024-01-01         1041             0    Digital Wallet   \n",
       "982          2024-01-01          934            20    Digital Wallet   \n",
       "983          2024-01-01         1229            20    Digital Wallet   \n",
       "504          2024-01-01          707            20  Cash on Delivery   \n",
       "\n",
       "     commission_fee  payment_processing_fee  refunds_chargebacks  time_def  \\\n",
       "741             110                      47                    0      55.0   \n",
       "217             155                      24                    0      93.0   \n",
       "982             121                      40                    0     100.0   \n",
       "983              74                      41                    0      65.0   \n",
       "504             177                      20                    0     107.0   \n",
       "\n",
       "     perc_discount  amt_discount  rev_b4_discount  total_cost  profit mon day  \\\n",
       "741            0.0          50.0              861       257.0   714.0   1   1   \n",
       "217            0.0          50.0              886       229.0   812.0   1   1   \n",
       "982            0.0           0.0              813       181.0   753.0   1   1   \n",
       "983            0.0          50.0             1155       185.0  1044.0   1   1   \n",
       "504           10.0           0.0              530       287.7   419.3   1   1   \n",
       "\n",
       "    day_month  \n",
       "741       1/1  \n",
       "217       1/1  \n",
       "982       1/1  \n",
       "983       1/1  \n",
       "504       1/1  "
      ]
     },
     "execution_count": 128,
     "metadata": {},
     "output_type": "execute_result"
    }
   ],
   "source": [
    "food_df_sorted.head()"
   ]
  },
  {
   "cell_type": "code",
   "execution_count": 129,
   "id": "0a5d6915-b14a-48ac-901e-c264260dcc1b",
   "metadata": {},
   "outputs": [],
   "source": [
    "drop_cols=['order_date_and_time','mon', 'day','rev_b4_discount']\n",
    "food_df_sorted.drop(drop_cols,axis=1,inplace=True)"
   ]
  },
  {
   "cell_type": "code",
   "execution_count": 130,
   "id": "900fcdec-4e9d-4fb9-8cbc-c41769bbf824",
   "metadata": {
    "scrolled": true
   },
   "outputs": [
    {
     "data": {
      "text/html": [
       "<div>\n",
       "<style scoped>\n",
       "    .dataframe tbody tr th:only-of-type {\n",
       "        vertical-align: middle;\n",
       "    }\n",
       "\n",
       "    .dataframe tbody tr th {\n",
       "        vertical-align: top;\n",
       "    }\n",
       "\n",
       "    .dataframe thead th {\n",
       "        text-align: right;\n",
       "    }\n",
       "</style>\n",
       "<table border=\"1\" class=\"dataframe\">\n",
       "  <thead>\n",
       "    <tr style=\"text-align: right;\">\n",
       "      <th></th>\n",
       "      <th>order_value</th>\n",
       "      <th>delivery_fee</th>\n",
       "      <th>payment_method</th>\n",
       "      <th>commission_fee</th>\n",
       "      <th>payment_processing_fee</th>\n",
       "      <th>refunds_chargebacks</th>\n",
       "      <th>time_def</th>\n",
       "      <th>perc_discount</th>\n",
       "      <th>amt_discount</th>\n",
       "      <th>total_cost</th>\n",
       "      <th>profit</th>\n",
       "      <th>day_month</th>\n",
       "    </tr>\n",
       "  </thead>\n",
       "  <tbody>\n",
       "    <tr>\n",
       "      <th>741</th>\n",
       "      <td>971</td>\n",
       "      <td>50</td>\n",
       "      <td>Cash on Delivery</td>\n",
       "      <td>110</td>\n",
       "      <td>47</td>\n",
       "      <td>0</td>\n",
       "      <td>55.0</td>\n",
       "      <td>0.0</td>\n",
       "      <td>50.0</td>\n",
       "      <td>257.0</td>\n",
       "      <td>714.0</td>\n",
       "      <td>1/1</td>\n",
       "    </tr>\n",
       "    <tr>\n",
       "      <th>217</th>\n",
       "      <td>1041</td>\n",
       "      <td>0</td>\n",
       "      <td>Digital Wallet</td>\n",
       "      <td>155</td>\n",
       "      <td>24</td>\n",
       "      <td>0</td>\n",
       "      <td>93.0</td>\n",
       "      <td>0.0</td>\n",
       "      <td>50.0</td>\n",
       "      <td>229.0</td>\n",
       "      <td>812.0</td>\n",
       "      <td>1/1</td>\n",
       "    </tr>\n",
       "    <tr>\n",
       "      <th>982</th>\n",
       "      <td>934</td>\n",
       "      <td>20</td>\n",
       "      <td>Digital Wallet</td>\n",
       "      <td>121</td>\n",
       "      <td>40</td>\n",
       "      <td>0</td>\n",
       "      <td>100.0</td>\n",
       "      <td>0.0</td>\n",
       "      <td>0.0</td>\n",
       "      <td>181.0</td>\n",
       "      <td>753.0</td>\n",
       "      <td>1/1</td>\n",
       "    </tr>\n",
       "  </tbody>\n",
       "</table>\n",
       "</div>"
      ],
      "text/plain": [
       "     order_value  delivery_fee    payment_method  commission_fee  \\\n",
       "741          971            50  Cash on Delivery             110   \n",
       "217         1041             0    Digital Wallet             155   \n",
       "982          934            20    Digital Wallet             121   \n",
       "\n",
       "     payment_processing_fee  refunds_chargebacks  time_def  perc_discount  \\\n",
       "741                      47                    0      55.0            0.0   \n",
       "217                      24                    0      93.0            0.0   \n",
       "982                      40                    0     100.0            0.0   \n",
       "\n",
       "     amt_discount  total_cost  profit day_month  \n",
       "741          50.0       257.0   714.0       1/1  \n",
       "217          50.0       229.0   812.0       1/1  \n",
       "982           0.0       181.0   753.0       1/1  "
      ]
     },
     "execution_count": 130,
     "metadata": {},
     "output_type": "execute_result"
    }
   ],
   "source": [
    "food_df_sorted.head(3)"
   ]
  },
  {
   "cell_type": "code",
   "execution_count": 131,
   "id": "333c1389-34d7-4598-b50c-c9c304f4e4ec",
   "metadata": {},
   "outputs": [
    {
     "data": {
      "text/plain": [
       "refunds_chargebacks\n",
       "0      715\n",
       "100    105\n",
       "50      92\n",
       "150     88\n",
       "Name: count, dtype: int64"
      ]
     },
     "execution_count": 131,
     "metadata": {},
     "output_type": "execute_result"
    }
   ],
   "source": [
    "food_df_sorted['refunds_chargebacks'].value_counts() ## change to have either no/yes "
   ]
  },
  {
   "cell_type": "code",
   "execution_count": 132,
   "id": "11006db4-d4dd-4d05-9eb2-4eae7901fbdf",
   "metadata": {},
   "outputs": [],
   "source": [
    "def replace_values(x):\n",
    "    \"\"\"\n",
    "    This function replaces the values with either No or Yes\n",
    "    arguements: one value in a data series\n",
    "    Output: No, Yes\n",
    "    \"\"\"\n",
    "    if x==0:\n",
    "        return 'No'\n",
    "    elif x > 0:\n",
    "        return 'Yes'\n",
    "    else:\n",
    "        return np.nan\n",
    "    \n",
    "food_df_sorted['did_refunds_chargebacks']=food_df_sorted['refunds_chargebacks'].apply(replace_values)"
   ]
  },
  {
   "cell_type": "code",
   "execution_count": 133,
   "id": "6413e116-2e1b-4027-b59c-d03784608423",
   "metadata": {},
   "outputs": [
    {
     "data": {
      "text/plain": [
       "did_refunds_chargebacks\n",
       "No     715\n",
       "Yes    285\n",
       "Name: count, dtype: int64"
      ]
     },
     "execution_count": 133,
     "metadata": {},
     "output_type": "execute_result"
    }
   ],
   "source": [
    "food_df_sorted['did_refunds_chargebacks'].value_counts()"
   ]
  },
  {
   "cell_type": "code",
   "execution_count": 134,
   "id": "7ad7b605-3fe9-4a5b-8bfe-e6230ccf449e",
   "metadata": {
    "scrolled": true
   },
   "outputs": [
    {
     "data": {
      "image/png": "[encoded data removed]",
      "text/plain": [
       "<Figure size 768x300 with 2 Axes>"
      ]
     },
     "metadata": {},
     "output_type": "display_data"
    }
   ],
   "source": [
    "graph=sns.FacetGrid(food_df_sorted,col='did_refunds_chargebacks',hue='payment_method')\n",
    "graph.map(sns.scatterplot,'commission_fee','profit',).add_legend()\n",
    "plt.show();"
   ]
  },
  {
   "cell_type": "markdown",
   "id": "bc33f2cd-5557-4f5d-911f-0001f089ca44",
   "metadata": {},
   "source": [
    "#### Observation\n",
    "* All payment methods experience refunds, therefore, refunds are not attributed to specific payment methods"
   ]
  },
  {
   "cell_type": "code",
   "execution_count": 135,
   "id": "28e5797c-a149-459b-aff1-a470e66c8832",
   "metadata": {},
   "outputs": [
    {
     "data": {
      "text/html": [
       "<div>\n",
       "<style scoped>\n",
       "    .dataframe tbody tr th:only-of-type {\n",
       "        vertical-align: middle;\n",
       "    }\n",
       "\n",
       "    .dataframe tbody tr th {\n",
       "        vertical-align: top;\n",
       "    }\n",
       "\n",
       "    .dataframe thead th {\n",
       "        text-align: right;\n",
       "    }\n",
       "</style>\n",
       "<table border=\"1\" class=\"dataframe\">\n",
       "  <thead>\n",
       "    <tr style=\"text-align: right;\">\n",
       "      <th></th>\n",
       "      <th>delivery_fee</th>\n",
       "      <th>commission_fee</th>\n",
       "      <th>payment_processing_fee</th>\n",
       "      <th>perc_discount</th>\n",
       "      <th>time_def</th>\n",
       "      <th>total_cost</th>\n",
       "      <th>profit</th>\n",
       "    </tr>\n",
       "    <tr>\n",
       "      <th>payment_method</th>\n",
       "      <th></th>\n",
       "      <th></th>\n",
       "      <th></th>\n",
       "      <th></th>\n",
       "      <th></th>\n",
       "      <th></th>\n",
       "      <th></th>\n",
       "    </tr>\n",
       "  </thead>\n",
       "  <tbody>\n",
       "    <tr>\n",
       "      <th>Cash on Delivery</th>\n",
       "      <td>28.15</td>\n",
       "      <td>123.59</td>\n",
       "      <td>29.98</td>\n",
       "      <td>6.43</td>\n",
       "      <td>73.68</td>\n",
       "      <td>288.86</td>\n",
       "      <td>760.63</td>\n",
       "    </tr>\n",
       "    <tr>\n",
       "      <th>Credit Card</th>\n",
       "      <td>29.11</td>\n",
       "      <td>127.35</td>\n",
       "      <td>29.89</td>\n",
       "      <td>6.23</td>\n",
       "      <td>74.01</td>\n",
       "      <td>291.48</td>\n",
       "      <td>780.35</td>\n",
       "    </tr>\n",
       "    <tr>\n",
       "      <th>Digital Wallet</th>\n",
       "      <td>28.63</td>\n",
       "      <td>130.57</td>\n",
       "      <td>29.59</td>\n",
       "      <td>5.95</td>\n",
       "      <td>72.97</td>\n",
       "      <td>283.26</td>\n",
       "      <td>756.26</td>\n",
       "    </tr>\n",
       "  </tbody>\n",
       "</table>\n",
       "</div>"
      ],
      "text/plain": [
       "                  delivery_fee  commission_fee  payment_processing_fee  \\\n",
       "payment_method                                                           \n",
       "Cash on Delivery         28.15          123.59                   29.98   \n",
       "Credit Card              29.11          127.35                   29.89   \n",
       "Digital Wallet           28.63          130.57                   29.59   \n",
       "\n",
       "                  perc_discount  time_def  total_cost  profit  \n",
       "payment_method                                                 \n",
       "Cash on Delivery           6.43     73.68      288.86  760.63  \n",
       "Credit Card                6.23     74.01      291.48  780.35  \n",
       "Digital Wallet             5.95     72.97      283.26  756.26  "
      ]
     },
     "execution_count": 135,
     "metadata": {},
     "output_type": "execute_result"
    }
   ],
   "source": [
    "col_of_interest=['delivery_fee','payment_method','commission_fee','payment_processing_fee','perc_discount','time_def','total_cost','profit']\n",
    "food_df_sorted[col_of_interest].groupby('payment_method').mean().round(2)"
   ]
  },
  {
   "cell_type": "markdown",
   "id": "d4be967f-19fc-4fd8-b4fd-96629d29a01a",
   "metadata": {},
   "source": [
    "##### Observation\n",
    "* The delivery fee and the payment processing fee is relatively constant across all payment methods\n",
    "* There is a higher commission of payment by digital wallet which leads to lower profit than the other two payment methods. On average, payments by credit card offer better profit margins followed by Cash on delivery. Furthermore, Digite wallet has a higher commission fee among the two payment methods \n",
    "* The delivery time by Credit card is the highest among the payment methods yet the company gets the highest average profit from this payment method than the rest.\n",
    "* Higher discounts are offered to payment by cash and Credit card than Digital Wallets. This move appears to be bearing fruits on the profit\n",
    "\n",
    "#### Recommendation: \n",
    "* The Company needs to come up with policies that focus on Credit card payment and Cash on Delivery rather than Digital wallet\n",
    "* The Company needs to revise the delivery time on payments by credit card to tap more profit \n",
    "* The company to continue offering discounts to cash on delivery and Credit Cards and reduce the same on digital Wallets\n"
   ]
  },
  {
   "cell_type": "code",
   "execution_count": 136,
   "id": "7de99e15-f316-4102-a048-3114595ef37d",
   "metadata": {},
   "outputs": [
    {
     "data": {
      "text/html": [
       "<div>\n",
       "<style scoped>\n",
       "    .dataframe tbody tr th:only-of-type {\n",
       "        vertical-align: middle;\n",
       "    }\n",
       "\n",
       "    .dataframe tbody tr th {\n",
       "        vertical-align: top;\n",
       "    }\n",
       "\n",
       "    .dataframe thead th {\n",
       "        text-align: right;\n",
       "    }\n",
       "</style>\n",
       "<table border=\"1\" class=\"dataframe\">\n",
       "  <thead>\n",
       "    <tr style=\"text-align: right;\">\n",
       "      <th></th>\n",
       "      <th>delivery_fee</th>\n",
       "      <th>commission_fee</th>\n",
       "      <th>payment_processing_fee</th>\n",
       "      <th>perc_discount</th>\n",
       "      <th>time_def</th>\n",
       "      <th>total_cost</th>\n",
       "      <th>profit</th>\n",
       "    </tr>\n",
       "    <tr>\n",
       "      <th>payment_method</th>\n",
       "      <th></th>\n",
       "      <th></th>\n",
       "      <th></th>\n",
       "      <th></th>\n",
       "      <th></th>\n",
       "      <th></th>\n",
       "      <th></th>\n",
       "    </tr>\n",
       "  </thead>\n",
       "  <tbody>\n",
       "    <tr>\n",
       "      <th>Cash on Delivery</th>\n",
       "      <td>10050</td>\n",
       "      <td>44120</td>\n",
       "      <td>10704</td>\n",
       "      <td>2295.0</td>\n",
       "      <td>26303.0</td>\n",
       "      <td>103124.30</td>\n",
       "      <td>271544.70</td>\n",
       "    </tr>\n",
       "    <tr>\n",
       "      <th>Credit Card</th>\n",
       "      <td>9810</td>\n",
       "      <td>42916</td>\n",
       "      <td>10072</td>\n",
       "      <td>2100.0</td>\n",
       "      <td>24942.0</td>\n",
       "      <td>98230.00</td>\n",
       "      <td>262978.00</td>\n",
       "    </tr>\n",
       "    <tr>\n",
       "      <th>Digital Wallet</th>\n",
       "      <td>8760</td>\n",
       "      <td>39954</td>\n",
       "      <td>9056</td>\n",
       "      <td>1820.0</td>\n",
       "      <td>22330.0</td>\n",
       "      <td>86677.55</td>\n",
       "      <td>231414.45</td>\n",
       "    </tr>\n",
       "  </tbody>\n",
       "</table>\n",
       "</div>"
      ],
      "text/plain": [
       "                  delivery_fee  commission_fee  payment_processing_fee  \\\n",
       "payment_method                                                           \n",
       "Cash on Delivery         10050           44120                   10704   \n",
       "Credit Card               9810           42916                   10072   \n",
       "Digital Wallet            8760           39954                    9056   \n",
       "\n",
       "                  perc_discount  time_def  total_cost     profit  \n",
       "payment_method                                                    \n",
       "Cash on Delivery         2295.0   26303.0   103124.30  271544.70  \n",
       "Credit Card              2100.0   24942.0    98230.00  262978.00  \n",
       "Digital Wallet           1820.0   22330.0    86677.55  231414.45  "
      ]
     },
     "execution_count": 136,
     "metadata": {},
     "output_type": "execute_result"
    }
   ],
   "source": [
    "food_df_sorted[col_of_interest].groupby('payment_method').sum().round(2)"
   ]
  },
  {
   "cell_type": "code",
   "execution_count": 137,
   "id": "61b4392b-ab39-4928-ad08-c58d7aec0e65",
   "metadata": {},
   "outputs": [
    {
     "data": {
      "text/html": [
       "<div>\n",
       "<style scoped>\n",
       "    .dataframe tbody tr th:only-of-type {\n",
       "        vertical-align: middle;\n",
       "    }\n",
       "\n",
       "    .dataframe tbody tr th {\n",
       "        vertical-align: top;\n",
       "    }\n",
       "\n",
       "    .dataframe thead th {\n",
       "        text-align: right;\n",
       "    }\n",
       "</style>\n",
       "<table border=\"1\" class=\"dataframe\">\n",
       "  <thead>\n",
       "    <tr style=\"text-align: right;\">\n",
       "      <th></th>\n",
       "      <th>payment_processing_fee</th>\n",
       "      <th>total_cost</th>\n",
       "      <th>profit</th>\n",
       "    </tr>\n",
       "    <tr>\n",
       "      <th>perc_discount</th>\n",
       "      <th></th>\n",
       "      <th></th>\n",
       "      <th></th>\n",
       "    </tr>\n",
       "  </thead>\n",
       "  <tbody>\n",
       "    <tr>\n",
       "      <th>0.0</th>\n",
       "      <td>29.55</td>\n",
       "      <td>244.57</td>\n",
       "      <td>827.69</td>\n",
       "    </tr>\n",
       "    <tr>\n",
       "      <th>5.0</th>\n",
       "      <td>30.60</td>\n",
       "      <td>262.77</td>\n",
       "      <td>802.55</td>\n",
       "    </tr>\n",
       "    <tr>\n",
       "      <th>10.0</th>\n",
       "      <td>29.24</td>\n",
       "      <td>312.87</td>\n",
       "      <td>740.89</td>\n",
       "    </tr>\n",
       "    <tr>\n",
       "      <th>15.0</th>\n",
       "      <td>30.36</td>\n",
       "      <td>366.88</td>\n",
       "      <td>641.19</td>\n",
       "    </tr>\n",
       "  </tbody>\n",
       "</table>\n",
       "</div>"
      ],
      "text/plain": [
       "               payment_processing_fee  total_cost  profit\n",
       "perc_discount                                            \n",
       "0.0                             29.55      244.57  827.69\n",
       "5.0                             30.60      262.77  802.55\n",
       "10.0                            29.24      312.87  740.89\n",
       "15.0                            30.36      366.88  641.19"
      ]
     },
     "execution_count": 137,
     "metadata": {},
     "output_type": "execute_result"
    }
   ],
   "source": [
    "#Evaluate the profit with respect to different percentage disocunts\n",
    "new_col_of_interest=['payment_method','payment_processing_fee','perc_discount','total_cost','profit']\n",
    "food_df_sorted[['payment_processing_fee','perc_discount','total_cost','profit']].groupby('perc_discount').mean().round(2)"
   ]
  },
  {
   "cell_type": "code",
   "execution_count": 138,
   "id": "a4be0b04-509b-4985-abda-e30a6010f80e",
   "metadata": {},
   "outputs": [
    {
     "data": {
      "text/html": [
       "<div>\n",
       "<style scoped>\n",
       "    .dataframe tbody tr th:only-of-type {\n",
       "        vertical-align: middle;\n",
       "    }\n",
       "\n",
       "    .dataframe tbody tr th {\n",
       "        vertical-align: top;\n",
       "    }\n",
       "\n",
       "    .dataframe thead th {\n",
       "        text-align: right;\n",
       "    }\n",
       "</style>\n",
       "<table border=\"1\" class=\"dataframe\">\n",
       "  <thead>\n",
       "    <tr style=\"text-align: right;\">\n",
       "      <th></th>\n",
       "      <th></th>\n",
       "      <th>payment_processing_fee</th>\n",
       "      <th>total_cost</th>\n",
       "      <th>profit</th>\n",
       "    </tr>\n",
       "    <tr>\n",
       "      <th>payment_method</th>\n",
       "      <th>perc_discount</th>\n",
       "      <th></th>\n",
       "      <th></th>\n",
       "      <th></th>\n",
       "    </tr>\n",
       "  </thead>\n",
       "  <tbody>\n",
       "    <tr>\n",
       "      <th rowspan=\"4\" valign=\"top\">Cash on Delivery</th>\n",
       "      <th>0.0</th>\n",
       "      <td>30.16</td>\n",
       "      <td>244.07</td>\n",
       "      <td>790.59</td>\n",
       "    </tr>\n",
       "    <tr>\n",
       "      <th>5.0</th>\n",
       "      <td>30.44</td>\n",
       "      <td>258.56</td>\n",
       "      <td>808.13</td>\n",
       "    </tr>\n",
       "    <tr>\n",
       "      <th>10.0</th>\n",
       "      <td>29.33</td>\n",
       "      <td>301.01</td>\n",
       "      <td>731.49</td>\n",
       "    </tr>\n",
       "    <tr>\n",
       "      <th>15.0</th>\n",
       "      <td>30.03</td>\n",
       "      <td>378.71</td>\n",
       "      <td>701.27</td>\n",
       "    </tr>\n",
       "    <tr>\n",
       "      <th rowspan=\"4\" valign=\"top\">Credit Card</th>\n",
       "      <th>0.0</th>\n",
       "      <td>29.41</td>\n",
       "      <td>250.60</td>\n",
       "      <td>844.54</td>\n",
       "    </tr>\n",
       "    <tr>\n",
       "      <th>5.0</th>\n",
       "      <td>30.26</td>\n",
       "      <td>262.37</td>\n",
       "      <td>890.19</td>\n",
       "    </tr>\n",
       "    <tr>\n",
       "      <th>10.0</th>\n",
       "      <td>28.93</td>\n",
       "      <td>325.09</td>\n",
       "      <td>776.93</td>\n",
       "    </tr>\n",
       "    <tr>\n",
       "      <th>15.0</th>\n",
       "      <td>31.68</td>\n",
       "      <td>355.14</td>\n",
       "      <td>570.71</td>\n",
       "    </tr>\n",
       "    <tr>\n",
       "      <th rowspan=\"4\" valign=\"top\">Digital Wallet</th>\n",
       "      <th>0.0</th>\n",
       "      <td>29.02</td>\n",
       "      <td>238.26</td>\n",
       "      <td>851.21</td>\n",
       "    </tr>\n",
       "    <tr>\n",
       "      <th>5.0</th>\n",
       "      <td>31.03</td>\n",
       "      <td>266.99</td>\n",
       "      <td>726.75</td>\n",
       "    </tr>\n",
       "    <tr>\n",
       "      <th>10.0</th>\n",
       "      <td>29.51</td>\n",
       "      <td>312.79</td>\n",
       "      <td>709.88</td>\n",
       "    </tr>\n",
       "    <tr>\n",
       "      <th>15.0</th>\n",
       "      <td>29.17</td>\n",
       "      <td>364.74</td>\n",
       "      <td>644.34</td>\n",
       "    </tr>\n",
       "  </tbody>\n",
       "</table>\n",
       "</div>"
      ],
      "text/plain": [
       "                                payment_processing_fee  total_cost  profit\n",
       "payment_method   perc_discount                                            \n",
       "Cash on Delivery 0.0                             30.16      244.07  790.59\n",
       "                 5.0                             30.44      258.56  808.13\n",
       "                 10.0                            29.33      301.01  731.49\n",
       "                 15.0                            30.03      378.71  701.27\n",
       "Credit Card      0.0                             29.41      250.60  844.54\n",
       "                 5.0                             30.26      262.37  890.19\n",
       "                 10.0                            28.93      325.09  776.93\n",
       "                 15.0                            31.68      355.14  570.71\n",
       "Digital Wallet   0.0                             29.02      238.26  851.21\n",
       "                 5.0                             31.03      266.99  726.75\n",
       "                 10.0                            29.51      312.79  709.88\n",
       "                 15.0                            29.17      364.74  644.34"
      ]
     },
     "execution_count": 138,
     "metadata": {},
     "output_type": "execute_result"
    }
   ],
   "source": [
    "#Evaluate the profit with respect to different percentage disocunts among different payment methods\n",
    "food_df_sorted[new_col_of_interest].groupby(['payment_method','perc_discount']).mean().round(2)"
   ]
  },
  {
   "cell_type": "markdown",
   "id": "6aa70916-3c86-449c-b272-9da66930e417",
   "metadata": {},
   "source": [
    "#### Assumptions\n",
    "We do not consider cases of NaN values in the original column of **discount and offers** the entry does not imply no discount \n",
    "#### Observation\n",
    "A percentage discount of 10% and 5% provided a higher profit than 15%. Furthermore, higher costs are exhibited in higher percentage discounts\n",
    "\n",
    "#### Recommendation \n",
    "The company should consider offering a discount of 10% and 5% only and abandon 15% discount offer"
   ]
  },
  {
   "cell_type": "markdown",
   "id": "f5ab335c-5f79-4546-8be3-c1e6ccbc2696",
   "metadata": {},
   "source": [
    "**Qn5: Use the data to simulate the financial impact of proposed changes, such as adjusting discount or commission rates.**\n",
    "\n",
    "We create a linear Regression model to track the effect on percentage discount rates and commission rates\n",
    "We limit our data frame to the following variables only\n",
    "\n",
    "`\n",
    "'order_value','delivery_fee','commission_fee', 'payment_processing_fee' 'refunds_chargebacks' 'time_def'   'perc_discount, 'amt_discoun', 'total_cos', oprof\n",
    "`\n",
    "\n",
    "We use Causal inference\n",
    "\n",
    "     cks'"
   ]
  },
  {
   "cell_type": "code",
   "execution_count": 139,
   "id": "b3f40497-7bc2-424b-b335-6327e157eab1",
   "metadata": {},
   "outputs": [],
   "source": [
    "cols_causal=['order_value','delivery_fee','commission_fee','payment_processing_fee','refunds_chargebacks','time_def','perc_discount','amt_discount','total_cost','profit']\n",
    "df_for_causal=food_df_sorted[cols_causal]"
   ]
  },
  {
   "cell_type": "code",
   "execution_count": 156,
   "id": "aa295f42-a0c9-4fd4-8881-8200bc7aaa5e",
   "metadata": {},
   "outputs": [],
   "source": [
    "from dowhy import CausalModel"
   ]
  },
  {
   "cell_type": "code",
   "execution_count": 157,
   "id": "1904021d-3726-469b-93ba-7fb5e2ba4ae0",
   "metadata": {},
   "outputs": [],
   "source": [
    "#Declare the variables and create a graph\n",
    "#Digraph for discount\n",
    "g_disc_prof=\"\"\"digraph{\n",
    "order_value;\n",
    "delivery_fee;\n",
    "commission_fee;\n",
    "payment_processing_fee;\n",
    "refunds_chargebacks;\n",
    "time_def;\n",
    "perc_discount;\n",
    "amt_discount;\n",
    "total_cost;\n",
    "profit;\n",
    "\n",
    "perc_discount->profit;\n",
    "\n",
    "order_value->perc_discount;\n",
    "refunds_chargebacks->perc_discount;\n",
    "\n",
    "order_value->profit;\n",
    "delivery_fee->profit;\n",
    "commission_fee->profit;\n",
    "payment_processing_fee->profit;\n",
    "refunds_chargebacks->profit;\n",
    "time_def->profit;\n",
    "perc_discount->profit;\n",
    "amt_discount->profit;\n",
    "total_cost->profit;\n",
    "}\"\"\""
   ]
  },
  {
   "cell_type": "code",
   "execution_count": 158,
   "id": "d5b4df08-7c6c-4167-bb7f-bbe42fcae4b4",
   "metadata": {},
   "outputs": [],
   "source": [
    "#Digraph for commission\n",
    "g_comm_prof=\"\"\"digraph{\n",
    "order_value;\n",
    "delivery_fee;\n",
    "commission_fee;\n",
    "payment_processing_fee;\n",
    "refunds_chargebacks;\n",
    "time_def;\n",
    "perc_discount;\n",
    "amt_discount;\n",
    "total_cost;\n",
    "profit;\n",
    "\n",
    "commission_fee->profit;\n",
    "\n",
    "order_value->commission_fee;\n",
    "refunds_chargebacks->commission_fee;\n",
    "perc_discount->commission_fee;\n",
    "amt_discount->commission_fee;\n",
    "total_cost->commission_fee;\n",
    "\n",
    "order_value->profit;\n",
    "delivery_fee->profit;\n",
    "payment_processing_fee->profit;\n",
    "refunds_chargebacks->profit;\n",
    "time_def->profit;\n",
    "perc_discount->profit;\n",
    "amt_discount->profit;\n",
    "total_cost->profit;\n",
    "}\"\"\""
   ]
  },
  {
   "cell_type": "code",
   "execution_count": 159,
   "id": "35e40441-c43b-4313-843d-e94a73d7d03f",
   "metadata": {},
   "outputs": [],
   "source": [
    "model_disc=CausalModel(df_for_causal,treatment='perc_discount',outcome='profit',graph=g_disc_prof)\n",
    "model_comm=CausalModel(df_for_causal,treatment='commission_fee',outcome='profit',graph=g_comm_prof)"
   ]
  },
  {
   "cell_type": "code",
   "execution_count": 160,
   "id": "c4693e1f-3d9b-45cb-b74f-119769906f8d",
   "metadata": {},
   "outputs": [
    {
     "data": {
      "image/png": "[encoded data removed]",
      "text/plain": [
       "<Figure size 800x600 with 1 Axes>"
      ]
     },
     "metadata": {},
     "output_type": "display_data"
    }
   ],
   "source": [
    "model_disc.view_model()"
   ]
  },
  {
   "cell_type": "code",
   "execution_count": 161,
   "id": "83945db7-4df7-4eb0-a181-e67f483f57d6",
   "metadata": {},
   "outputs": [
    {
     "data": {
      "image/png": "[encoded data removed]",
      "text/plain": [
       "<Figure size 800x600 with 1 Axes>"
      ]
     },
     "metadata": {},
     "output_type": "display_data"
    }
   ],
   "source": [
    "model_comm.view_model()"
   ]
  },
  {
   "cell_type": "code",
   "execution_count": 162,
   "id": "90f9f5bf-80ed-4627-b70d-6570ef7d702a",
   "metadata": {},
   "outputs": [],
   "source": [
    "#Identify the effect\n",
    "estimand_disc=model_disc.identify_effect(proceed_when_unidentifiable=True)\n",
    "estimand_comm=model_comm.identify_effect(proceed_when_unidentifiable=True)"
   ]
  },
  {
   "cell_type": "code",
   "execution_count": 163,
   "id": "95982651-48a4-40ef-879d-6c1761acc26e",
   "metadata": {},
   "outputs": [
    {
     "name": "stdout",
     "output_type": "stream",
     "text": [
      "estimand_disc: Estimand type: EstimandType.NONPARAMETRIC_ATE\n",
      "\n",
      "### Estimand : 1\n",
      "Estimand name: backdoor\n",
      "Estimand expression:\n",
      "       d                                                   \n",
      "────────────────(E[profit|order_value,refunds_chargebacks])\n",
      "d[perc_discount]                                           \n",
      "Estimand assumption 1, Unconfoundedness: If U→{perc_discount} and U→profit then P(profit|perc_discount,order_value,refunds_chargebacks,U) = P(profit|perc_discount,order_value,refunds_chargebacks)\n",
      "\n",
      "### Estimand : 2\n",
      "Estimand name: iv\n",
      "No such variable(s) found!\n",
      "\n",
      "### Estimand : 3\n",
      "Estimand name: frontdoor\n",
      "No such variable(s) found!\n",
      "\n",
      "estimand_comm: Estimand type: EstimandType.NONPARAMETRIC_ATE\n",
      "\n",
      "### Estimand : 1\n",
      "Estimand name: backdoor\n",
      "Estimand expression:\n",
      "        d                                                                     \n",
      "─────────────────(E[profit|total_cost,amt_discount,order_value,refunds_chargeb\n",
      "d[commission_fee]                                                             \n",
      "\n",
      "                    \n",
      "acks,perc_discount])\n",
      "                    \n",
      "Estimand assumption 1, Unconfoundedness: If U→{commission_fee} and U→profit then P(profit|commission_fee,total_cost,amt_discount,order_value,refunds_chargebacks,perc_discount,U) = P(profit|commission_fee,total_cost,amt_discount,order_value,refunds_chargebacks,perc_discount)\n",
      "\n",
      "### Estimand : 2\n",
      "Estimand name: iv\n",
      "No such variable(s) found!\n",
      "\n",
      "### Estimand : 3\n",
      "Estimand name: frontdoor\n",
      "No such variable(s) found!\n",
      "\n"
     ]
    }
   ],
   "source": [
    "print('estimand_disc:',estimand_disc)\n",
    "print('estimand_comm:',estimand_comm)"
   ]
  },
  {
   "cell_type": "code",
   "execution_count": 164,
   "id": "5cd62cdd-1ba3-4e1a-ba68-fc51e199897e",
   "metadata": {},
   "outputs": [
    {
     "name": "stderr",
     "output_type": "stream",
     "text": [
      "C:\\Users\\Fidelis\\anaconda3\\Lib\\site-packages\\dowhy\\causal_estimators\\regression_estimator.py:179: FutureWarning: Series.__getitem__ treating keys as positions is deprecated. In a future version, integer keys will always be treated as labels (consistent with DataFrame behavior). To access a value by position, use `ser.iloc[pos]`\n",
      "  intercept_parameter = self.model.params[0]\n",
      "C:\\Users\\Fidelis\\anaconda3\\Lib\\site-packages\\dowhy\\causal_estimators\\regression_estimator.py:179: FutureWarning: Series.__getitem__ treating keys as positions is deprecated. In a future version, integer keys will always be treated as labels (consistent with DataFrame behavior). To access a value by position, use `ser.iloc[pos]`\n",
      "  intercept_parameter = self.model.params[0]\n"
     ]
    }
   ],
   "source": [
    "##Estimate the effect\n",
    "estimate_disc=model_disc.estimate_effect(estimand_disc,\n",
    "                                         method_name='backdoor.linear_regression',\n",
    "                                         target_units='ate',\n",
    "                                         effect_modifiers=[],\n",
    "                                         confidence_intervals=True,\n",
    "                                         test_significance=True)\n",
    "estimate_comm=model_comm.estimate_effect(estimand_comm,\n",
    "                                        method_name='backdoor.linear_regression',\n",
    "                                         target_units='ate',\n",
    "                                         effect_modifiers=[],\n",
    "                                         confidence_intervals=True,\n",
    "                                         test_significance=True)"
   ]
  },
  {
   "cell_type": "code",
   "execution_count": 165,
   "id": "46d5d893-d9e9-43bd-a1d4-cfbb5b58774e",
   "metadata": {},
   "outputs": [
    {
     "name": "stdout",
     "output_type": "stream",
     "text": [
      "disc_profit_estimate; *** Causal Estimate ***\n",
      "\n",
      "## Identified estimand\n",
      "Estimand type: EstimandType.NONPARAMETRIC_ATE\n",
      "\n",
      "### Estimand : 1\n",
      "Estimand name: backdoor\n",
      "Estimand expression:\n",
      "       d                                                   \n",
      "────────────────(E[profit|order_value,refunds_chargebacks])\n",
      "d[perc_discount]                                           \n",
      "Estimand assumption 1, Unconfoundedness: If U→{perc_discount} and U→profit then P(profit|perc_discount,order_value,refunds_chargebacks,U) = P(profit|perc_discount,order_value,refunds_chargebacks)\n",
      "\n",
      "## Realized estimand\n",
      "b: profit~perc_discount+order_value+refunds_chargebacks\n",
      "Target units: ate\n",
      "\n",
      "## Estimate\n",
      "Mean value: -8.296090142492403\n",
      "p-value: [6.93284474e-114]\n",
      "95.0% confidence interval: [[-8.92324246 -7.66893783]]\n",
      "\n",
      "comm_profit_estimate; *** Causal Estimate ***\n",
      "\n",
      "## Identified estimand\n",
      "Estimand type: EstimandType.NONPARAMETRIC_ATE\n",
      "\n",
      "### Estimand : 1\n",
      "Estimand name: backdoor\n",
      "Estimand expression:\n",
      "        d                                                                     \n",
      "─────────────────(E[profit|total_cost,amt_discount,order_value,refunds_chargeb\n",
      "d[commission_fee]                                                             \n",
      "\n",
      "                    \n",
      "acks,perc_discount])\n",
      "                    \n",
      "Estimand assumption 1, Unconfoundedness: If U→{commission_fee} and U→profit then P(profit|commission_fee,total_cost,amt_discount,order_value,refunds_chargebacks,perc_discount,U) = P(profit|commission_fee,total_cost,amt_discount,order_value,refunds_chargebacks,perc_discount)\n",
      "\n",
      "## Realized estimand\n",
      "b: profit~commission_fee+total_cost+amt_discount+order_value+refunds_chargebacks+perc_discount\n",
      "Target units: ate\n",
      "\n",
      "## Estimate\n",
      "Mean value: 0.0\n",
      "p-value: [3.91306936e-44]\n",
      "95.0% confidence interval: [[4.92764165e-15 6.45214436e-15]]\n",
      "\n"
     ]
    }
   ],
   "source": [
    "#print the estimates\n",
    "print('disc_profit_estimate;',estimate_disc)\n",
    "print('comm_profit_estimate;',estimate_comm)"
   ]
  },
  {
   "cell_type": "code",
   "execution_count": 166,
   "id": "e3447cc4-cd75-4dce-806c-123e92ae4cdf",
   "metadata": {},
   "outputs": [
    {
     "name": "stderr",
     "output_type": "stream",
     "text": [
      "C:\\Users\\Fidelis\\anaconda3\\Lib\\site-packages\\dowhy\\causal_estimators\\regression_estimator.py:179: FutureWarning: Series.__getitem__ treating keys as positions is deprecated. In a future version, integer keys will always be treated as labels (consistent with DataFrame behavior). To access a value by position, use `ser.iloc[pos]`\n",
      "  intercept_parameter = self.model.params[0]\n",
      "C:\\Users\\Fidelis\\anaconda3\\Lib\\site-packages\\dowhy\\causal_estimators\\regression_estimator.py:179: FutureWarning: Series.__getitem__ treating keys as positions is deprecated. In a future version, integer keys will always be treated as labels (consistent with DataFrame behavior). To access a value by position, use `ser.iloc[pos]`\n",
      "  intercept_parameter = self.model.params[0]\n",
      "C:\\Users\\Fidelis\\anaconda3\\Lib\\site-packages\\dowhy\\causal_estimators\\regression_estimator.py:179: FutureWarning: Series.__getitem__ treating keys as positions is deprecated. In a future version, integer keys will always be treated as labels (consistent with DataFrame behavior). To access a value by position, use `ser.iloc[pos]`\n",
      "  intercept_parameter = self.model.params[0]\n",
      "C:\\Users\\Fidelis\\anaconda3\\Lib\\site-packages\\dowhy\\causal_estimators\\regression_estimator.py:179: FutureWarning: Series.__getitem__ treating keys as positions is deprecated. In a future version, integer keys will always be treated as labels (consistent with DataFrame behavior). To access a value by position, use `ser.iloc[pos]`\n",
      "  intercept_parameter = self.model.params[0]\n",
      "C:\\Users\\Fidelis\\anaconda3\\Lib\\site-packages\\dowhy\\causal_estimators\\regression_estimator.py:179: FutureWarning: Series.__getitem__ treating keys as positions is deprecated. In a future version, integer keys will always be treated as labels (consistent with DataFrame behavior). To access a value by position, use `ser.iloc[pos]`\n",
      "  intercept_parameter = self.model.params[0]\n",
      "C:\\Users\\Fidelis\\anaconda3\\Lib\\site-packages\\dowhy\\causal_estimators\\regression_estimator.py:179: FutureWarning: Series.__getitem__ treating keys as positions is deprecated. In a future version, integer keys will always be treated as labels (consistent with DataFrame behavior). To access a value by position, use `ser.iloc[pos]`\n",
      "  intercept_parameter = self.model.params[0]\n",
      "C:\\Users\\Fidelis\\anaconda3\\Lib\\site-packages\\dowhy\\causal_estimators\\regression_estimator.py:179: FutureWarning: Series.__getitem__ treating keys as positions is deprecated. In a future version, integer keys will always be treated as labels (consistent with DataFrame behavior). To access a value by position, use `ser.iloc[pos]`\n",
      "  intercept_parameter = self.model.params[0]\n",
      "C:\\Users\\Fidelis\\anaconda3\\Lib\\site-packages\\dowhy\\causal_estimators\\regression_estimator.py:179: FutureWarning: Series.__getitem__ treating keys as positions is deprecated. In a future version, integer keys will always be treated as labels (consistent with DataFrame behavior). To access a value by position, use `ser.iloc[pos]`\n",
      "  intercept_parameter = self.model.params[0]\n",
      "C:\\Users\\Fidelis\\anaconda3\\Lib\\site-packages\\dowhy\\causal_estimators\\regression_estimator.py:179: FutureWarning: Series.__getitem__ treating keys as positions is deprecated. In a future version, integer keys will always be treated as labels (consistent with DataFrame behavior). To access a value by position, use `ser.iloc[pos]`\n",
      "  intercept_parameter = self.model.params[0]\n",
      "C:\\Users\\Fidelis\\anaconda3\\Lib\\site-packages\\dowhy\\causal_estimators\\regression_estimator.py:179: FutureWarning: Series.__getitem__ treating keys as positions is deprecated. In a future version, integer keys will always be treated as labels (consistent with DataFrame behavior). To access a value by position, use `ser.iloc[pos]`\n",
      "  intercept_parameter = self.model.params[0]\n",
      "C:\\Users\\Fidelis\\anaconda3\\Lib\\site-packages\\dowhy\\causal_estimators\\regression_estimator.py:179: FutureWarning: Series.__getitem__ treating keys as positions is deprecated. In a future version, integer keys will always be treated as labels (consistent with DataFrame behavior). To access a value by position, use `ser.iloc[pos]`\n",
      "  intercept_parameter = self.model.params[0]\n",
      "C:\\Users\\Fidelis\\anaconda3\\Lib\\site-packages\\dowhy\\causal_estimators\\regression_estimator.py:179: FutureWarning: Series.__getitem__ treating keys as positions is deprecated. In a future version, integer keys will always be treated as labels (consistent with DataFrame behavior). To access a value by position, use `ser.iloc[pos]`\n",
      "  intercept_parameter = self.model.params[0]\n",
      "C:\\Users\\Fidelis\\anaconda3\\Lib\\site-packages\\dowhy\\causal_estimators\\regression_estimator.py:179: FutureWarning: Series.__getitem__ treating keys as positions is deprecated. In a future version, integer keys will always be treated as labels (consistent with DataFrame behavior). To access a value by position, use `ser.iloc[pos]`\n",
      "  intercept_parameter = self.model.params[0]\n",
      "C:\\Users\\Fidelis\\anaconda3\\Lib\\site-packages\\dowhy\\causal_estimators\\regression_estimator.py:179: FutureWarning: Series.__getitem__ treating keys as positions is deprecated. In a future version, integer keys will always be treated as labels (consistent with DataFrame behavior). To access a value by position, use `ser.iloc[pos]`\n",
      "  intercept_parameter = self.model.params[0]\n",
      "C:\\Users\\Fidelis\\anaconda3\\Lib\\site-packages\\dowhy\\causal_estimators\\regression_estimator.py:179: FutureWarning: Series.__getitem__ treating keys as positions is deprecated. In a future version, integer keys will always be treated as labels (consistent with DataFrame behavior). To access a value by position, use `ser.iloc[pos]`\n",
      "  intercept_parameter = self.model.params[0]\n",
      "C:\\Users\\Fidelis\\anaconda3\\Lib\\site-packages\\dowhy\\causal_estimators\\regression_estimator.py:179: FutureWarning: Series.__getitem__ treating keys as positions is deprecated. In a future version, integer keys will always be treated as labels (consistent with DataFrame behavior). To access a value by position, use `ser.iloc[pos]`\n",
      "  intercept_parameter = self.model.params[0]\n",
      "C:\\Users\\Fidelis\\anaconda3\\Lib\\site-packages\\dowhy\\causal_estimators\\regression_estimator.py:179: FutureWarning: Series.__getitem__ treating keys as positions is deprecated. In a future version, integer keys will always be treated as labels (consistent with DataFrame behavior). To access a value by position, use `ser.iloc[pos]`\n",
      "  intercept_parameter = self.model.params[0]\n",
      "C:\\Users\\Fidelis\\anaconda3\\Lib\\site-packages\\dowhy\\causal_estimators\\regression_estimator.py:179: FutureWarning: Series.__getitem__ treating keys as positions is deprecated. In a future version, integer keys will always be treated as labels (consistent with DataFrame behavior). To access a value by position, use `ser.iloc[pos]`\n",
      "  intercept_parameter = self.model.params[0]\n",
      "C:\\Users\\Fidelis\\anaconda3\\Lib\\site-packages\\dowhy\\causal_estimators\\regression_estimator.py:179: FutureWarning: Series.__getitem__ treating keys as positions is deprecated. In a future version, integer keys will always be treated as labels (consistent with DataFrame behavior). To access a value by position, use `ser.iloc[pos]`\n",
      "  intercept_parameter = self.model.params[0]\n",
      "C:\\Users\\Fidelis\\anaconda3\\Lib\\site-packages\\dowhy\\causal_estimators\\regression_estimator.py:179: FutureWarning: Series.__getitem__ treating keys as positions is deprecated. In a future version, integer keys will always be treated as labels (consistent with DataFrame behavior). To access a value by position, use `ser.iloc[pos]`\n",
      "  intercept_parameter = self.model.params[0]\n",
      "C:\\Users\\Fidelis\\anaconda3\\Lib\\site-packages\\dowhy\\causal_estimators\\regression_estimator.py:179: FutureWarning: Series.__getitem__ treating keys as positions is deprecated. In a future version, integer keys will always be treated as labels (consistent with DataFrame behavior). To access a value by position, use `ser.iloc[pos]`\n",
      "  intercept_parameter = self.model.params[0]\n",
      "C:\\Users\\Fidelis\\anaconda3\\Lib\\site-packages\\dowhy\\causal_estimators\\regression_estimator.py:179: FutureWarning: Series.__getitem__ treating keys as positions is deprecated. In a future version, integer keys will always be treated as labels (consistent with DataFrame behavior). To access a value by position, use `ser.iloc[pos]`\n",
      "  intercept_parameter = self.model.params[0]\n",
      "C:\\Users\\Fidelis\\anaconda3\\Lib\\site-packages\\dowhy\\causal_estimators\\regression_estimator.py:179: FutureWarning: Series.__getitem__ treating keys as positions is deprecated. In a future version, integer keys will always be treated as labels (consistent with DataFrame behavior). To access a value by position, use `ser.iloc[pos]`\n",
      "  intercept_parameter = self.model.params[0]\n",
      "C:\\Users\\Fidelis\\anaconda3\\Lib\\site-packages\\dowhy\\causal_estimators\\regression_estimator.py:179: FutureWarning: Series.__getitem__ treating keys as positions is deprecated. In a future version, integer keys will always be treated as labels (consistent with DataFrame behavior). To access a value by position, use `ser.iloc[pos]`\n",
      "  intercept_parameter = self.model.params[0]\n",
      "C:\\Users\\Fidelis\\anaconda3\\Lib\\site-packages\\dowhy\\causal_estimators\\regression_estimator.py:179: FutureWarning: Series.__getitem__ treating keys as positions is deprecated. In a future version, integer keys will always be treated as labels (consistent with DataFrame behavior). To access a value by position, use `ser.iloc[pos]`\n",
      "  intercept_parameter = self.model.params[0]\n",
      "C:\\Users\\Fidelis\\anaconda3\\Lib\\site-packages\\dowhy\\causal_estimators\\regression_estimator.py:179: FutureWarning: Series.__getitem__ treating keys as positions is deprecated. In a future version, integer keys will always be treated as labels (consistent with DataFrame behavior). To access a value by position, use `ser.iloc[pos]`\n",
      "  intercept_parameter = self.model.params[0]\n",
      "C:\\Users\\Fidelis\\anaconda3\\Lib\\site-packages\\dowhy\\causal_estimators\\regression_estimator.py:179: FutureWarning: Series.__getitem__ treating keys as positions is deprecated. In a future version, integer keys will always be treated as labels (consistent with DataFrame behavior). To access a value by position, use `ser.iloc[pos]`\n",
      "  intercept_parameter = self.model.params[0]\n",
      "C:\\Users\\Fidelis\\anaconda3\\Lib\\site-packages\\dowhy\\causal_estimators\\regression_estimator.py:179: FutureWarning: Series.__getitem__ treating keys as positions is deprecated. In a future version, integer keys will always be treated as labels (consistent with DataFrame behavior). To access a value by position, use `ser.iloc[pos]`\n",
      "  intercept_parameter = self.model.params[0]\n",
      "C:\\Users\\Fidelis\\anaconda3\\Lib\\site-packages\\dowhy\\causal_estimators\\regression_estimator.py:179: FutureWarning: Series.__getitem__ treating keys as positions is deprecated. In a future version, integer keys will always be treated as labels (consistent with DataFrame behavior). To access a value by position, use `ser.iloc[pos]`\n",
      "  intercept_parameter = self.model.params[0]\n",
      "C:\\Users\\Fidelis\\anaconda3\\Lib\\site-packages\\dowhy\\causal_estimators\\regression_estimator.py:179: FutureWarning: Series.__getitem__ treating keys as positions is deprecated. In a future version, integer keys will always be treated as labels (consistent with DataFrame behavior). To access a value by position, use `ser.iloc[pos]`\n",
      "  intercept_parameter = self.model.params[0]\n",
      "C:\\Users\\Fidelis\\anaconda3\\Lib\\site-packages\\dowhy\\causal_estimators\\regression_estimator.py:179: FutureWarning: Series.__getitem__ treating keys as positions is deprecated. In a future version, integer keys will always be treated as labels (consistent with DataFrame behavior). To access a value by position, use `ser.iloc[pos]`\n",
      "  intercept_parameter = self.model.params[0]\n",
      "C:\\Users\\Fidelis\\anaconda3\\Lib\\site-packages\\dowhy\\causal_estimators\\regression_estimator.py:179: FutureWarning: Series.__getitem__ treating keys as positions is deprecated. In a future version, integer keys will always be treated as labels (consistent with DataFrame behavior). To access a value by position, use `ser.iloc[pos]`\n",
      "  intercept_parameter = self.model.params[0]\n",
      "C:\\Users\\Fidelis\\anaconda3\\Lib\\site-packages\\dowhy\\causal_estimators\\regression_estimator.py:179: FutureWarning: Series.__getitem__ treating keys as positions is deprecated. In a future version, integer keys will always be treated as labels (consistent with DataFrame behavior). To access a value by position, use `ser.iloc[pos]`\n",
      "  intercept_parameter = self.model.params[0]\n",
      "C:\\Users\\Fidelis\\anaconda3\\Lib\\site-packages\\dowhy\\causal_estimators\\regression_estimator.py:179: FutureWarning: Series.__getitem__ treating keys as positions is deprecated. In a future version, integer keys will always be treated as labels (consistent with DataFrame behavior). To access a value by position, use `ser.iloc[pos]`\n",
      "  intercept_parameter = self.model.params[0]\n",
      "C:\\Users\\Fidelis\\anaconda3\\Lib\\site-packages\\dowhy\\causal_estimators\\regression_estimator.py:179: FutureWarning: Series.__getitem__ treating keys as positions is deprecated. In a future version, integer keys will always be treated as labels (consistent with DataFrame behavior). To access a value by position, use `ser.iloc[pos]`\n",
      "  intercept_parameter = self.model.params[0]\n",
      "C:\\Users\\Fidelis\\anaconda3\\Lib\\site-packages\\dowhy\\causal_estimators\\regression_estimator.py:179: FutureWarning: Series.__getitem__ treating keys as positions is deprecated. In a future version, integer keys will always be treated as labels (consistent with DataFrame behavior). To access a value by position, use `ser.iloc[pos]`\n",
      "  intercept_parameter = self.model.params[0]\n",
      "C:\\Users\\Fidelis\\anaconda3\\Lib\\site-packages\\dowhy\\causal_estimators\\regression_estimator.py:179: FutureWarning: Series.__getitem__ treating keys as positions is deprecated. In a future version, integer keys will always be treated as labels (consistent with DataFrame behavior). To access a value by position, use `ser.iloc[pos]`\n",
      "  intercept_parameter = self.model.params[0]\n",
      "C:\\Users\\Fidelis\\anaconda3\\Lib\\site-packages\\dowhy\\causal_estimators\\regression_estimator.py:179: FutureWarning: Series.__getitem__ treating keys as positions is deprecated. In a future version, integer keys will always be treated as labels (consistent with DataFrame behavior). To access a value by position, use `ser.iloc[pos]`\n",
      "  intercept_parameter = self.model.params[0]\n",
      "C:\\Users\\Fidelis\\anaconda3\\Lib\\site-packages\\dowhy\\causal_estimators\\regression_estimator.py:179: FutureWarning: Series.__getitem__ treating keys as positions is deprecated. In a future version, integer keys will always be treated as labels (consistent with DataFrame behavior). To access a value by position, use `ser.iloc[pos]`\n",
      "  intercept_parameter = self.model.params[0]\n",
      "C:\\Users\\Fidelis\\anaconda3\\Lib\\site-packages\\dowhy\\causal_estimators\\regression_estimator.py:179: FutureWarning: Series.__getitem__ treating keys as positions is deprecated. In a future version, integer keys will always be treated as labels (consistent with DataFrame behavior). To access a value by position, use `ser.iloc[pos]`\n",
      "  intercept_parameter = self.model.params[0]\n",
      "C:\\Users\\Fidelis\\anaconda3\\Lib\\site-packages\\dowhy\\causal_estimators\\regression_estimator.py:179: FutureWarning: Series.__getitem__ treating keys as positions is deprecated. In a future version, integer keys will always be treated as labels (consistent with DataFrame behavior). To access a value by position, use `ser.iloc[pos]`\n",
      "  intercept_parameter = self.model.params[0]\n",
      "C:\\Users\\Fidelis\\anaconda3\\Lib\\site-packages\\dowhy\\causal_estimators\\regression_estimator.py:179: FutureWarning: Series.__getitem__ treating keys as positions is deprecated. In a future version, integer keys will always be treated as labels (consistent with DataFrame behavior). To access a value by position, use `ser.iloc[pos]`\n",
      "  intercept_parameter = self.model.params[0]\n",
      "C:\\Users\\Fidelis\\anaconda3\\Lib\\site-packages\\dowhy\\causal_estimators\\regression_estimator.py:179: FutureWarning: Series.__getitem__ treating keys as positions is deprecated. In a future version, integer keys will always be treated as labels (consistent with DataFrame behavior). To access a value by position, use `ser.iloc[pos]`\n",
      "  intercept_parameter = self.model.params[0]\n",
      "C:\\Users\\Fidelis\\anaconda3\\Lib\\site-packages\\dowhy\\causal_estimators\\regression_estimator.py:179: FutureWarning: Series.__getitem__ treating keys as positions is deprecated. In a future version, integer keys will always be treated as labels (consistent with DataFrame behavior). To access a value by position, use `ser.iloc[pos]`\n",
      "  intercept_parameter = self.model.params[0]\n",
      "C:\\Users\\Fidelis\\anaconda3\\Lib\\site-packages\\dowhy\\causal_estimators\\regression_estimator.py:179: FutureWarning: Series.__getitem__ treating keys as positions is deprecated. In a future version, integer keys will always be treated as labels (consistent with DataFrame behavior). To access a value by position, use `ser.iloc[pos]`\n",
      "  intercept_parameter = self.model.params[0]\n",
      "C:\\Users\\Fidelis\\anaconda3\\Lib\\site-packages\\dowhy\\causal_estimators\\regression_estimator.py:179: FutureWarning: Series.__getitem__ treating keys as positions is deprecated. In a future version, integer keys will always be treated as labels (consistent with DataFrame behavior). To access a value by position, use `ser.iloc[pos]`\n",
      "  intercept_parameter = self.model.params[0]\n",
      "C:\\Users\\Fidelis\\anaconda3\\Lib\\site-packages\\dowhy\\causal_estimators\\regression_estimator.py:179: FutureWarning: Series.__getitem__ treating keys as positions is deprecated. In a future version, integer keys will always be treated as labels (consistent with DataFrame behavior). To access a value by position, use `ser.iloc[pos]`\n",
      "  intercept_parameter = self.model.params[0]\n",
      "C:\\Users\\Fidelis\\anaconda3\\Lib\\site-packages\\dowhy\\causal_estimators\\regression_estimator.py:179: FutureWarning: Series.__getitem__ treating keys as positions is deprecated. In a future version, integer keys will always be treated as labels (consistent with DataFrame behavior). To access a value by position, use `ser.iloc[pos]`\n",
      "  intercept_parameter = self.model.params[0]\n",
      "C:\\Users\\Fidelis\\anaconda3\\Lib\\site-packages\\dowhy\\causal_estimators\\regression_estimator.py:179: FutureWarning: Series.__getitem__ treating keys as positions is deprecated. In a future version, integer keys will always be treated as labels (consistent with DataFrame behavior). To access a value by position, use `ser.iloc[pos]`\n",
      "  intercept_parameter = self.model.params[0]\n",
      "C:\\Users\\Fidelis\\anaconda3\\Lib\\site-packages\\dowhy\\causal_estimators\\regression_estimator.py:179: FutureWarning: Series.__getitem__ treating keys as positions is deprecated. In a future version, integer keys will always be treated as labels (consistent with DataFrame behavior). To access a value by position, use `ser.iloc[pos]`\n",
      "  intercept_parameter = self.model.params[0]\n",
      "C:\\Users\\Fidelis\\anaconda3\\Lib\\site-packages\\dowhy\\causal_estimators\\regression_estimator.py:179: FutureWarning: Series.__getitem__ treating keys as positions is deprecated. In a future version, integer keys will always be treated as labels (consistent with DataFrame behavior). To access a value by position, use `ser.iloc[pos]`\n",
      "  intercept_parameter = self.model.params[0]\n",
      "C:\\Users\\Fidelis\\anaconda3\\Lib\\site-packages\\dowhy\\causal_estimators\\regression_estimator.py:179: FutureWarning: Series.__getitem__ treating keys as positions is deprecated. In a future version, integer keys will always be treated as labels (consistent with DataFrame behavior). To access a value by position, use `ser.iloc[pos]`\n",
      "  intercept_parameter = self.model.params[0]\n",
      "C:\\Users\\Fidelis\\anaconda3\\Lib\\site-packages\\dowhy\\causal_estimators\\regression_estimator.py:179: FutureWarning: Series.__getitem__ treating keys as positions is deprecated. In a future version, integer keys will always be treated as labels (consistent with DataFrame behavior). To access a value by position, use `ser.iloc[pos]`\n",
      "  intercept_parameter = self.model.params[0]\n",
      "C:\\Users\\Fidelis\\anaconda3\\Lib\\site-packages\\dowhy\\causal_estimators\\regression_estimator.py:179: FutureWarning: Series.__getitem__ treating keys as positions is deprecated. In a future version, integer keys will always be treated as labels (consistent with DataFrame behavior). To access a value by position, use `ser.iloc[pos]`\n",
      "  intercept_parameter = self.model.params[0]\n",
      "C:\\Users\\Fidelis\\anaconda3\\Lib\\site-packages\\dowhy\\causal_estimators\\regression_estimator.py:179: FutureWarning: Series.__getitem__ treating keys as positions is deprecated. In a future version, integer keys will always be treated as labels (consistent with DataFrame behavior). To access a value by position, use `ser.iloc[pos]`\n",
      "  intercept_parameter = self.model.params[0]\n",
      "C:\\Users\\Fidelis\\anaconda3\\Lib\\site-packages\\dowhy\\causal_estimators\\regression_estimator.py:179: FutureWarning: Series.__getitem__ treating keys as positions is deprecated. In a future version, integer keys will always be treated as labels (consistent with DataFrame behavior). To access a value by position, use `ser.iloc[pos]`\n",
      "  intercept_parameter = self.model.params[0]\n",
      "C:\\Users\\Fidelis\\anaconda3\\Lib\\site-packages\\dowhy\\causal_estimators\\regression_estimator.py:179: FutureWarning: Series.__getitem__ treating keys as positions is deprecated. In a future version, integer keys will always be treated as labels (consistent with DataFrame behavior). To access a value by position, use `ser.iloc[pos]`\n",
      "  intercept_parameter = self.model.params[0]\n",
      "C:\\Users\\Fidelis\\anaconda3\\Lib\\site-packages\\dowhy\\causal_estimators\\regression_estimator.py:179: FutureWarning: Series.__getitem__ treating keys as positions is deprecated. In a future version, integer keys will always be treated as labels (consistent with DataFrame behavior). To access a value by position, use `ser.iloc[pos]`\n",
      "  intercept_parameter = self.model.params[0]\n",
      "C:\\Users\\Fidelis\\anaconda3\\Lib\\site-packages\\dowhy\\causal_estimators\\regression_estimator.py:179: FutureWarning: Series.__getitem__ treating keys as positions is deprecated. In a future version, integer keys will always be treated as labels (consistent with DataFrame behavior). To access a value by position, use `ser.iloc[pos]`\n",
      "  intercept_parameter = self.model.params[0]\n",
      "C:\\Users\\Fidelis\\anaconda3\\Lib\\site-packages\\dowhy\\causal_estimators\\regression_estimator.py:179: FutureWarning: Series.__getitem__ treating keys as positions is deprecated. In a future version, integer keys will always be treated as labels (consistent with DataFrame behavior). To access a value by position, use `ser.iloc[pos]`\n",
      "  intercept_parameter = self.model.params[0]\n",
      "C:\\Users\\Fidelis\\anaconda3\\Lib\\site-packages\\dowhy\\causal_estimators\\regression_estimator.py:179: FutureWarning: Series.__getitem__ treating keys as positions is deprecated. In a future version, integer keys will always be treated as labels (consistent with DataFrame behavior). To access a value by position, use `ser.iloc[pos]`\n",
      "  intercept_parameter = self.model.params[0]\n",
      "C:\\Users\\Fidelis\\anaconda3\\Lib\\site-packages\\dowhy\\causal_estimators\\regression_estimator.py:179: FutureWarning: Series.__getitem__ treating keys as positions is deprecated. In a future version, integer keys will always be treated as labels (consistent with DataFrame behavior). To access a value by position, use `ser.iloc[pos]`\n",
      "  intercept_parameter = self.model.params[0]\n",
      "C:\\Users\\Fidelis\\anaconda3\\Lib\\site-packages\\dowhy\\causal_estimators\\regression_estimator.py:179: FutureWarning: Series.__getitem__ treating keys as positions is deprecated. In a future version, integer keys will always be treated as labels (consistent with DataFrame behavior). To access a value by position, use `ser.iloc[pos]`\n",
      "  intercept_parameter = self.model.params[0]\n",
      "C:\\Users\\Fidelis\\anaconda3\\Lib\\site-packages\\dowhy\\causal_estimators\\regression_estimator.py:179: FutureWarning: Series.__getitem__ treating keys as positions is deprecated. In a future version, integer keys will always be treated as labels (consistent with DataFrame behavior). To access a value by position, use `ser.iloc[pos]`\n",
      "  intercept_parameter = self.model.params[0]\n",
      "C:\\Users\\Fidelis\\anaconda3\\Lib\\site-packages\\dowhy\\causal_estimators\\regression_estimator.py:179: FutureWarning: Series.__getitem__ treating keys as positions is deprecated. In a future version, integer keys will always be treated as labels (consistent with DataFrame behavior). To access a value by position, use `ser.iloc[pos]`\n",
      "  intercept_parameter = self.model.params[0]\n",
      "C:\\Users\\Fidelis\\anaconda3\\Lib\\site-packages\\dowhy\\causal_estimators\\regression_estimator.py:179: FutureWarning: Series.__getitem__ treating keys as positions is deprecated. In a future version, integer keys will always be treated as labels (consistent with DataFrame behavior). To access a value by position, use `ser.iloc[pos]`\n",
      "  intercept_parameter = self.model.params[0]\n",
      "C:\\Users\\Fidelis\\anaconda3\\Lib\\site-packages\\dowhy\\causal_estimators\\regression_estimator.py:179: FutureWarning: Series.__getitem__ treating keys as positions is deprecated. In a future version, integer keys will always be treated as labels (consistent with DataFrame behavior). To access a value by position, use `ser.iloc[pos]`\n",
      "  intercept_parameter = self.model.params[0]\n",
      "C:\\Users\\Fidelis\\anaconda3\\Lib\\site-packages\\dowhy\\causal_estimators\\regression_estimator.py:179: FutureWarning: Series.__getitem__ treating keys as positions is deprecated. In a future version, integer keys will always be treated as labels (consistent with DataFrame behavior). To access a value by position, use `ser.iloc[pos]`\n",
      "  intercept_parameter = self.model.params[0]\n",
      "C:\\Users\\Fidelis\\anaconda3\\Lib\\site-packages\\dowhy\\causal_estimators\\regression_estimator.py:179: FutureWarning: Series.__getitem__ treating keys as positions is deprecated. In a future version, integer keys will always be treated as labels (consistent with DataFrame behavior). To access a value by position, use `ser.iloc[pos]`\n",
      "  intercept_parameter = self.model.params[0]\n",
      "C:\\Users\\Fidelis\\anaconda3\\Lib\\site-packages\\dowhy\\causal_estimators\\regression_estimator.py:179: FutureWarning: Series.__getitem__ treating keys as positions is deprecated. In a future version, integer keys will always be treated as labels (consistent with DataFrame behavior). To access a value by position, use `ser.iloc[pos]`\n",
      "  intercept_parameter = self.model.params[0]\n",
      "C:\\Users\\Fidelis\\anaconda3\\Lib\\site-packages\\dowhy\\causal_estimators\\regression_estimator.py:179: FutureWarning: Series.__getitem__ treating keys as positions is deprecated. In a future version, integer keys will always be treated as labels (consistent with DataFrame behavior). To access a value by position, use `ser.iloc[pos]`\n",
      "  intercept_parameter = self.model.params[0]\n",
      "C:\\Users\\Fidelis\\anaconda3\\Lib\\site-packages\\dowhy\\causal_estimators\\regression_estimator.py:179: FutureWarning: Series.__getitem__ treating keys as positions is deprecated. In a future version, integer keys will always be treated as labels (consistent with DataFrame behavior). To access a value by position, use `ser.iloc[pos]`\n",
      "  intercept_parameter = self.model.params[0]\n",
      "C:\\Users\\Fidelis\\anaconda3\\Lib\\site-packages\\dowhy\\causal_estimators\\regression_estimator.py:179: FutureWarning: Series.__getitem__ treating keys as positions is deprecated. In a future version, integer keys will always be treated as labels (consistent with DataFrame behavior). To access a value by position, use `ser.iloc[pos]`\n",
      "  intercept_parameter = self.model.params[0]\n",
      "C:\\Users\\Fidelis\\anaconda3\\Lib\\site-packages\\dowhy\\causal_estimators\\regression_estimator.py:179: FutureWarning: Series.__getitem__ treating keys as positions is deprecated. In a future version, integer keys will always be treated as labels (consistent with DataFrame behavior). To access a value by position, use `ser.iloc[pos]`\n",
      "  intercept_parameter = self.model.params[0]\n",
      "C:\\Users\\Fidelis\\anaconda3\\Lib\\site-packages\\dowhy\\causal_estimators\\regression_estimator.py:179: FutureWarning: Series.__getitem__ treating keys as positions is deprecated. In a future version, integer keys will always be treated as labels (consistent with DataFrame behavior). To access a value by position, use `ser.iloc[pos]`\n",
      "  intercept_parameter = self.model.params[0]\n",
      "C:\\Users\\Fidelis\\anaconda3\\Lib\\site-packages\\dowhy\\causal_estimators\\regression_estimator.py:179: FutureWarning: Series.__getitem__ treating keys as positions is deprecated. In a future version, integer keys will always be treated as labels (consistent with DataFrame behavior). To access a value by position, use `ser.iloc[pos]`\n",
      "  intercept_parameter = self.model.params[0]\n",
      "C:\\Users\\Fidelis\\anaconda3\\Lib\\site-packages\\dowhy\\causal_estimators\\regression_estimator.py:179: FutureWarning: Series.__getitem__ treating keys as positions is deprecated. In a future version, integer keys will always be treated as labels (consistent with DataFrame behavior). To access a value by position, use `ser.iloc[pos]`\n",
      "  intercept_parameter = self.model.params[0]\n",
      "C:\\Users\\Fidelis\\anaconda3\\Lib\\site-packages\\dowhy\\causal_estimators\\regression_estimator.py:179: FutureWarning: Series.__getitem__ treating keys as positions is deprecated. In a future version, integer keys will always be treated as labels (consistent with DataFrame behavior). To access a value by position, use `ser.iloc[pos]`\n",
      "  intercept_parameter = self.model.params[0]\n",
      "C:\\Users\\Fidelis\\anaconda3\\Lib\\site-packages\\dowhy\\causal_estimators\\regression_estimator.py:179: FutureWarning: Series.__getitem__ treating keys as positions is deprecated. In a future version, integer keys will always be treated as labels (consistent with DataFrame behavior). To access a value by position, use `ser.iloc[pos]`\n",
      "  intercept_parameter = self.model.params[0]\n",
      "C:\\Users\\Fidelis\\anaconda3\\Lib\\site-packages\\dowhy\\causal_estimators\\regression_estimator.py:179: FutureWarning: Series.__getitem__ treating keys as positions is deprecated. In a future version, integer keys will always be treated as labels (consistent with DataFrame behavior). To access a value by position, use `ser.iloc[pos]`\n",
      "  intercept_parameter = self.model.params[0]\n",
      "C:\\Users\\Fidelis\\anaconda3\\Lib\\site-packages\\dowhy\\causal_estimators\\regression_estimator.py:179: FutureWarning: Series.__getitem__ treating keys as positions is deprecated. In a future version, integer keys will always be treated as labels (consistent with DataFrame behavior). To access a value by position, use `ser.iloc[pos]`\n",
      "  intercept_parameter = self.model.params[0]\n",
      "C:\\Users\\Fidelis\\anaconda3\\Lib\\site-packages\\dowhy\\causal_estimators\\regression_estimator.py:179: FutureWarning: Series.__getitem__ treating keys as positions is deprecated. In a future version, integer keys will always be treated as labels (consistent with DataFrame behavior). To access a value by position, use `ser.iloc[pos]`\n",
      "  intercept_parameter = self.model.params[0]\n",
      "C:\\Users\\Fidelis\\anaconda3\\Lib\\site-packages\\dowhy\\causal_estimators\\regression_estimator.py:179: FutureWarning: Series.__getitem__ treating keys as positions is deprecated. In a future version, integer keys will always be treated as labels (consistent with DataFrame behavior). To access a value by position, use `ser.iloc[pos]`\n",
      "  intercept_parameter = self.model.params[0]\n",
      "C:\\Users\\Fidelis\\anaconda3\\Lib\\site-packages\\dowhy\\causal_estimators\\regression_estimator.py:179: FutureWarning: Series.__getitem__ treating keys as positions is deprecated. In a future version, integer keys will always be treated as labels (consistent with DataFrame behavior). To access a value by position, use `ser.iloc[pos]`\n",
      "  intercept_parameter = self.model.params[0]\n",
      "C:\\Users\\Fidelis\\anaconda3\\Lib\\site-packages\\dowhy\\causal_estimators\\regression_estimator.py:179: FutureWarning: Series.__getitem__ treating keys as positions is deprecated. In a future version, integer keys will always be treated as labels (consistent with DataFrame behavior). To access a value by position, use `ser.iloc[pos]`\n",
      "  intercept_parameter = self.model.params[0]\n",
      "C:\\Users\\Fidelis\\anaconda3\\Lib\\site-packages\\dowhy\\causal_estimators\\regression_estimator.py:179: FutureWarning: Series.__getitem__ treating keys as positions is deprecated. In a future version, integer keys will always be treated as labels (consistent with DataFrame behavior). To access a value by position, use `ser.iloc[pos]`\n",
      "  intercept_parameter = self.model.params[0]\n",
      "C:\\Users\\Fidelis\\anaconda3\\Lib\\site-packages\\dowhy\\causal_estimators\\regression_estimator.py:179: FutureWarning: Series.__getitem__ treating keys as positions is deprecated. In a future version, integer keys will always be treated as labels (consistent with DataFrame behavior). To access a value by position, use `ser.iloc[pos]`\n",
      "  intercept_parameter = self.model.params[0]\n",
      "C:\\Users\\Fidelis\\anaconda3\\Lib\\site-packages\\dowhy\\causal_estimators\\regression_estimator.py:179: FutureWarning: Series.__getitem__ treating keys as positions is deprecated. In a future version, integer keys will always be treated as labels (consistent with DataFrame behavior). To access a value by position, use `ser.iloc[pos]`\n",
      "  intercept_parameter = self.model.params[0]\n",
      "C:\\Users\\Fidelis\\anaconda3\\Lib\\site-packages\\dowhy\\causal_estimators\\regression_estimator.py:179: FutureWarning: Series.__getitem__ treating keys as positions is deprecated. In a future version, integer keys will always be treated as labels (consistent with DataFrame behavior). To access a value by position, use `ser.iloc[pos]`\n",
      "  intercept_parameter = self.model.params[0]\n",
      "C:\\Users\\Fidelis\\anaconda3\\Lib\\site-packages\\dowhy\\causal_estimators\\regression_estimator.py:179: FutureWarning: Series.__getitem__ treating keys as positions is deprecated. In a future version, integer keys will always be treated as labels (consistent with DataFrame behavior). To access a value by position, use `ser.iloc[pos]`\n",
      "  intercept_parameter = self.model.params[0]\n",
      "C:\\Users\\Fidelis\\anaconda3\\Lib\\site-packages\\dowhy\\causal_estimators\\regression_estimator.py:179: FutureWarning: Series.__getitem__ treating keys as positions is deprecated. In a future version, integer keys will always be treated as labels (consistent with DataFrame behavior). To access a value by position, use `ser.iloc[pos]`\n",
      "  intercept_parameter = self.model.params[0]\n",
      "C:\\Users\\Fidelis\\anaconda3\\Lib\\site-packages\\dowhy\\causal_estimators\\regression_estimator.py:179: FutureWarning: Series.__getitem__ treating keys as positions is deprecated. In a future version, integer keys will always be treated as labels (consistent with DataFrame behavior). To access a value by position, use `ser.iloc[pos]`\n",
      "  intercept_parameter = self.model.params[0]\n",
      "C:\\Users\\Fidelis\\anaconda3\\Lib\\site-packages\\dowhy\\causal_estimators\\regression_estimator.py:179: FutureWarning: Series.__getitem__ treating keys as positions is deprecated. In a future version, integer keys will always be treated as labels (consistent with DataFrame behavior). To access a value by position, use `ser.iloc[pos]`\n",
      "  intercept_parameter = self.model.params[0]\n",
      "C:\\Users\\Fidelis\\anaconda3\\Lib\\site-packages\\dowhy\\causal_estimators\\regression_estimator.py:179: FutureWarning: Series.__getitem__ treating keys as positions is deprecated. In a future version, integer keys will always be treated as labels (consistent with DataFrame behavior). To access a value by position, use `ser.iloc[pos]`\n",
      "  intercept_parameter = self.model.params[0]\n",
      "C:\\Users\\Fidelis\\anaconda3\\Lib\\site-packages\\dowhy\\causal_estimators\\regression_estimator.py:179: FutureWarning: Series.__getitem__ treating keys as positions is deprecated. In a future version, integer keys will always be treated as labels (consistent with DataFrame behavior). To access a value by position, use `ser.iloc[pos]`\n",
      "  intercept_parameter = self.model.params[0]\n",
      "C:\\Users\\Fidelis\\anaconda3\\Lib\\site-packages\\dowhy\\causal_estimators\\regression_estimator.py:179: FutureWarning: Series.__getitem__ treating keys as positions is deprecated. In a future version, integer keys will always be treated as labels (consistent with DataFrame behavior). To access a value by position, use `ser.iloc[pos]`\n",
      "  intercept_parameter = self.model.params[0]\n",
      "C:\\Users\\Fidelis\\anaconda3\\Lib\\site-packages\\dowhy\\causal_estimators\\regression_estimator.py:179: FutureWarning: Series.__getitem__ treating keys as positions is deprecated. In a future version, integer keys will always be treated as labels (consistent with DataFrame behavior). To access a value by position, use `ser.iloc[pos]`\n",
      "  intercept_parameter = self.model.params[0]\n",
      "C:\\Users\\Fidelis\\anaconda3\\Lib\\site-packages\\dowhy\\causal_estimators\\regression_estimator.py:179: FutureWarning: Series.__getitem__ treating keys as positions is deprecated. In a future version, integer keys will always be treated as labels (consistent with DataFrame behavior). To access a value by position, use `ser.iloc[pos]`\n",
      "  intercept_parameter = self.model.params[0]\n",
      "C:\\Users\\Fidelis\\anaconda3\\Lib\\site-packages\\dowhy\\causal_estimators\\regression_estimator.py:179: FutureWarning: Series.__getitem__ treating keys as positions is deprecated. In a future version, integer keys will always be treated as labels (consistent with DataFrame behavior). To access a value by position, use `ser.iloc[pos]`\n",
      "  intercept_parameter = self.model.params[0]\n",
      "C:\\Users\\Fidelis\\anaconda3\\Lib\\site-packages\\dowhy\\causal_estimators\\regression_estimator.py:179: FutureWarning: Series.__getitem__ treating keys as positions is deprecated. In a future version, integer keys will always be treated as labels (consistent with DataFrame behavior). To access a value by position, use `ser.iloc[pos]`\n",
      "  intercept_parameter = self.model.params[0]\n",
      "C:\\Users\\Fidelis\\anaconda3\\Lib\\site-packages\\dowhy\\causal_estimators\\regression_estimator.py:179: FutureWarning: Series.__getitem__ treating keys as positions is deprecated. In a future version, integer keys will always be treated as labels (consistent with DataFrame behavior). To access a value by position, use `ser.iloc[pos]`\n",
      "  intercept_parameter = self.model.params[0]\n",
      "C:\\Users\\Fidelis\\anaconda3\\Lib\\site-packages\\dowhy\\causal_estimators\\regression_estimator.py:179: FutureWarning: Series.__getitem__ treating keys as positions is deprecated. In a future version, integer keys will always be treated as labels (consistent with DataFrame behavior). To access a value by position, use `ser.iloc[pos]`\n",
      "  intercept_parameter = self.model.params[0]\n",
      "C:\\Users\\Fidelis\\anaconda3\\Lib\\site-packages\\dowhy\\causal_estimators\\regression_estimator.py:179: FutureWarning: Series.__getitem__ treating keys as positions is deprecated. In a future version, integer keys will always be treated as labels (consistent with DataFrame behavior). To access a value by position, use `ser.iloc[pos]`\n",
      "  intercept_parameter = self.model.params[0]\n",
      "C:\\Users\\Fidelis\\anaconda3\\Lib\\site-packages\\dowhy\\causal_estimators\\regression_estimator.py:179: FutureWarning: Series.__getitem__ treating keys as positions is deprecated. In a future version, integer keys will always be treated as labels (consistent with DataFrame behavior). To access a value by position, use `ser.iloc[pos]`\n",
      "  intercept_parameter = self.model.params[0]\n",
      "C:\\Users\\Fidelis\\anaconda3\\Lib\\site-packages\\dowhy\\causal_estimators\\regression_estimator.py:179: FutureWarning: Series.__getitem__ treating keys as positions is deprecated. In a future version, integer keys will always be treated as labels (consistent with DataFrame behavior). To access a value by position, use `ser.iloc[pos]`\n",
      "  intercept_parameter = self.model.params[0]\n",
      "C:\\Users\\Fidelis\\anaconda3\\Lib\\site-packages\\dowhy\\causal_estimators\\regression_estimator.py:179: FutureWarning: Series.__getitem__ treating keys as positions is deprecated. In a future version, integer keys will always be treated as labels (consistent with DataFrame behavior). To access a value by position, use `ser.iloc[pos]`\n",
      "  intercept_parameter = self.model.params[0]\n",
      "C:\\Users\\Fidelis\\anaconda3\\Lib\\site-packages\\dowhy\\causal_estimators\\regression_estimator.py:179: FutureWarning: Series.__getitem__ treating keys as positions is deprecated. In a future version, integer keys will always be treated as labels (consistent with DataFrame behavior). To access a value by position, use `ser.iloc[pos]`\n",
      "  intercept_parameter = self.model.params[0]\n",
      "C:\\Users\\Fidelis\\anaconda3\\Lib\\site-packages\\dowhy\\causal_estimators\\regression_estimator.py:179: FutureWarning: Series.__getitem__ treating keys as positions is deprecated. In a future version, integer keys will always be treated as labels (consistent with DataFrame behavior). To access a value by position, use `ser.iloc[pos]`\n",
      "  intercept_parameter = self.model.params[0]\n",
      "C:\\Users\\Fidelis\\anaconda3\\Lib\\site-packages\\dowhy\\causal_estimators\\regression_estimator.py:179: FutureWarning: Series.__getitem__ treating keys as positions is deprecated. In a future version, integer keys will always be treated as labels (consistent with DataFrame behavior). To access a value by position, use `ser.iloc[pos]`\n",
      "  intercept_parameter = self.model.params[0]\n",
      "C:\\Users\\Fidelis\\anaconda3\\Lib\\site-packages\\dowhy\\causal_estimators\\regression_estimator.py:179: FutureWarning: Series.__getitem__ treating keys as positions is deprecated. In a future version, integer keys will always be treated as labels (consistent with DataFrame behavior). To access a value by position, use `ser.iloc[pos]`\n",
      "  intercept_parameter = self.model.params[0]\n",
      "C:\\Users\\Fidelis\\anaconda3\\Lib\\site-packages\\dowhy\\causal_estimators\\regression_estimator.py:179: FutureWarning: Series.__getitem__ treating keys as positions is deprecated. In a future version, integer keys will always be treated as labels (consistent with DataFrame behavior). To access a value by position, use `ser.iloc[pos]`\n",
      "  intercept_parameter = self.model.params[0]\n",
      "C:\\Users\\Fidelis\\anaconda3\\Lib\\site-packages\\dowhy\\causal_estimators\\regression_estimator.py:179: FutureWarning: Series.__getitem__ treating keys as positions is deprecated. In a future version, integer keys will always be treated as labels (consistent with DataFrame behavior). To access a value by position, use `ser.iloc[pos]`\n",
      "  intercept_parameter = self.model.params[0]\n",
      "C:\\Users\\Fidelis\\anaconda3\\Lib\\site-packages\\dowhy\\causal_estimators\\regression_estimator.py:179: FutureWarning: Series.__getitem__ treating keys as positions is deprecated. In a future version, integer keys will always be treated as labels (consistent with DataFrame behavior). To access a value by position, use `ser.iloc[pos]`\n",
      "  intercept_parameter = self.model.params[0]\n",
      "C:\\Users\\Fidelis\\anaconda3\\Lib\\site-packages\\dowhy\\causal_estimators\\regression_estimator.py:179: FutureWarning: Series.__getitem__ treating keys as positions is deprecated. In a future version, integer keys will always be treated as labels (consistent with DataFrame behavior). To access a value by position, use `ser.iloc[pos]`\n",
      "  intercept_parameter = self.model.params[0]\n",
      "C:\\Users\\Fidelis\\anaconda3\\Lib\\site-packages\\dowhy\\causal_estimators\\regression_estimator.py:179: FutureWarning: Series.__getitem__ treating keys as positions is deprecated. In a future version, integer keys will always be treated as labels (consistent with DataFrame behavior). To access a value by position, use `ser.iloc[pos]`\n",
      "  intercept_parameter = self.model.params[0]\n",
      "C:\\Users\\Fidelis\\anaconda3\\Lib\\site-packages\\dowhy\\causal_estimators\\regression_estimator.py:179: FutureWarning: Series.__getitem__ treating keys as positions is deprecated. In a future version, integer keys will always be treated as labels (consistent with DataFrame behavior). To access a value by position, use `ser.iloc[pos]`\n",
      "  intercept_parameter = self.model.params[0]\n",
      "C:\\Users\\Fidelis\\anaconda3\\Lib\\site-packages\\dowhy\\causal_estimators\\regression_estimator.py:179: FutureWarning: Series.__getitem__ treating keys as positions is deprecated. In a future version, integer keys will always be treated as labels (consistent with DataFrame behavior). To access a value by position, use `ser.iloc[pos]`\n",
      "  intercept_parameter = self.model.params[0]\n",
      "C:\\Users\\Fidelis\\anaconda3\\Lib\\site-packages\\dowhy\\causal_estimators\\regression_estimator.py:179: FutureWarning: Series.__getitem__ treating keys as positions is deprecated. In a future version, integer keys will always be treated as labels (consistent with DataFrame behavior). To access a value by position, use `ser.iloc[pos]`\n",
      "  intercept_parameter = self.model.params[0]\n",
      "C:\\Users\\Fidelis\\anaconda3\\Lib\\site-packages\\dowhy\\causal_estimators\\regression_estimator.py:179: FutureWarning: Series.__getitem__ treating keys as positions is deprecated. In a future version, integer keys will always be treated as labels (consistent with DataFrame behavior). To access a value by position, use `ser.iloc[pos]`\n",
      "  intercept_parameter = self.model.params[0]\n",
      "C:\\Users\\Fidelis\\anaconda3\\Lib\\site-packages\\dowhy\\causal_estimators\\regression_estimator.py:179: FutureWarning: Series.__getitem__ treating keys as positions is deprecated. In a future version, integer keys will always be treated as labels (consistent with DataFrame behavior). To access a value by position, use `ser.iloc[pos]`\n",
      "  intercept_parameter = self.model.params[0]\n",
      "C:\\Users\\Fidelis\\anaconda3\\Lib\\site-packages\\dowhy\\causal_estimators\\regression_estimator.py:179: FutureWarning: Series.__getitem__ treating keys as positions is deprecated. In a future version, integer keys will always be treated as labels (consistent with DataFrame behavior). To access a value by position, use `ser.iloc[pos]`\n",
      "  intercept_parameter = self.model.params[0]\n",
      "C:\\Users\\Fidelis\\anaconda3\\Lib\\site-packages\\dowhy\\causal_estimators\\regression_estimator.py:179: FutureWarning: Series.__getitem__ treating keys as positions is deprecated. In a future version, integer keys will always be treated as labels (consistent with DataFrame behavior). To access a value by position, use `ser.iloc[pos]`\n",
      "  intercept_parameter = self.model.params[0]\n",
      "C:\\Users\\Fidelis\\anaconda3\\Lib\\site-packages\\dowhy\\causal_estimators\\regression_estimator.py:179: FutureWarning: Series.__getitem__ treating keys as positions is deprecated. In a future version, integer keys will always be treated as labels (consistent with DataFrame behavior). To access a value by position, use `ser.iloc[pos]`\n",
      "  intercept_parameter = self.model.params[0]\n",
      "C:\\Users\\Fidelis\\anaconda3\\Lib\\site-packages\\dowhy\\causal_estimators\\regression_estimator.py:179: FutureWarning: Series.__getitem__ treating keys as positions is deprecated. In a future version, integer keys will always be treated as labels (consistent with DataFrame behavior). To access a value by position, use `ser.iloc[pos]`\n",
      "  intercept_parameter = self.model.params[0]\n",
      "C:\\Users\\Fidelis\\anaconda3\\Lib\\site-packages\\dowhy\\causal_estimators\\regression_estimator.py:179: FutureWarning: Series.__getitem__ treating keys as positions is deprecated. In a future version, integer keys will always be treated as labels (consistent with DataFrame behavior). To access a value by position, use `ser.iloc[pos]`\n",
      "  intercept_parameter = self.model.params[0]\n",
      "C:\\Users\\Fidelis\\anaconda3\\Lib\\site-packages\\dowhy\\causal_estimators\\regression_estimator.py:179: FutureWarning: Series.__getitem__ treating keys as positions is deprecated. In a future version, integer keys will always be treated as labels (consistent with DataFrame behavior). To access a value by position, use `ser.iloc[pos]`\n",
      "  intercept_parameter = self.model.params[0]\n",
      "C:\\Users\\Fidelis\\anaconda3\\Lib\\site-packages\\dowhy\\causal_estimators\\regression_estimator.py:179: FutureWarning: Series.__getitem__ treating keys as positions is deprecated. In a future version, integer keys will always be treated as labels (consistent with DataFrame behavior). To access a value by position, use `ser.iloc[pos]`\n",
      "  intercept_parameter = self.model.params[0]\n",
      "C:\\Users\\Fidelis\\anaconda3\\Lib\\site-packages\\dowhy\\causal_estimators\\regression_estimator.py:179: FutureWarning: Series.__getitem__ treating keys as positions is deprecated. In a future version, integer keys will always be treated as labels (consistent with DataFrame behavior). To access a value by position, use `ser.iloc[pos]`\n",
      "  intercept_parameter = self.model.params[0]\n",
      "C:\\Users\\Fidelis\\anaconda3\\Lib\\site-packages\\dowhy\\causal_estimators\\regression_estimator.py:179: FutureWarning: Series.__getitem__ treating keys as positions is deprecated. In a future version, integer keys will always be treated as labels (consistent with DataFrame behavior). To access a value by position, use `ser.iloc[pos]`\n",
      "  intercept_parameter = self.model.params[0]\n",
      "C:\\Users\\Fidelis\\anaconda3\\Lib\\site-packages\\dowhy\\causal_estimators\\regression_estimator.py:179: FutureWarning: Series.__getitem__ treating keys as positions is deprecated. In a future version, integer keys will always be treated as labels (consistent with DataFrame behavior). To access a value by position, use `ser.iloc[pos]`\n",
      "  intercept_parameter = self.model.params[0]\n",
      "C:\\Users\\Fidelis\\anaconda3\\Lib\\site-packages\\dowhy\\causal_estimators\\regression_estimator.py:179: FutureWarning: Series.__getitem__ treating keys as positions is deprecated. In a future version, integer keys will always be treated as labels (consistent with DataFrame behavior). To access a value by position, use `ser.iloc[pos]`\n",
      "  intercept_parameter = self.model.params[0]\n",
      "C:\\Users\\Fidelis\\anaconda3\\Lib\\site-packages\\dowhy\\causal_estimators\\regression_estimator.py:179: FutureWarning: Series.__getitem__ treating keys as positions is deprecated. In a future version, integer keys will always be treated as labels (consistent with DataFrame behavior). To access a value by position, use `ser.iloc[pos]`\n",
      "  intercept_parameter = self.model.params[0]\n",
      "C:\\Users\\Fidelis\\anaconda3\\Lib\\site-packages\\dowhy\\causal_estimators\\regression_estimator.py:179: FutureWarning: Series.__getitem__ treating keys as positions is deprecated. In a future version, integer keys will always be treated as labels (consistent with DataFrame behavior). To access a value by position, use `ser.iloc[pos]`\n",
      "  intercept_parameter = self.model.params[0]\n",
      "C:\\Users\\Fidelis\\anaconda3\\Lib\\site-packages\\dowhy\\causal_estimators\\regression_estimator.py:179: FutureWarning: Series.__getitem__ treating keys as positions is deprecated. In a future version, integer keys will always be treated as labels (consistent with DataFrame behavior). To access a value by position, use `ser.iloc[pos]`\n",
      "  intercept_parameter = self.model.params[0]\n",
      "C:\\Users\\Fidelis\\anaconda3\\Lib\\site-packages\\dowhy\\causal_estimators\\regression_estimator.py:179: FutureWarning: Series.__getitem__ treating keys as positions is deprecated. In a future version, integer keys will always be treated as labels (consistent with DataFrame behavior). To access a value by position, use `ser.iloc[pos]`\n",
      "  intercept_parameter = self.model.params[0]\n",
      "C:\\Users\\Fidelis\\anaconda3\\Lib\\site-packages\\dowhy\\causal_estimators\\regression_estimator.py:179: FutureWarning: Series.__getitem__ treating keys as positions is deprecated. In a future version, integer keys will always be treated as labels (consistent with DataFrame behavior). To access a value by position, use `ser.iloc[pos]`\n",
      "  intercept_parameter = self.model.params[0]\n",
      "C:\\Users\\Fidelis\\anaconda3\\Lib\\site-packages\\dowhy\\causal_estimators\\regression_estimator.py:179: FutureWarning: Series.__getitem__ treating keys as positions is deprecated. In a future version, integer keys will always be treated as labels (consistent with DataFrame behavior). To access a value by position, use `ser.iloc[pos]`\n",
      "  intercept_parameter = self.model.params[0]\n",
      "C:\\Users\\Fidelis\\anaconda3\\Lib\\site-packages\\dowhy\\causal_estimators\\regression_estimator.py:179: FutureWarning: Series.__getitem__ treating keys as positions is deprecated. In a future version, integer keys will always be treated as labels (consistent with DataFrame behavior). To access a value by position, use `ser.iloc[pos]`\n",
      "  intercept_parameter = self.model.params[0]\n",
      "C:\\Users\\Fidelis\\anaconda3\\Lib\\site-packages\\dowhy\\causal_estimators\\regression_estimator.py:179: FutureWarning: Series.__getitem__ treating keys as positions is deprecated. In a future version, integer keys will always be treated as labels (consistent with DataFrame behavior). To access a value by position, use `ser.iloc[pos]`\n",
      "  intercept_parameter = self.model.params[0]\n",
      "C:\\Users\\Fidelis\\anaconda3\\Lib\\site-packages\\dowhy\\causal_estimators\\regression_estimator.py:179: FutureWarning: Series.__getitem__ treating keys as positions is deprecated. In a future version, integer keys will always be treated as labels (consistent with DataFrame behavior). To access a value by position, use `ser.iloc[pos]`\n",
      "  intercept_parameter = self.model.params[0]\n",
      "C:\\Users\\Fidelis\\anaconda3\\Lib\\site-packages\\dowhy\\causal_estimators\\regression_estimator.py:179: FutureWarning: Series.__getitem__ treating keys as positions is deprecated. In a future version, integer keys will always be treated as labels (consistent with DataFrame behavior). To access a value by position, use `ser.iloc[pos]`\n",
      "  intercept_parameter = self.model.params[0]\n",
      "C:\\Users\\Fidelis\\anaconda3\\Lib\\site-packages\\dowhy\\causal_estimators\\regression_estimator.py:179: FutureWarning: Series.__getitem__ treating keys as positions is deprecated. In a future version, integer keys will always be treated as labels (consistent with DataFrame behavior). To access a value by position, use `ser.iloc[pos]`\n",
      "  intercept_parameter = self.model.params[0]\n",
      "C:\\Users\\Fidelis\\anaconda3\\Lib\\site-packages\\dowhy\\causal_estimators\\regression_estimator.py:179: FutureWarning: Series.__getitem__ treating keys as positions is deprecated. In a future version, integer keys will always be treated as labels (consistent with DataFrame behavior). To access a value by position, use `ser.iloc[pos]`\n",
      "  intercept_parameter = self.model.params[0]\n",
      "C:\\Users\\Fidelis\\anaconda3\\Lib\\site-packages\\dowhy\\causal_estimators\\regression_estimator.py:179: FutureWarning: Series.__getitem__ treating keys as positions is deprecated. In a future version, integer keys will always be treated as labels (consistent with DataFrame behavior). To access a value by position, use `ser.iloc[pos]`\n",
      "  intercept_parameter = self.model.params[0]\n",
      "C:\\Users\\Fidelis\\anaconda3\\Lib\\site-packages\\dowhy\\causal_estimators\\regression_estimator.py:179: FutureWarning: Series.__getitem__ treating keys as positions is deprecated. In a future version, integer keys will always be treated as labels (consistent with DataFrame behavior). To access a value by position, use `ser.iloc[pos]`\n",
      "  intercept_parameter = self.model.params[0]\n",
      "C:\\Users\\Fidelis\\anaconda3\\Lib\\site-packages\\dowhy\\causal_estimators\\regression_estimator.py:179: FutureWarning: Series.__getitem__ treating keys as positions is deprecated. In a future version, integer keys will always be treated as labels (consistent with DataFrame behavior). To access a value by position, use `ser.iloc[pos]`\n",
      "  intercept_parameter = self.model.params[0]\n",
      "C:\\Users\\Fidelis\\anaconda3\\Lib\\site-packages\\dowhy\\causal_estimators\\regression_estimator.py:179: FutureWarning: Series.__getitem__ treating keys as positions is deprecated. In a future version, integer keys will always be treated as labels (consistent with DataFrame behavior). To access a value by position, use `ser.iloc[pos]`\n",
      "  intercept_parameter = self.model.params[0]\n",
      "C:\\Users\\Fidelis\\anaconda3\\Lib\\site-packages\\dowhy\\causal_estimators\\regression_estimator.py:179: FutureWarning: Series.__getitem__ treating keys as positions is deprecated. In a future version, integer keys will always be treated as labels (consistent with DataFrame behavior). To access a value by position, use `ser.iloc[pos]`\n",
      "  intercept_parameter = self.model.params[0]\n",
      "C:\\Users\\Fidelis\\anaconda3\\Lib\\site-packages\\dowhy\\causal_estimators\\regression_estimator.py:179: FutureWarning: Series.__getitem__ treating keys as positions is deprecated. In a future version, integer keys will always be treated as labels (consistent with DataFrame behavior). To access a value by position, use `ser.iloc[pos]`\n",
      "  intercept_parameter = self.model.params[0]\n",
      "C:\\Users\\Fidelis\\anaconda3\\Lib\\site-packages\\dowhy\\causal_estimators\\regression_estimator.py:179: FutureWarning: Series.__getitem__ treating keys as positions is deprecated. In a future version, integer keys will always be treated as labels (consistent with DataFrame behavior). To access a value by position, use `ser.iloc[pos]`\n",
      "  intercept_parameter = self.model.params[0]\n",
      "C:\\Users\\Fidelis\\anaconda3\\Lib\\site-packages\\dowhy\\causal_estimators\\regression_estimator.py:179: FutureWarning: Series.__getitem__ treating keys as positions is deprecated. In a future version, integer keys will always be treated as labels (consistent with DataFrame behavior). To access a value by position, use `ser.iloc[pos]`\n",
      "  intercept_parameter = self.model.params[0]\n",
      "C:\\Users\\Fidelis\\anaconda3\\Lib\\site-packages\\dowhy\\causal_estimators\\regression_estimator.py:179: FutureWarning: Series.__getitem__ treating keys as positions is deprecated. In a future version, integer keys will always be treated as labels (consistent with DataFrame behavior). To access a value by position, use `ser.iloc[pos]`\n",
      "  intercept_parameter = self.model.params[0]\n",
      "C:\\Users\\Fidelis\\anaconda3\\Lib\\site-packages\\dowhy\\causal_estimators\\regression_estimator.py:179: FutureWarning: Series.__getitem__ treating keys as positions is deprecated. In a future version, integer keys will always be treated as labels (consistent with DataFrame behavior). To access a value by position, use `ser.iloc[pos]`\n",
      "  intercept_parameter = self.model.params[0]\n",
      "C:\\Users\\Fidelis\\anaconda3\\Lib\\site-packages\\dowhy\\causal_estimators\\regression_estimator.py:179: FutureWarning: Series.__getitem__ treating keys as positions is deprecated. In a future version, integer keys will always be treated as labels (consistent with DataFrame behavior). To access a value by position, use `ser.iloc[pos]`\n",
      "  intercept_parameter = self.model.params[0]\n",
      "C:\\Users\\Fidelis\\anaconda3\\Lib\\site-packages\\dowhy\\causal_estimators\\regression_estimator.py:179: FutureWarning: Series.__getitem__ treating keys as positions is deprecated. In a future version, integer keys will always be treated as labels (consistent with DataFrame behavior). To access a value by position, use `ser.iloc[pos]`\n",
      "  intercept_parameter = self.model.params[0]\n",
      "C:\\Users\\Fidelis\\anaconda3\\Lib\\site-packages\\dowhy\\causal_estimators\\regression_estimator.py:179: FutureWarning: Series.__getitem__ treating keys as positions is deprecated. In a future version, integer keys will always be treated as labels (consistent with DataFrame behavior). To access a value by position, use `ser.iloc[pos]`\n",
      "  intercept_parameter = self.model.params[0]\n",
      "C:\\Users\\Fidelis\\anaconda3\\Lib\\site-packages\\dowhy\\causal_estimators\\regression_estimator.py:179: FutureWarning: Series.__getitem__ treating keys as positions is deprecated. In a future version, integer keys will always be treated as labels (consistent with DataFrame behavior). To access a value by position, use `ser.iloc[pos]`\n",
      "  intercept_parameter = self.model.params[0]\n",
      "C:\\Users\\Fidelis\\anaconda3\\Lib\\site-packages\\dowhy\\causal_estimators\\regression_estimator.py:179: FutureWarning: Series.__getitem__ treating keys as positions is deprecated. In a future version, integer keys will always be treated as labels (consistent with DataFrame behavior). To access a value by position, use `ser.iloc[pos]`\n",
      "  intercept_parameter = self.model.params[0]\n",
      "C:\\Users\\Fidelis\\anaconda3\\Lib\\site-packages\\dowhy\\causal_estimators\\regression_estimator.py:179: FutureWarning: Series.__getitem__ treating keys as positions is deprecated. In a future version, integer keys will always be treated as labels (consistent with DataFrame behavior). To access a value by position, use `ser.iloc[pos]`\n",
      "  intercept_parameter = self.model.params[0]\n",
      "C:\\Users\\Fidelis\\anaconda3\\Lib\\site-packages\\dowhy\\causal_estimators\\regression_estimator.py:179: FutureWarning: Series.__getitem__ treating keys as positions is deprecated. In a future version, integer keys will always be treated as labels (consistent with DataFrame behavior). To access a value by position, use `ser.iloc[pos]`\n",
      "  intercept_parameter = self.model.params[0]\n",
      "C:\\Users\\Fidelis\\anaconda3\\Lib\\site-packages\\dowhy\\causal_estimators\\regression_estimator.py:179: FutureWarning: Series.__getitem__ treating keys as positions is deprecated. In a future version, integer keys will always be treated as labels (consistent with DataFrame behavior). To access a value by position, use `ser.iloc[pos]`\n",
      "  intercept_parameter = self.model.params[0]\n",
      "C:\\Users\\Fidelis\\anaconda3\\Lib\\site-packages\\dowhy\\causal_estimators\\regression_estimator.py:179: FutureWarning: Series.__getitem__ treating keys as positions is deprecated. In a future version, integer keys will always be treated as labels (consistent with DataFrame behavior). To access a value by position, use `ser.iloc[pos]`\n",
      "  intercept_parameter = self.model.params[0]\n",
      "C:\\Users\\Fidelis\\anaconda3\\Lib\\site-packages\\dowhy\\causal_estimators\\regression_estimator.py:179: FutureWarning: Series.__getitem__ treating keys as positions is deprecated. In a future version, integer keys will always be treated as labels (consistent with DataFrame behavior). To access a value by position, use `ser.iloc[pos]`\n",
      "  intercept_parameter = self.model.params[0]\n",
      "C:\\Users\\Fidelis\\anaconda3\\Lib\\site-packages\\dowhy\\causal_estimators\\regression_estimator.py:179: FutureWarning: Series.__getitem__ treating keys as positions is deprecated. In a future version, integer keys will always be treated as labels (consistent with DataFrame behavior). To access a value by position, use `ser.iloc[pos]`\n",
      "  intercept_parameter = self.model.params[0]\n",
      "C:\\Users\\Fidelis\\anaconda3\\Lib\\site-packages\\dowhy\\causal_estimators\\regression_estimator.py:179: FutureWarning: Series.__getitem__ treating keys as positions is deprecated. In a future version, integer keys will always be treated as labels (consistent with DataFrame behavior). To access a value by position, use `ser.iloc[pos]`\n",
      "  intercept_parameter = self.model.params[0]\n",
      "C:\\Users\\Fidelis\\anaconda3\\Lib\\site-packages\\dowhy\\causal_estimators\\regression_estimator.py:179: FutureWarning: Series.__getitem__ treating keys as positions is deprecated. In a future version, integer keys will always be treated as labels (consistent with DataFrame behavior). To access a value by position, use `ser.iloc[pos]`\n",
      "  intercept_parameter = self.model.params[0]\n",
      "C:\\Users\\Fidelis\\anaconda3\\Lib\\site-packages\\dowhy\\causal_estimators\\regression_estimator.py:179: FutureWarning: Series.__getitem__ treating keys as positions is deprecated. In a future version, integer keys will always be treated as labels (consistent with DataFrame behavior). To access a value by position, use `ser.iloc[pos]`\n",
      "  intercept_parameter = self.model.params[0]\n",
      "C:\\Users\\Fidelis\\anaconda3\\Lib\\site-packages\\dowhy\\causal_estimators\\regression_estimator.py:179: FutureWarning: Series.__getitem__ treating keys as positions is deprecated. In a future version, integer keys will always be treated as labels (consistent with DataFrame behavior). To access a value by position, use `ser.iloc[pos]`\n",
      "  intercept_parameter = self.model.params[0]\n",
      "C:\\Users\\Fidelis\\anaconda3\\Lib\\site-packages\\dowhy\\causal_estimators\\regression_estimator.py:179: FutureWarning: Series.__getitem__ treating keys as positions is deprecated. In a future version, integer keys will always be treated as labels (consistent with DataFrame behavior). To access a value by position, use `ser.iloc[pos]`\n",
      "  intercept_parameter = self.model.params[0]\n",
      "C:\\Users\\Fidelis\\anaconda3\\Lib\\site-packages\\dowhy\\causal_estimators\\regression_estimator.py:179: FutureWarning: Series.__getitem__ treating keys as positions is deprecated. In a future version, integer keys will always be treated as labels (consistent with DataFrame behavior). To access a value by position, use `ser.iloc[pos]`\n",
      "  intercept_parameter = self.model.params[0]\n",
      "C:\\Users\\Fidelis\\anaconda3\\Lib\\site-packages\\dowhy\\causal_estimators\\regression_estimator.py:179: FutureWarning: Series.__getitem__ treating keys as positions is deprecated. In a future version, integer keys will always be treated as labels (consistent with DataFrame behavior). To access a value by position, use `ser.iloc[pos]`\n",
      "  intercept_parameter = self.model.params[0]\n",
      "C:\\Users\\Fidelis\\anaconda3\\Lib\\site-packages\\dowhy\\causal_estimators\\regression_estimator.py:179: FutureWarning: Series.__getitem__ treating keys as positions is deprecated. In a future version, integer keys will always be treated as labels (consistent with DataFrame behavior). To access a value by position, use `ser.iloc[pos]`\n",
      "  intercept_parameter = self.model.params[0]\n",
      "C:\\Users\\Fidelis\\anaconda3\\Lib\\site-packages\\dowhy\\causal_estimators\\regression_estimator.py:179: FutureWarning: Series.__getitem__ treating keys as positions is deprecated. In a future version, integer keys will always be treated as labels (consistent with DataFrame behavior). To access a value by position, use `ser.iloc[pos]`\n",
      "  intercept_parameter = self.model.params[0]\n",
      "C:\\Users\\Fidelis\\anaconda3\\Lib\\site-packages\\dowhy\\causal_estimators\\regression_estimator.py:179: FutureWarning: Series.__getitem__ treating keys as positions is deprecated. In a future version, integer keys will always be treated as labels (consistent with DataFrame behavior). To access a value by position, use `ser.iloc[pos]`\n",
      "  intercept_parameter = self.model.params[0]\n",
      "C:\\Users\\Fidelis\\anaconda3\\Lib\\site-packages\\dowhy\\causal_estimators\\regression_estimator.py:179: FutureWarning: Series.__getitem__ treating keys as positions is deprecated. In a future version, integer keys will always be treated as labels (consistent with DataFrame behavior). To access a value by position, use `ser.iloc[pos]`\n",
      "  intercept_parameter = self.model.params[0]\n",
      "C:\\Users\\Fidelis\\anaconda3\\Lib\\site-packages\\dowhy\\causal_estimators\\regression_estimator.py:179: FutureWarning: Series.__getitem__ treating keys as positions is deprecated. In a future version, integer keys will always be treated as labels (consistent with DataFrame behavior). To access a value by position, use `ser.iloc[pos]`\n",
      "  intercept_parameter = self.model.params[0]\n",
      "C:\\Users\\Fidelis\\anaconda3\\Lib\\site-packages\\dowhy\\causal_estimators\\regression_estimator.py:179: FutureWarning: Series.__getitem__ treating keys as positions is deprecated. In a future version, integer keys will always be treated as labels (consistent with DataFrame behavior). To access a value by position, use `ser.iloc[pos]`\n",
      "  intercept_parameter = self.model.params[0]\n",
      "C:\\Users\\Fidelis\\anaconda3\\Lib\\site-packages\\dowhy\\causal_estimators\\regression_estimator.py:179: FutureWarning: Series.__getitem__ treating keys as positions is deprecated. In a future version, integer keys will always be treated as labels (consistent with DataFrame behavior). To access a value by position, use `ser.iloc[pos]`\n",
      "  intercept_parameter = self.model.params[0]\n",
      "C:\\Users\\Fidelis\\anaconda3\\Lib\\site-packages\\dowhy\\causal_estimators\\regression_estimator.py:179: FutureWarning: Series.__getitem__ treating keys as positions is deprecated. In a future version, integer keys will always be treated as labels (consistent with DataFrame behavior). To access a value by position, use `ser.iloc[pos]`\n",
      "  intercept_parameter = self.model.params[0]\n",
      "C:\\Users\\Fidelis\\anaconda3\\Lib\\site-packages\\dowhy\\causal_estimators\\regression_estimator.py:179: FutureWarning: Series.__getitem__ treating keys as positions is deprecated. In a future version, integer keys will always be treated as labels (consistent with DataFrame behavior). To access a value by position, use `ser.iloc[pos]`\n",
      "  intercept_parameter = self.model.params[0]\n",
      "C:\\Users\\Fidelis\\anaconda3\\Lib\\site-packages\\dowhy\\causal_estimators\\regression_estimator.py:179: FutureWarning: Series.__getitem__ treating keys as positions is deprecated. In a future version, integer keys will always be treated as labels (consistent with DataFrame behavior). To access a value by position, use `ser.iloc[pos]`\n",
      "  intercept_parameter = self.model.params[0]\n",
      "C:\\Users\\Fidelis\\anaconda3\\Lib\\site-packages\\dowhy\\causal_estimators\\regression_estimator.py:179: FutureWarning: Series.__getitem__ treating keys as positions is deprecated. In a future version, integer keys will always be treated as labels (consistent with DataFrame behavior). To access a value by position, use `ser.iloc[pos]`\n",
      "  intercept_parameter = self.model.params[0]\n",
      "C:\\Users\\Fidelis\\anaconda3\\Lib\\site-packages\\dowhy\\causal_estimators\\regression_estimator.py:179: FutureWarning: Series.__getitem__ treating keys as positions is deprecated. In a future version, integer keys will always be treated as labels (consistent with DataFrame behavior). To access a value by position, use `ser.iloc[pos]`\n",
      "  intercept_parameter = self.model.params[0]\n",
      "C:\\Users\\Fidelis\\anaconda3\\Lib\\site-packages\\dowhy\\causal_estimators\\regression_estimator.py:179: FutureWarning: Series.__getitem__ treating keys as positions is deprecated. In a future version, integer keys will always be treated as labels (consistent with DataFrame behavior). To access a value by position, use `ser.iloc[pos]`\n",
      "  intercept_parameter = self.model.params[0]\n",
      "C:\\Users\\Fidelis\\anaconda3\\Lib\\site-packages\\dowhy\\causal_estimators\\regression_estimator.py:179: FutureWarning: Series.__getitem__ treating keys as positions is deprecated. In a future version, integer keys will always be treated as labels (consistent with DataFrame behavior). To access a value by position, use `ser.iloc[pos]`\n",
      "  intercept_parameter = self.model.params[0]\n",
      "C:\\Users\\Fidelis\\anaconda3\\Lib\\site-packages\\dowhy\\causal_estimators\\regression_estimator.py:179: FutureWarning: Series.__getitem__ treating keys as positions is deprecated. In a future version, integer keys will always be treated as labels (consistent with DataFrame behavior). To access a value by position, use `ser.iloc[pos]`\n",
      "  intercept_parameter = self.model.params[0]\n",
      "C:\\Users\\Fidelis\\anaconda3\\Lib\\site-packages\\dowhy\\causal_estimators\\regression_estimator.py:179: FutureWarning: Series.__getitem__ treating keys as positions is deprecated. In a future version, integer keys will always be treated as labels (consistent with DataFrame behavior). To access a value by position, use `ser.iloc[pos]`\n",
      "  intercept_parameter = self.model.params[0]\n",
      "C:\\Users\\Fidelis\\anaconda3\\Lib\\site-packages\\dowhy\\causal_estimators\\regression_estimator.py:179: FutureWarning: Series.__getitem__ treating keys as positions is deprecated. In a future version, integer keys will always be treated as labels (consistent with DataFrame behavior). To access a value by position, use `ser.iloc[pos]`\n",
      "  intercept_parameter = self.model.params[0]\n",
      "C:\\Users\\Fidelis\\anaconda3\\Lib\\site-packages\\dowhy\\causal_estimators\\regression_estimator.py:179: FutureWarning: Series.__getitem__ treating keys as positions is deprecated. In a future version, integer keys will always be treated as labels (consistent with DataFrame behavior). To access a value by position, use `ser.iloc[pos]`\n",
      "  intercept_parameter = self.model.params[0]\n",
      "C:\\Users\\Fidelis\\anaconda3\\Lib\\site-packages\\dowhy\\causal_estimators\\regression_estimator.py:179: FutureWarning: Series.__getitem__ treating keys as positions is deprecated. In a future version, integer keys will always be treated as labels (consistent with DataFrame behavior). To access a value by position, use `ser.iloc[pos]`\n",
      "  intercept_parameter = self.model.params[0]\n",
      "C:\\Users\\Fidelis\\anaconda3\\Lib\\site-packages\\dowhy\\causal_estimators\\regression_estimator.py:179: FutureWarning: Series.__getitem__ treating keys as positions is deprecated. In a future version, integer keys will always be treated as labels (consistent with DataFrame behavior). To access a value by position, use `ser.iloc[pos]`\n",
      "  intercept_parameter = self.model.params[0]\n",
      "C:\\Users\\Fidelis\\anaconda3\\Lib\\site-packages\\dowhy\\causal_estimators\\regression_estimator.py:179: FutureWarning: Series.__getitem__ treating keys as positions is deprecated. In a future version, integer keys will always be treated as labels (consistent with DataFrame behavior). To access a value by position, use `ser.iloc[pos]`\n",
      "  intercept_parameter = self.model.params[0]\n",
      "C:\\Users\\Fidelis\\anaconda3\\Lib\\site-packages\\dowhy\\causal_estimators\\regression_estimator.py:179: FutureWarning: Series.__getitem__ treating keys as positions is deprecated. In a future version, integer keys will always be treated as labels (consistent with DataFrame behavior). To access a value by position, use `ser.iloc[pos]`\n",
      "  intercept_parameter = self.model.params[0]\n",
      "C:\\Users\\Fidelis\\anaconda3\\Lib\\site-packages\\dowhy\\causal_estimators\\regression_estimator.py:179: FutureWarning: Series.__getitem__ treating keys as positions is deprecated. In a future version, integer keys will always be treated as labels (consistent with DataFrame behavior). To access a value by position, use `ser.iloc[pos]`\n",
      "  intercept_parameter = self.model.params[0]\n",
      "C:\\Users\\Fidelis\\anaconda3\\Lib\\site-packages\\dowhy\\causal_estimators\\regression_estimator.py:179: FutureWarning: Series.__getitem__ treating keys as positions is deprecated. In a future version, integer keys will always be treated as labels (consistent with DataFrame behavior). To access a value by position, use `ser.iloc[pos]`\n",
      "  intercept_parameter = self.model.params[0]\n",
      "C:\\Users\\Fidelis\\anaconda3\\Lib\\site-packages\\dowhy\\causal_estimators\\regression_estimator.py:179: FutureWarning: Series.__getitem__ treating keys as positions is deprecated. In a future version, integer keys will always be treated as labels (consistent with DataFrame behavior). To access a value by position, use `ser.iloc[pos]`\n",
      "  intercept_parameter = self.model.params[0]\n",
      "C:\\Users\\Fidelis\\anaconda3\\Lib\\site-packages\\dowhy\\causal_estimators\\regression_estimator.py:179: FutureWarning: Series.__getitem__ treating keys as positions is deprecated. In a future version, integer keys will always be treated as labels (consistent with DataFrame behavior). To access a value by position, use `ser.iloc[pos]`\n",
      "  intercept_parameter = self.model.params[0]\n",
      "C:\\Users\\Fidelis\\anaconda3\\Lib\\site-packages\\dowhy\\causal_estimators\\regression_estimator.py:179: FutureWarning: Series.__getitem__ treating keys as positions is deprecated. In a future version, integer keys will always be treated as labels (consistent with DataFrame behavior). To access a value by position, use `ser.iloc[pos]`\n",
      "  intercept_parameter = self.model.params[0]\n",
      "C:\\Users\\Fidelis\\anaconda3\\Lib\\site-packages\\dowhy\\causal_estimators\\regression_estimator.py:179: FutureWarning: Series.__getitem__ treating keys as positions is deprecated. In a future version, integer keys will always be treated as labels (consistent with DataFrame behavior). To access a value by position, use `ser.iloc[pos]`\n",
      "  intercept_parameter = self.model.params[0]\n",
      "C:\\Users\\Fidelis\\anaconda3\\Lib\\site-packages\\dowhy\\causal_estimators\\regression_estimator.py:179: FutureWarning: Series.__getitem__ treating keys as positions is deprecated. In a future version, integer keys will always be treated as labels (consistent with DataFrame behavior). To access a value by position, use `ser.iloc[pos]`\n",
      "  intercept_parameter = self.model.params[0]\n"
     ]
    }
   ],
   "source": [
    "#Refute Estimate\n",
    "refute_plecibo_treatment_disc=model_disc.refute_estimate(estimand_disc,estimate_disc,\n",
    "                                         method_name=\"placebo_treatment_refuter\",\n",
    "                                         plecebo_type=\"permute\")\n",
    "refute_plecibo_treatment_comm=model_comm.refute_estimate(estimand_comm,estimate_comm,\n",
    "                                         method_name=\"placebo_treatment_refuter\",\n",
    "                                         plecebo_type=\"permute\")"
   ]
  },
  {
   "cell_type": "code",
   "execution_count": 167,
   "id": "e9b59e25-e7f5-4a91-be31-edc532ed22b7",
   "metadata": {},
   "outputs": [
    {
     "name": "stdout",
     "output_type": "stream",
     "text": [
      "Refute: Use a Placebo Treatment\n",
      "Estimated effect:-8.296090142492403\n",
      "New effect:-4.604316927725449e-11\n",
      "p value:0.0\n",
      "\n"
     ]
    }
   ],
   "source": [
    "print(refute_plecibo_treatment_disc)"
   ]
  },
  {
   "cell_type": "code",
   "execution_count": 168,
   "id": "461a916c-6ede-40cb-9310-1ec50d8066a0",
   "metadata": {},
   "outputs": [
    {
     "name": "stdout",
     "output_type": "stream",
     "text": [
      "Refute: Use a Placebo Treatment\n",
      "Estimated effect:0.0\n",
      "New effect:-1.1368683772161603e-15\n",
      "p value:0.99\n",
      "\n"
     ]
    }
   ],
   "source": [
    "print(refute_plecibo_treatment_comm)"
   ]
  },
  {
   "cell_type": "code",
   "execution_count": 169,
   "id": "a37242d6-2ff4-4485-ab80-0562f8602527",
   "metadata": {},
   "outputs": [
    {
     "name": "stdout",
     "output_type": "stream",
     "text": [
      "Increasing the treatment variable(s) [perc_discount] from 0 to 1 causes an increase of -8.296090142492403 in the expected value of the outcome [['profit']], over the data distribution/population represented by the dataset.\n"
     ]
    }
   ],
   "source": [
    "estimate_disc.interpret()"
   ]
  },
  {
   "cell_type": "code",
   "execution_count": 170,
   "id": "88e8a98c-1449-4f56-ba2b-997b2847a6ce",
   "metadata": {},
   "outputs": [
    {
     "name": "stdout",
     "output_type": "stream",
     "text": [
      "Increasing the treatment variable(s) [commission_fee] from 0 to 1 causes an increase of 0.0 in the expected value of the outcome [['profit']], over the data distribution/population represented by the dataset.\n"
     ]
    }
   ],
   "source": [
    "estimate_comm.interpret()"
   ]
  },
  {
   "cell_type": "markdown",
   "id": "4926d3d5-880f-4a62-ac45-f1bae9f2288b",
   "metadata": {},
   "source": [
    "**Qn6. Find the most common delivery method. What is the proportion of the most common delivery method?**"
   ]
  },
  {
   "cell_type": "code",
   "execution_count": 186,
   "id": "aced8faa-9616-4b54-bdb1-393335e720ca",
   "metadata": {},
   "outputs": [
    {
     "data": {
      "text/plain": [
       "payment_method\n",
       "Cash on Delivery    35.7\n",
       "Credit Card         33.7\n",
       "Digital Wallet      30.6\n",
       "Name: count, dtype: float64"
      ]
     },
     "execution_count": 186,
     "metadata": {},
     "output_type": "execute_result"
    }
   ],
   "source": [
    "sum_=food_df_sorted['payment_method'].value_counts().values.sum()\n",
    "food_df_sorted['payment_method'].value_counts().apply(lambda x:x*100/sum_)"
   ]
  },
  {
   "cell_type": "markdown",
   "id": "7a384b99-9e02-4430-8a71-5e7c82296763",
   "metadata": {},
   "source": [
    "The most common is Cash on delivery with a percentage of 35.7%"
   ]
  },
  {
   "cell_type": "markdown",
   "id": "b67fa249-de63-4e2b-b169-f0b1b9de458f",
   "metadata": {},
   "source": [
    "**Qn7. Find 95% confidence interval of the proportion of the most common delivery method**"
   ]
  },
  {
   "cell_type": "code",
   "execution_count": 198,
   "id": "98854ef0-7d2f-42dd-8250-181a88dc7606",
   "metadata": {},
   "outputs": [
    {
     "name": "stdout",
     "output_type": "stream",
     "text": [
      "(0.33, 0.39)\n"
     ]
    }
   ],
   "source": [
    "prop_most_com=food_df_sorted['payment_method'].value_counts().apply(lambda x:x/sum_).values[0]\n",
    "sample_size=sum_\n",
    "alpha_half=0.025\n",
    "z_alpha_half=stats.norm.ppf(1-alpha_half)\n",
    "stdev_=np.sqrt((prop_most_com)*(1-prop_most_com)/sample_size)\n",
    "error_margin=z_alpha_half*stdev_\n",
    "conf_int=(round(prop_most_com-error_margin,2), round(prop_most_com+error_margin,2))\n",
    "print(conf_int)"
   ]
  },
  {
   "cell_type": "markdown",
   "id": "a9c1c0a2-b2b2-4224-882e-9bad8df1c50e",
   "metadata": {},
   "source": [
    "**Qn8. Determine the average and the median commission fee.**"
   ]
  },
  {
   "cell_type": "code",
   "execution_count": 202,
   "id": "a1be5e96-5a31-41d5-9b90-21f63f8cd996",
   "metadata": {},
   "outputs": [
    {
     "name": "stdout",
     "output_type": "stream",
     "text": [
      "mean of the commission fee is 126.99 \n",
      "median of the commision fee is 127.0\n"
     ]
    }
   ],
   "source": [
    "mean=food_df_sorted['commission_fee'].mean()\n",
    "median=food_df_sorted['commission_fee'].median()\n",
    "print('mean of the commission fee is {} \\nmedian of the commision fee is {}'.format(mean,median))"
   ]
  },
  {
   "cell_type": "markdown",
   "id": "8be3149e-e409-4919-840b-c382fb1e40b3",
   "metadata": {},
   "source": [
    "**Qn9.Find the average order value of the customer**"
   ]
  },
  {
   "cell_type": "code",
   "execution_count": 204,
   "id": "f5540cd3-832b-475f-87d7-e6d6a70c606a",
   "metadata": {},
   "outputs": [
    {
     "name": "stdout",
     "output_type": "stream",
     "text": [
      "mean of the order value fee is 126.99\n"
     ]
    }
   ],
   "source": [
    "ave=food_df_sorted['order_value'].mean()\n",
    "print('mean of the order value fee is {}'.format(mean))"
   ]
  },
  {
   "cell_type": "markdown",
   "id": "4a7f4962-4b99-47f9-b290-e4121aad91cc",
   "metadata": {},
   "source": [
    "**Qn10. Find the probability that a commission fee is**\n",
    "\ti). More than 120\n",
    "\tii). Less than 143\n",
    "\tiii). Between 86 and 133 **"
   ]
  },
  {
   "cell_type": "code",
   "execution_count": 213,
   "id": "ed45c1b1-429d-49ec-8ec6-a27ddeff7182",
   "metadata": {},
   "outputs": [
    {
     "name": "stdout",
     "output_type": "stream",
     "text": [
      "prob_more_120 = 0.56 \n",
      "prob_less_143= 0.64 \n",
      "prob_btn_86_133= 0.38\n"
     ]
    }
   ],
   "source": [
    "mean_comm=food_df_sorted['commission_fee'].mean()\n",
    "std_comm=food_df_sorted['commission_fee'].std()\n",
    "def prob_less_than(number):\n",
    "    \"\"\"\n",
    "    The function computes the probability using the standard normal distribution.\n",
    "    arguement: row value\n",
    "    output: Probability that a number choisen is less than the row value\n",
    "    \"\"\"\n",
    "    z_score=(number-mean_comm)/std_comm\n",
    "    prob_less=stats.norm.cdf(z_score)\n",
    "    return prob_less\n",
    "    \n",
    "prob_more_120=1 - prob_less_than(120)\n",
    "prob_less_143=prob_less_than(143)\n",
    "prob_btn_86_133=prob_less_than(133)-prob_less_than(86)\n",
    "print('prob_more_120 = {} \\nprob_less_143= {} \\nprob_btn_86_133= {}'.format(round(prob_more_120,2),round(prob_less_143,2),round(prob_btn_86_133,2)))"
   ]
  },
  {
   "cell_type": "markdown",
   "id": "fd4e9053-38ad-4728-ba6e-2376ff379b0f",
   "metadata": {},
   "source": [
    "**Qn11 Fine the average delivery time of the orders done by the credit card**"
   ]
  },
  {
   "cell_type": "code",
   "execution_count": 222,
   "id": "4568ee36-27b1-4552-aadb-206a472bb25c",
   "metadata": {},
   "outputs": [
    {
     "name": "stdout",
     "output_type": "stream",
     "text": [
      "Average delivery time of the orders done by the credit card is 74.01\n"
     ]
    }
   ],
   "source": [
    "av_del_cd=food_df_sorted[food_df_sorted['payment_method']=='Credit Card']['time_def'].mean().round(2)\n",
    "print('Average delivery time of the orders done by the credit card is {}'.format(av_del_cd))"
   ]
  },
  {
   "cell_type": "markdown",
   "id": "254f8e04-d56e-4f1b-928d-1a0460c4ea13",
   "metadata": {},
   "source": [
    "**Qn12. What is the lowest order value of 10%-largest orders done by Cash on delivery?**"
   ]
  },
  {
   "cell_type": "code",
   "execution_count": 231,
   "id": "10f5dd97-45fd-47b6-b385-452cffd8f516",
   "metadata": {},
   "outputs": [
    {
     "name": "stdout",
     "output_type": "stream",
     "text": [
      "lowest order value of 10%-largest orders done by Cash on delivery is 1802.4\n"
     ]
    }
   ],
   "source": [
    "#This order is the 90% percentile of the orders by Cash on delivery done.\n",
    "orders_by_cash_on_del=food_df_sorted[food_df_sorted['payment_method']==\"Cash on Delivery\"]['order_value']\n",
    "val=np.percentile(orders_by_cash_on_del,90)\n",
    "print('lowest order value of 10%-largest orders done by Cash on delivery is {}'.format(round(val,2)))"
   ]
  },
  {
   "cell_type": "markdown",
   "id": "34684ad9-b799-4406-ba50-445d53dcd65e",
   "metadata": {},
   "source": [
    "**Qn13. What is the highest order value of 60% least orders done by Digital Wallet?**"
   ]
  },
  {
   "cell_type": "code",
   "execution_count": 236,
   "id": "af5bd102-6101-49df-8a2a-918a39c3a602",
   "metadata": {},
   "outputs": [
    {
     "name": "stdout",
     "output_type": "stream",
     "text": [
      "highest order value of 60% least orders done by Digital Wallet is 1187.0\n"
     ]
    }
   ],
   "source": [
    "#This order is the 60% percentile of the orders by Digital Wallet done.\n",
    "orders_by_Dig_wall=food_df_sorted[food_df_sorted['payment_method']=='Digital Wallet']['order_value']\n",
    "val2=np.percentile(orders_by_Dig_wall,60)\n",
    "print('highest order value of 60% least orders done by Digital Wallet is {}'.format(round(val2,2)))"
   ]
  },
  {
   "cell_type": "markdown",
   "id": "32097ac7-1dec-4c18-83b2-8d35a6a0b9b1",
   "metadata": {},
   "source": [
    "**Qn14.By what amount of order value is the mean value by Digital Wallet more or less than that of Cash on delivery?**"
   ]
  },
  {
   "cell_type": "code",
   "execution_count": 249,
   "id": "4ea899e5-e40f-4623-9171-f5b7d4a2bb3e",
   "metadata": {},
   "outputs": [
    {
     "name": "stdout",
     "output_type": "stream",
     "text": [
      "The difference is 9.98\n"
     ]
    }
   ],
   "source": [
    "mean_digital=food_df_sorted[food_df_sorted['payment_method']=='Digital Wallet']['order_value'].mean()\n",
    "mean_cash_on_del=food_df_sorted[food_df_sorted['payment_method']=='Cash on Delivery']['order_value'].mean()\n",
    "diff=round(abs(mean_digital-mean_cash_on_del),2)\n",
    "print('The difference is {}'.format(diff))"
   ]
  },
  {
   "cell_type": "code",
   "execution_count": 241,
   "id": "74871f3b-38ca-41da-965f-5751919ff580",
   "metadata": {},
   "outputs": [
    {
     "data": {
      "text/plain": [
       "payment_method\n",
       "Cash on Delivery    357\n",
       "Credit Card         337\n",
       "Digital Wallet      306\n",
       "Name: count, dtype: int64"
      ]
     },
     "execution_count": 241,
     "metadata": {},
     "output_type": "execute_result"
    }
   ],
   "source": [
    "food_df_sorted['payment_method'].value_counts()"
   ]
  },
  {
   "cell_type": "markdown",
   "id": "e2e1a1eb-1926-4c5f-a14a-b0272850fdb0",
   "metadata": {},
   "source": [
    "**Qn15. The mean delivery time for any item will take more than 53 minutes. Using a significance level of 0.05, prove or disapprove this claim.** [modified the question to consider mean]"
   ]
  },
  {
   "cell_type": "code",
   "execution_count": 265,
   "id": "00bd5344-2084-463e-8b93-9c9ff03600e9",
   "metadata": {},
   "outputs": [
    {
     "name": "stdout",
     "output_type": "stream",
     "text": [
      "Do not reject the claim: Mean delivery time is more than 53\n"
     ]
    }
   ],
   "source": [
    "sample_size=1000 ## whole population, hence the limiting standard deviation by central limit theorem is std dev of the population\n",
    "#population is assumed to be normal because the sample is more than 30\n",
    "population_std=food_df_sorted['time_def'].std()\n",
    "population_mean=food_df_sorted['time_def'].mean()\n",
    "alpha=0.05\n",
    "z_score=(53-population_mean)/population_std\n",
    "p_value=stats.norm.cdf(z_score)\n",
    "\n",
    "if p_value < alpha:\n",
    "    print('Reject the claim: Mean delivery time is not more than 53')\n",
    "else:\n",
    "    print('Do not reject the claim: Mean delivery time is more than 53')"
   ]
  },
  {
   "cell_type": "markdown",
   "id": "9000f6d9-39cd-43ab-881b-397b9daae00b",
   "metadata": {},
   "source": [
    "**Qn16.What is the range within which the middle 50% ordering-delivery durations differ?**"
   ]
  },
  {
   "cell_type": "code",
   "execution_count": 271,
   "id": "bdc7b9a0-9f13-43ff-a4fb-54b83c007d37",
   "metadata": {},
   "outputs": [
    {
     "name": "stdout",
     "output_type": "stream",
     "text": [
      "The range is 46.0\n"
     ]
    }
   ],
   "source": [
    "q1,q3=np.percentile(food_df_sorted['time_def'],[25,75])\n",
    "inter_q=q3-q1\n",
    "print('The range is {}'.format(inter_q))"
   ]
  },
  {
   "cell_type": "markdown",
   "id": "38a3e5a3-a1d2-40b3-bac6-597dccd32792",
   "metadata": {},
   "source": [
    "**Qn17. Find the distribution of various payment methods whose Refunds/Chargebacks is more than zero.**"
   ]
  },
  {
   "cell_type": "code",
   "execution_count": 285,
   "id": "ec73bd19-a7fc-4e7b-976d-71a6ec5f4bfc",
   "metadata": {},
   "outputs": [
    {
     "name": "stdout",
     "output_type": "stream",
     "text": [
      "The  Refunds/Chargebacks are [0, 100, 50, 150]\n"
     ]
    }
   ],
   "source": [
    "cbacks=list(food_df_sorted['refunds_chargebacks'].value_counts().keys())\n",
    "print('The  Refunds/Chargebacks are {}'.format(cbacks))"
   ]
  },
  {
   "cell_type": "code",
   "execution_count": 306,
   "id": "fc40308b-3510-4bff-95f2-b5b540d37a54",
   "metadata": {},
   "outputs": [],
   "source": [
    "#We only consider those more than 0.\n",
    "#Create a function to display the values\n",
    "def distri_paymethod_cb_equal(number):\n",
    "    \"\"\"\n",
    "    This function creates a distribution frequency table for various payment methods whose checkback/refund is equal to the argument\n",
    "    arguement= number(a refund/chargeback value)\n",
    "    output = Frequency distribution for various payment methods\n",
    "    \"\"\"\n",
    "    distri=food_df_sorted[food_df_sorted['refunds_chargebacks']==number]['payment_method'].value_counts()\n",
    "    return distri\n",
    "\n",
    "def perc_distri_paymethod_cb_equal(number):\n",
    "    \"\"\"\n",
    "    This function creates a distribution frequency table for various payment methods whose checkback/refund is equal to the argument\n",
    "    arguement= number(a refund/chargeback value)\n",
    "    output = Frequency distribution for various payment methods\n",
    "    \"\"\"\n",
    "    sum_distr=food_df_sorted[food_df_sorted['refunds_chargebacks']==50]['payment_method'].value_counts().sum()\n",
    "    vals=food_df_sorted[food_df_sorted['refunds_chargebacks']==50]['payment_method'].value_counts()\n",
    "    perc_distri=round(100*vals/sum_distr,2)\n",
    "    return perc_distri\n",
    "\n",
    "#create a dataframe for the distribution values and percentage\n",
    "def df_distr_paymethod_chargeback_of(number):\n",
    "    \"\"\"\n",
    "    The function gets a number of refund/chargebacks, and creates a dictionary of payment methods, their frequencies and percentage frequencies\n",
    "    arguement= number(a refund/chargeback value)\n",
    "    output =  dataframe of f payment methods, their frequencies and percentage frequencies\n",
    "    \"\"\"\n",
    "    paymethod=distri_paymethod_cq_equal(number).keys().tolist()\n",
    "    frequency=distri_paymethod_cq_equal(number).values.tolist()\n",
    "    percentage_distribution=perc_distri_paymethod_cb_equal(number).values.tolist()\n",
    "    data={'paymethod':paymethod,'frequency':frequency,'percentage_distribution':percentage_distribution}\n",
    "    df=pd.DataFrame(data)\n",
    "    return df"
   ]
  },
  {
   "cell_type": "code",
   "execution_count": 307,
   "id": "dccee241-4eab-4b01-86af-02ebd4256b94",
   "metadata": {},
   "outputs": [
    {
     "data": {
      "text/html": [
       "<div>\n",
       "<style scoped>\n",
       "    .dataframe tbody tr th:only-of-type {\n",
       "        vertical-align: middle;\n",
       "    }\n",
       "\n",
       "    .dataframe tbody tr th {\n",
       "        vertical-align: top;\n",
       "    }\n",
       "\n",
       "    .dataframe thead th {\n",
       "        text-align: right;\n",
       "    }\n",
       "</style>\n",
       "<table border=\"1\" class=\"dataframe\">\n",
       "  <thead>\n",
       "    <tr style=\"text-align: right;\">\n",
       "      <th></th>\n",
       "      <th>paymethod</th>\n",
       "      <th>frequency</th>\n",
       "      <th>percentage_distribution</th>\n",
       "    </tr>\n",
       "  </thead>\n",
       "  <tbody>\n",
       "    <tr>\n",
       "      <th>0</th>\n",
       "      <td>Digital Wallet</td>\n",
       "      <td>33</td>\n",
       "      <td>35.87</td>\n",
       "    </tr>\n",
       "    <tr>\n",
       "      <th>1</th>\n",
       "      <td>Credit Card</td>\n",
       "      <td>33</td>\n",
       "      <td>35.87</td>\n",
       "    </tr>\n",
       "    <tr>\n",
       "      <th>2</th>\n",
       "      <td>Cash on Delivery</td>\n",
       "      <td>26</td>\n",
       "      <td>28.26</td>\n",
       "    </tr>\n",
       "  </tbody>\n",
       "</table>\n",
       "</div>"
      ],
      "text/plain": [
       "          paymethod  frequency  percentage_distribution\n",
       "0    Digital Wallet         33                    35.87\n",
       "1       Credit Card         33                    35.87\n",
       "2  Cash on Delivery         26                    28.26"
      ]
     },
     "execution_count": 307,
     "metadata": {},
     "output_type": "execute_result"
    }
   ],
   "source": [
    "#Distribution for refund or changeback of 50\n",
    "df_distr_paymethod_chargeback_of(50)"
   ]
  },
  {
   "cell_type": "code",
   "execution_count": 308,
   "id": "3f6b26f3-1f2e-435d-a797-e80d64756965",
   "metadata": {},
   "outputs": [
    {
     "data": {
      "text/html": [
       "<div>\n",
       "<style scoped>\n",
       "    .dataframe tbody tr th:only-of-type {\n",
       "        vertical-align: middle;\n",
       "    }\n",
       "\n",
       "    .dataframe tbody tr th {\n",
       "        vertical-align: top;\n",
       "    }\n",
       "\n",
       "    .dataframe thead th {\n",
       "        text-align: right;\n",
       "    }\n",
       "</style>\n",
       "<table border=\"1\" class=\"dataframe\">\n",
       "  <thead>\n",
       "    <tr style=\"text-align: right;\">\n",
       "      <th></th>\n",
       "      <th>paymethod</th>\n",
       "      <th>frequency</th>\n",
       "      <th>percentage_distribution</th>\n",
       "    </tr>\n",
       "  </thead>\n",
       "  <tbody>\n",
       "    <tr>\n",
       "      <th>0</th>\n",
       "      <td>Cash on Delivery</td>\n",
       "      <td>43</td>\n",
       "      <td>35.87</td>\n",
       "    </tr>\n",
       "    <tr>\n",
       "      <th>1</th>\n",
       "      <td>Credit Card</td>\n",
       "      <td>32</td>\n",
       "      <td>35.87</td>\n",
       "    </tr>\n",
       "    <tr>\n",
       "      <th>2</th>\n",
       "      <td>Digital Wallet</td>\n",
       "      <td>30</td>\n",
       "      <td>28.26</td>\n",
       "    </tr>\n",
       "  </tbody>\n",
       "</table>\n",
       "</div>"
      ],
      "text/plain": [
       "          paymethod  frequency  percentage_distribution\n",
       "0  Cash on Delivery         43                    35.87\n",
       "1       Credit Card         32                    35.87\n",
       "2    Digital Wallet         30                    28.26"
      ]
     },
     "execution_count": 308,
     "metadata": {},
     "output_type": "execute_result"
    }
   ],
   "source": [
    "#Distribution for refund or changeback of 100\n",
    "df_distr_paymethod_chargeback_of(100)"
   ]
  },
  {
   "cell_type": "code",
   "execution_count": 309,
   "id": "e745c229-1cb1-49e0-9a7e-c5fc6dafd2fb",
   "metadata": {},
   "outputs": [
    {
     "data": {
      "text/html": [
       "<div>\n",
       "<style scoped>\n",
       "    .dataframe tbody tr th:only-of-type {\n",
       "        vertical-align: middle;\n",
       "    }\n",
       "\n",
       "    .dataframe tbody tr th {\n",
       "        vertical-align: top;\n",
       "    }\n",
       "\n",
       "    .dataframe thead th {\n",
       "        text-align: right;\n",
       "    }\n",
       "</style>\n",
       "<table border=\"1\" class=\"dataframe\">\n",
       "  <thead>\n",
       "    <tr style=\"text-align: right;\">\n",
       "      <th></th>\n",
       "      <th>paymethod</th>\n",
       "      <th>frequency</th>\n",
       "      <th>percentage_distribution</th>\n",
       "    </tr>\n",
       "  </thead>\n",
       "  <tbody>\n",
       "    <tr>\n",
       "      <th>0</th>\n",
       "      <td>Credit Card</td>\n",
       "      <td>37</td>\n",
       "      <td>35.87</td>\n",
       "    </tr>\n",
       "    <tr>\n",
       "      <th>1</th>\n",
       "      <td>Cash on Delivery</td>\n",
       "      <td>32</td>\n",
       "      <td>35.87</td>\n",
       "    </tr>\n",
       "    <tr>\n",
       "      <th>2</th>\n",
       "      <td>Digital Wallet</td>\n",
       "      <td>19</td>\n",
       "      <td>28.26</td>\n",
       "    </tr>\n",
       "  </tbody>\n",
       "</table>\n",
       "</div>"
      ],
      "text/plain": [
       "          paymethod  frequency  percentage_distribution\n",
       "0       Credit Card         37                    35.87\n",
       "1  Cash on Delivery         32                    35.87\n",
       "2    Digital Wallet         19                    28.26"
      ]
     },
     "execution_count": 309,
     "metadata": {},
     "output_type": "execute_result"
    }
   ],
   "source": [
    "#Distribution for refund or changeback of 150\n",
    "df_distr_paymethod_chargeback_of(150)"
   ]
  },
  {
   "cell_type": "code",
   "execution_count": 310,
   "id": "e7ecf9c3-dc60-49d0-afd3-5d1618d208bc",
   "metadata": {},
   "outputs": [
    {
     "data": {
      "text/html": [
       "<div>\n",
       "<style scoped>\n",
       "    .dataframe tbody tr th:only-of-type {\n",
       "        vertical-align: middle;\n",
       "    }\n",
       "\n",
       "    .dataframe tbody tr th {\n",
       "        vertical-align: top;\n",
       "    }\n",
       "\n",
       "    .dataframe thead th {\n",
       "        text-align: right;\n",
       "    }\n",
       "</style>\n",
       "<table border=\"1\" class=\"dataframe\">\n",
       "  <thead>\n",
       "    <tr style=\"text-align: right;\">\n",
       "      <th></th>\n",
       "      <th>paymethod</th>\n",
       "      <th>frequency</th>\n",
       "      <th>percentage_distribution</th>\n",
       "    </tr>\n",
       "  </thead>\n",
       "  <tbody>\n",
       "    <tr>\n",
       "      <th>0</th>\n",
       "      <td>Cash on Delivery</td>\n",
       "      <td>256</td>\n",
       "      <td>35.87</td>\n",
       "    </tr>\n",
       "    <tr>\n",
       "      <th>1</th>\n",
       "      <td>Credit Card</td>\n",
       "      <td>235</td>\n",
       "      <td>35.87</td>\n",
       "    </tr>\n",
       "    <tr>\n",
       "      <th>2</th>\n",
       "      <td>Digital Wallet</td>\n",
       "      <td>224</td>\n",
       "      <td>28.26</td>\n",
       "    </tr>\n",
       "  </tbody>\n",
       "</table>\n",
       "</div>"
      ],
      "text/plain": [
       "          paymethod  frequency  percentage_distribution\n",
       "0  Cash on Delivery        256                    35.87\n",
       "1       Credit Card        235                    35.87\n",
       "2    Digital Wallet        224                    28.26"
      ]
     },
     "execution_count": 310,
     "metadata": {},
     "output_type": "execute_result"
    }
   ],
   "source": [
    "#Distribution for refund or changeback of 0\n",
    "df_distr_paymethod_chargeback_of(0)"
   ]
  },
  {
   "cell_type": "code",
   "execution_count": null,
   "id": "6f0eafd6-6562-4b50-abb7-936cb3b178ae",
   "metadata": {},
   "outputs": [],
   "source": []
  }
 ],
 "metadata": {
  "kernelspec": {
   "display_name": "Python 3 (ipykernel)",
   "language": "python",
   "name": "python3"
  },
  "language_info": {
   "codemirror_mode": {
    "name": "ipython",
    "version": 3
   },
   "file_extension": ".py",
   "mimetype": "text/x-python",
   "name": "python",
   "nbconvert_exporter": "python",
   "pygments_lexer": "ipython3",
   "version": "3.11.7"
  }
 },
 "nbformat": 4,
 "nbformat_minor": 5
}
